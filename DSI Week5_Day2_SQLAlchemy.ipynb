{
 "cells": [
  {
   "cell_type": "code",
   "execution_count": 5,
   "metadata": {},
   "outputs": [],
   "source": [
    "from sqlalchemy import create_engine, MetaData, and_, or_, desc\n",
    "from sqlalchemy import Table, Column, Integer, String, ForeignKey\n",
    "from sqlalchemy.sql import text, select, insert, update, delete, func"
   ]
  },
  {
   "cell_type": "markdown",
   "metadata": {},
   "source": [
    "#### Creer le chemin vers le document "
   ]
  },
  {
   "cell_type": "code",
   "execution_count": 6,
   "metadata": {},
   "outputs": [],
   "source": [
    "path = \"sqlite:////Users/digitalisdiana/Downloads/chinook.db\""
   ]
  },
  {
   "cell_type": "markdown",
   "metadata": {},
   "source": [
    "#### Creation de la variable"
   ]
  },
  {
   "cell_type": "code",
   "execution_count": 7,
   "metadata": {},
   "outputs": [],
   "source": [
    "engine = create_engine(path, echo = False)"
   ]
  },
  {
   "cell_type": "code",
   "execution_count": 8,
   "metadata": {},
   "outputs": [
    {
     "data": {
      "text/plain": [
       "Engine(sqlite:////Users/digitalisdiana/Downloads/chinook.db)"
      ]
     },
     "execution_count": 8,
     "metadata": {},
     "output_type": "execute_result"
    }
   ],
   "source": [
    "engine"
   ]
  },
  {
   "cell_type": "markdown",
   "metadata": {},
   "source": [
    "#### Context Manager : Python"
   ]
  },
  {
   "cell_type": "code",
   "execution_count": 9,
   "metadata": {
    "scrolled": true
   },
   "outputs": [
    {
     "name": "stdout",
     "output_type": "stream",
     "text": [
      "Result: (5, 'Big Ones', 3)\n"
     ]
    }
   ],
   "source": [
    "with engine.connect() as connection:\n",
    "    query = text(\"SELECT * FROM Albums WHERE AlbumId = 5\")\n",
    "    \n",
    "    #requete de stockage\n",
    "    resultset = connection.execute(query)\n",
    "    \n",
    "    #recuperation d'un resultat\n",
    "    data = resultset.fetchone()\n",
    "    print(f\"Result: {data}\")"
   ]
  },
  {
   "cell_type": "code",
   "execution_count": 10,
   "metadata": {},
   "outputs": [
    {
     "name": "stdout",
     "output_type": "stream",
     "text": [
      "Result: (5, 'Big Ones', 3)\n"
     ]
    }
   ],
   "source": [
    "with engine.connect() as connection:\n",
    "    #Requete parametree {with albumid as parametre}\n",
    "    query = text(\"SELECT * FROM Albums WHERE AlbumId = :AlbumId\")\n",
    "    \n",
    "     #requete de stockage\n",
    "    resultset = connection.execute(query, AlbumId = 5)\n",
    "    data = resultset.fetchone()\n",
    "    print(f\"Result: {data}\")"
   ]
  },
  {
   "cell_type": "code",
   "execution_count": 11,
   "metadata": {},
   "outputs": [
    {
     "name": "stderr",
     "output_type": "stream",
     "text": [
      "Exception closing connection <sqlite3.Connection object at 0x10a21bab0>\n",
      "Traceback (most recent call last):\n",
      "  File \"/Users/digitalisdiana/anaconda3/lib/python3.6/site-packages/sqlalchemy/pool.py\", line 317, in _close_connection\n",
      "    self._dialect.do_close(connection)\n",
      "  File \"/Users/digitalisdiana/anaconda3/lib/python3.6/site-packages/sqlalchemy/engine/default.py\", line 463, in do_close\n",
      "    dbapi_connection.close()\n",
      "sqlite3.OperationalError: unable to close due to unfinalized statements or unfinished backups\n"
     ]
    },
    {
     "name": "stdout",
     "output_type": "stream",
     "text": [
      "Result: (1, 'For Those About To Rock We Salute You', 1)\n",
      "Result: (2, 'Balls to the Wall', 2)\n",
      "Result: (3, 'Restless and Wild', 2)\n",
      "Result: (4, 'Let There Be Rock', 1)\n",
      "Result: (5, 'Big Ones', 3)\n",
      "Result: (6, 'Jagged Little Pill', 4)\n",
      "Result: (7, 'Facelift', 5)\n",
      "Result: (8, 'Warner 25 Anos', 6)\n",
      "Result: (9, 'Plays Metallica By Four Cellos', 7)\n",
      "Result: (10, 'Audioslave', 8)\n",
      "Result: (11, 'Out Of Exile', 8)\n",
      "Result: (12, 'BackBeat Soundtrack', 9)\n",
      "Result: (13, 'The Best Of Billy Cobham', 10)\n",
      "Result: (14, 'Alcohol Fueled Brewtality Live! [Disc 1]', 11)\n",
      "Result: (15, 'Alcohol Fueled Brewtality Live! [Disc 2]', 11)\n",
      "Result: (16, 'Black Sabbath', 12)\n",
      "Result: (17, 'Black Sabbath Vol. 4 (Remaster)', 12)\n",
      "Result: (18, 'Body Count', 13)\n"
     ]
    }
   ],
   "source": [
    "with engine.connect() as connection:\n",
    "    #Requete parametree {with albumid as parametre}\n",
    "    query = text(\"SELECT * FROM Albums WHERE AlbumId = :AlbumId\")\n",
    "    \n",
    "     #requete de stockage\n",
    "    for AlbumId in range (1,19):\n",
    "        resultset = connection.execute(query, AlbumId = AlbumId)\n",
    "        data = resultset.fetchone()\n",
    "        print(f\"Result: {data}\")"
   ]
  },
  {
   "cell_type": "code",
   "execution_count": 12,
   "metadata": {},
   "outputs": [],
   "source": [
    "def rec_data(Id):\n",
    "    \n",
    "    with engine.connect() as connection:\n",
    "        #Requete parametree {with albumid as parametre}\n",
    "        query = text(\"SELECT * FROM Albums WHERE AlbumId = :AlbumId\")\n",
    "\n",
    "         #requete de stockage\n",
    "        resultset = connection.execute(query, AlbumId = Id)\n",
    "        data = resultset.fetchone()\n",
    "        print(f\"Result: {data}\")"
   ]
  },
  {
   "cell_type": "code",
   "execution_count": 13,
   "metadata": {},
   "outputs": [
    {
     "name": "stdout",
     "output_type": "stream",
     "text": [
      "Result: (3, 'Restless and Wild', 2)\n"
     ]
    }
   ],
   "source": [
    "rec_data(3)"
   ]
  },
  {
   "cell_type": "code",
   "execution_count": 14,
   "metadata": {},
   "outputs": [
    {
     "name": "stdout",
     "output_type": "stream",
     "text": [
      "1\n"
     ]
    }
   ],
   "source": [
    "with engine.connect() as connection:\n",
    "    #Requete parametree {with albumid as parametre}\n",
    "    query = text(\"INSERT INTO Artists(Name) VALUES (:Name)\")\n",
    "    \n",
    "     #requete de stockage\n",
    "    resultset = connection.execute(query, Name = \"Foobar\")\n",
    "    print(resultset.rowcount)"
   ]
  },
  {
   "cell_type": "code",
   "execution_count": 15,
   "metadata": {},
   "outputs": [
    {
     "name": "stdout",
     "output_type": "stream",
     "text": [
      "1\n"
     ]
    }
   ],
   "source": [
    "with engine.connect() as connection:\n",
    "    query = text(\"UPDATE Artists SET Name = :Name WHERE ArtistId = :ArtistId\")\n",
    "    resultset = connection.execute(query, Name = \"Baz\", ArtistId = 3)\n",
    "    print(resultset.rowcount)"
   ]
  },
  {
   "cell_type": "markdown",
   "metadata": {},
   "source": [
    "# New way of doing things"
   ]
  },
  {
   "cell_type": "code",
   "execution_count": 16,
   "metadata": {},
   "outputs": [],
   "source": [
    "metadata = MetaData()\n",
    "metadata.bind = engine\n",
    "metadata.reflect()"
   ]
  },
  {
   "cell_type": "code",
   "execution_count": 17,
   "metadata": {},
   "outputs": [],
   "source": [
    "employees = Table(\"employees\", metadata, autoload = True)"
   ]
  },
  {
   "cell_type": "code",
   "execution_count": 18,
   "metadata": {},
   "outputs": [
    {
     "name": "stdout",
     "output_type": "stream",
     "text": [
      "(1, 'Adams', 'Andrew', 'General Manager', None, datetime.datetime(1962, 2, 18, 0, 0), datetime.datetime(2002, 8, 14, 0, 0), '11120 Jasper Ave NW', 'Edmonton', 'AB', 'Canada', 'T5K 2N1', '+1 (780) 428-9482', '+1 (780) 428-3457', 'andrew@chinookcorp.com')\n",
      "(2, 'Edwards', 'Nancy', 'Sales Manager', 1, datetime.datetime(1958, 12, 8, 0, 0), datetime.datetime(2002, 5, 1, 0, 0), '825 8 Ave SW', 'Calgary', 'AB', 'Canada', 'T2P 2T3', '+1 (403) 262-3443', '+1 (403) 262-3322', 'nancy@chinookcorp.com')\n",
      "(3, 'Peacock', 'Jane', 'Sales Support Agent', 2, datetime.datetime(1973, 8, 29, 0, 0), datetime.datetime(2002, 4, 1, 0, 0), '1111 6 Ave SW', 'Calgary', 'AB', 'Canada', 'T2P 5M5', '+1 (403) 262-3443', '+1 (403) 262-6712', 'jane@chinookcorp.com')\n",
      "(4, 'Park', 'Margaret', 'Sales Support Agent', 2, datetime.datetime(1947, 9, 19, 0, 0), datetime.datetime(2003, 5, 3, 0, 0), '683 10 Street SW', 'Calgary', 'AB', 'Canada', 'T2P 5G3', '+1 (403) 263-4423', '+1 (403) 263-4289', 'margaret@chinookcorp.com')\n",
      "(5, 'Johnson', 'Steve', 'Sales Support Agent', 2, datetime.datetime(1965, 3, 3, 0, 0), datetime.datetime(2003, 10, 17, 0, 0), '7727B 41 Ave', 'Calgary', 'AB', 'Canada', 'T3B 1Y7', '1 (780) 836-9987', '1 (780) 836-9543', 'steve@chinookcorp.com')\n"
     ]
    }
   ],
   "source": [
    "with engine.connect() as connection:\n",
    "    query = select([employees]).limit(5)\n",
    "    resultset = connection.execute(query)\n",
    "    data = resultset.fetchall()\n",
    "    for l in data:\n",
    "        print(f\"{l}\")"
   ]
  },
  {
   "cell_type": "code",
   "execution_count": 19,
   "metadata": {},
   "outputs": [
    {
     "name": "stdout",
     "output_type": "stream",
     "text": [
      "('Robert', 'King')\n"
     ]
    }
   ],
   "source": [
    "with engine.connect() as connection:\n",
    "    columns = [employees.c.FirstName, employees.c.LastName]\n",
    "    query = select(columns)\n",
    "    query = query.where(employees.c.FirstName.like(\"%o%\"))\n",
    "    resultset = connection.execute(query)\n",
    "    data = resultset.fetchall()\n",
    "    for l in data:\n",
    "        print(f\"{l}\")"
   ]
  },
  {
   "cell_type": "code",
   "execution_count": 21,
   "metadata": {},
   "outputs": [
    {
     "name": "stdout",
     "output_type": "stream",
     "text": [
      "('Steve', 'Johnson')\n"
     ]
    }
   ],
   "source": [
    "with engine.connect() as connection:\n",
    "    columns = [employees.c.FirstName, employees.c.LastName]\n",
    "    query = select(columns)\n",
    "    query = query.where(employees.c.EmployeeId==5)\n",
    "    resultset = connection.execute(query)\n",
    "    data = resultset.fetchall()\n",
    "    for l in data:\n",
    "        print(f\"{l}\")"
   ]
  },
  {
   "cell_type": "code",
   "execution_count": 23,
   "metadata": {},
   "outputs": [
    {
     "name": "stdout",
     "output_type": "stream",
     "text": [
      "('Robert', 'King')\n"
     ]
    }
   ],
   "source": [
    "with engine.connect() as connection:\n",
    "    columns = [employees.c.FirstName, employees.c.LastName]\n",
    "    query = select(columns) \n",
    "    query = query.where(employees.c.FirstName.like(\"%o%\")) \n",
    "    resultset = connection.execute(query)\n",
    "    data = resultset.fetchall()\n",
    "    for l in data:\n",
    "        print(f\"{l}\")"
   ]
  },
  {
   "cell_type": "code",
   "execution_count": 25,
   "metadata": {},
   "outputs": [
    {
     "name": "stdout",
     "output_type": "stream",
     "text": [
      "('Robert', 'King')\n"
     ]
    }
   ],
   "source": [
    "with engine.connect() as connection:\n",
    "    columns = [employees.c.FirstName, employees.c.LastName]\n",
    "    #query = select(columns) \n",
    "    query = select(columns).where(employees.c.FirstName.like(\"%o%\")) \n",
    "    resultset = connection.execute(query)\n",
    "    data = resultset.fetchall()\n",
    "    for l in data:\n",
    "        print(f\"{l}\")"
   ]
  },
  {
   "cell_type": "code",
   "execution_count": 27,
   "metadata": {},
   "outputs": [
    {
     "name": "stdout",
     "output_type": "stream",
     "text": [
      "('Andrew', 'Adams')\n",
      "('Nancy', 'Edwards')\n",
      "('Jane', 'Peacock')\n",
      "('Margaret', 'Park')\n",
      "('Michael', 'Mitchell')\n",
      "('Robert', 'King')\n"
     ]
    }
   ],
   "source": [
    "with engine.connect() as connection:\n",
    "   #columns = [employees.c.FirstName, employees.c.LastName]\n",
    "    #clauses = or_(employees.c.FirstName.in_([\"Andrew\", \"Nancy\"]), employees.c.PostalCode.like(\"%5%\"))    \n",
    "    #query = select([employees.c.FirstName, employees.c.LastName])\n",
    "    query = select([employees.c.FirstName, employees.c.LastName]).where(or_(employees.c.FirstName.in_([\"Andrew\", \"Nancy\"]), employees.c.PostalCode.like(\"%5%\")))\n",
    "    resultset = connection.execute(query)\n",
    "    data = resultset.fetchall()\n",
    "    for l in data:\n",
    "        print(f\"{l}\")"
   ]
  },
  {
   "cell_type": "code",
   "execution_count": 28,
   "metadata": {},
   "outputs": [
    {
     "name": "stdout",
     "output_type": "stream",
     "text": [
      "('Robert', 'King')\n",
      "('Michael', 'Mitchell')\n",
      "('Margaret', 'Park')\n",
      "('Jane', 'Peacock')\n",
      "('Nancy', 'Edwards')\n",
      "('Andrew', 'Adams')\n"
     ]
    }
   ],
   "source": [
    "with engine.connect() as connection:\n",
    "    #columns = [employees.c.FirstName, employees.c.LastName]\n",
    "    #clauses = or_(employees.c.FirstName.in_([\"Andrew\", \"Nancy\"]), employees.c.PostalCode.like(\"%5%\"))    \n",
    "    #query = select([employees.c.FirstName, employees.c.LastName])\n",
    "    #query = select([employees.c.FirstName, employees.c.LastName]).where(or_(employees.c.FirstName.in_([\"Andrew\", \"Nancy\"]), employees.c.PostalCode.like(\"%5%\")))    \n",
    "    #query = select([employees.c.FirstName, employees.c.LastName]).where(or_(employees.c.FirstName.in_([\"Andrew\", \"Nancy\"]), employees.c.PostalCode.like(\"%5%\"))).order_by(desc(employees.c.EmployeeId))    \n",
    "    #resultset = connection.execute(select([employees.c.FirstName, employees.c.LastName]).where(or_(employees.c.FirstName.in_([\"Andrew\", \"Nancy\"]), employees.c.PostalCode.like(\"%5%\"))).order_by(desc(employees.c.EmployeeId)))\n",
    "    data = connection.execute(select([employees.c.FirstName, employees.c.LastName]).where(or_(employees.c.FirstName.in_([\"Andrew\", \"Nancy\"]), employees.c.PostalCode.like(\"%5%\"))).order_by(desc(employees.c.EmployeeId))).fetchall()\n",
    "    for l in data:\n",
    "        print(f\"{l}\")"
   ]
  },
  {
   "cell_type": "code",
   "execution_count": 40,
   "metadata": {},
   "outputs": [],
   "source": [
    "#UPDATE Command\n",
    "with engine.connect() as connection:\n",
    "    query = update(employees).values(LastName = \"Samuels\").where(employees.c.EmployeeId == 2)\n",
    "    connection.execute(query)\n",
    "#DELETE Command\n",
    "with engine.connect() as connection:\n",
    "    query = delete(employees)\n",
    "    query = query.where(employees.c.LastName.like(\"%ar\"))\n",
    "    results = connection.execute(query)"
   ]
  },
  {
   "cell_type": "code",
   "execution_count": 37,
   "metadata": {},
   "outputs": [],
   "source": [
    "#INSERT Command\n",
    "with engine.connect() as connection:\n",
    "    query = insert(employees).values(FirstName='foo', LastName=\"bar\")\n",
    "    connection.execute(query)"
   ]
  },
  {
   "cell_type": "markdown",
   "metadata": {},
   "source": [
    "###### Verification"
   ]
  },
  {
   "cell_type": "code",
   "execution_count": 39,
   "metadata": {},
   "outputs": [
    {
     "name": "stdout",
     "output_type": "stream",
     "text": [
      "[(13, 'foo', 'bar')]\n"
     ]
    }
   ],
   "source": [
    "#INSERT Command\n",
    "with engine.connect() as connection:\n",
    "    columns = [employees.c.EmployeeId, employees.c.FirstName, employees.c.LastName]\n",
    "    query = select(columns).where(employees.c.FirstName == \"foo\" and employees.c.LastName == \"bar\")\n",
    "    resultset = connection.execute(query)\n",
    "    data = resultset.fetchall()\n",
    "    print(data)"
   ]
  }
 ],
 "metadata": {
  "kernelspec": {
   "display_name": "Python 3",
   "language": "python",
   "name": "python3"
  },
  "language_info": {
   "codemirror_mode": {
    "name": "ipython",
    "version": 3
   },
   "file_extension": ".py",
   "mimetype": "text/x-python",
   "name": "python",
   "nbconvert_exporter": "python",
   "pygments_lexer": "ipython3",
   "version": "3.6.8"
  }
 },
 "nbformat": 4,
 "nbformat_minor": 2
}
