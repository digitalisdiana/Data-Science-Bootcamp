{
 "cells": [
  {
   "cell_type": "markdown",
   "metadata": {},
   "source": [
    "# Exercises - Digits ✍️"
   ]
  },
  {
   "cell_type": "markdown",
   "metadata": {},
   "source": [
    "As you already know from now, MNIST Digits dataset is one the most used kind of dataset for hands-on data science training.\n",
    "\n",
    "Back in the 90's, some great algorithms were designed on this kind dataset, like the famous LeNet-5.\n",
    "\n",
    "Today we will use it to do PCA, t-SNE as well as classification!"
   ]
  },
  {
   "cell_type": "markdown",
   "metadata": {},
   "source": [
    "---"
   ]
  },
  {
   "cell_type": "markdown",
   "metadata": {},
   "source": [
    "![](https://images.unsplash.com/photo-1471107340929-a87cd0f5b5f3?ixlib=rb-1.2.1&ixid=eyJhcHBfaWQiOjEyMDd9&w=1000&q=80)"
   ]
  },
  {
   "cell_type": "markdown",
   "metadata": {},
   "source": [
    "**Q1.** Add here all the libraries needed along the exercise."
   ]
  },
  {
   "cell_type": "code",
   "execution_count": 59,
   "metadata": {},
   "outputs": [],
   "source": [
    "# TODO: Import the needed libraries\n",
    "import numpy as np\n",
    "import pandas as pd\n",
    "import seaborn as sns\n",
    "import matplotlib.pyplot as plt\n",
    "\n",
    "from sklearn import decomposition\n",
    "from sklearn.manifold import TSNE\n",
    "from sklearn.decomposition import PCA\n",
    "from mpl_toolkits.mplot3d import Axes3D\n",
    "from sklearn.datasets import load_digits\n",
    "from sklearn.metrics import accuracy_score\n",
    "from sklearn.linear_model import LogisticRegression\n",
    "from sklearn.model_selection import train_test_split\n"
   ]
  },
  {
   "cell_type": "markdown",
   "metadata": {},
   "source": [
    "**Q2.** Now we will load the MNIST dataset. You can find it in scikit learn, using `datasets.load_digits()`\n",
    "\n",
    "Just as we did for the Iris dataset, split the features part in ``X`` and the target part in `y`."
   ]
  },
  {
   "cell_type": "code",
   "execution_count": 5,
   "metadata": {},
   "outputs": [
    {
     "data": {
      "text/plain": [
       "{'data': array([[ 0.,  0.,  5., ...,  0.,  0.,  0.],\n",
       "        [ 0.,  0.,  0., ..., 10.,  0.,  0.],\n",
       "        [ 0.,  0.,  0., ..., 16.,  9.,  0.],\n",
       "        ...,\n",
       "        [ 0.,  0.,  1., ...,  6.,  0.,  0.],\n",
       "        [ 0.,  0.,  2., ..., 12.,  0.,  0.],\n",
       "        [ 0.,  0., 10., ..., 12.,  1.,  0.]]),\n",
       " 'target': array([0, 1, 2, ..., 8, 9, 8]),\n",
       " 'frame': None,\n",
       " 'feature_names': ['pixel_0_0',\n",
       "  'pixel_0_1',\n",
       "  'pixel_0_2',\n",
       "  'pixel_0_3',\n",
       "  'pixel_0_4',\n",
       "  'pixel_0_5',\n",
       "  'pixel_0_6',\n",
       "  'pixel_0_7',\n",
       "  'pixel_1_0',\n",
       "  'pixel_1_1',\n",
       "  'pixel_1_2',\n",
       "  'pixel_1_3',\n",
       "  'pixel_1_4',\n",
       "  'pixel_1_5',\n",
       "  'pixel_1_6',\n",
       "  'pixel_1_7',\n",
       "  'pixel_2_0',\n",
       "  'pixel_2_1',\n",
       "  'pixel_2_2',\n",
       "  'pixel_2_3',\n",
       "  'pixel_2_4',\n",
       "  'pixel_2_5',\n",
       "  'pixel_2_6',\n",
       "  'pixel_2_7',\n",
       "  'pixel_3_0',\n",
       "  'pixel_3_1',\n",
       "  'pixel_3_2',\n",
       "  'pixel_3_3',\n",
       "  'pixel_3_4',\n",
       "  'pixel_3_5',\n",
       "  'pixel_3_6',\n",
       "  'pixel_3_7',\n",
       "  'pixel_4_0',\n",
       "  'pixel_4_1',\n",
       "  'pixel_4_2',\n",
       "  'pixel_4_3',\n",
       "  'pixel_4_4',\n",
       "  'pixel_4_5',\n",
       "  'pixel_4_6',\n",
       "  'pixel_4_7',\n",
       "  'pixel_5_0',\n",
       "  'pixel_5_1',\n",
       "  'pixel_5_2',\n",
       "  'pixel_5_3',\n",
       "  'pixel_5_4',\n",
       "  'pixel_5_5',\n",
       "  'pixel_5_6',\n",
       "  'pixel_5_7',\n",
       "  'pixel_6_0',\n",
       "  'pixel_6_1',\n",
       "  'pixel_6_2',\n",
       "  'pixel_6_3',\n",
       "  'pixel_6_4',\n",
       "  'pixel_6_5',\n",
       "  'pixel_6_6',\n",
       "  'pixel_6_7',\n",
       "  'pixel_7_0',\n",
       "  'pixel_7_1',\n",
       "  'pixel_7_2',\n",
       "  'pixel_7_3',\n",
       "  'pixel_7_4',\n",
       "  'pixel_7_5',\n",
       "  'pixel_7_6',\n",
       "  'pixel_7_7'],\n",
       " 'target_names': array([0, 1, 2, 3, 4, 5, 6, 7, 8, 9]),\n",
       " 'images': array([[[ 0.,  0.,  5., ...,  1.,  0.,  0.],\n",
       "         [ 0.,  0., 13., ..., 15.,  5.,  0.],\n",
       "         [ 0.,  3., 15., ..., 11.,  8.,  0.],\n",
       "         ...,\n",
       "         [ 0.,  4., 11., ..., 12.,  7.,  0.],\n",
       "         [ 0.,  2., 14., ..., 12.,  0.,  0.],\n",
       "         [ 0.,  0.,  6., ...,  0.,  0.,  0.]],\n",
       " \n",
       "        [[ 0.,  0.,  0., ...,  5.,  0.,  0.],\n",
       "         [ 0.,  0.,  0., ...,  9.,  0.,  0.],\n",
       "         [ 0.,  0.,  3., ...,  6.,  0.,  0.],\n",
       "         ...,\n",
       "         [ 0.,  0.,  1., ...,  6.,  0.,  0.],\n",
       "         [ 0.,  0.,  1., ...,  6.,  0.,  0.],\n",
       "         [ 0.,  0.,  0., ..., 10.,  0.,  0.]],\n",
       " \n",
       "        [[ 0.,  0.,  0., ..., 12.,  0.,  0.],\n",
       "         [ 0.,  0.,  3., ..., 14.,  0.,  0.],\n",
       "         [ 0.,  0.,  8., ..., 16.,  0.,  0.],\n",
       "         ...,\n",
       "         [ 0.,  9., 16., ...,  0.,  0.,  0.],\n",
       "         [ 0.,  3., 13., ..., 11.,  5.,  0.],\n",
       "         [ 0.,  0.,  0., ..., 16.,  9.,  0.]],\n",
       " \n",
       "        ...,\n",
       " \n",
       "        [[ 0.,  0.,  1., ...,  1.,  0.,  0.],\n",
       "         [ 0.,  0., 13., ...,  2.,  1.,  0.],\n",
       "         [ 0.,  0., 16., ..., 16.,  5.,  0.],\n",
       "         ...,\n",
       "         [ 0.,  0., 16., ..., 15.,  0.,  0.],\n",
       "         [ 0.,  0., 15., ..., 16.,  0.,  0.],\n",
       "         [ 0.,  0.,  2., ...,  6.,  0.,  0.]],\n",
       " \n",
       "        [[ 0.,  0.,  2., ...,  0.,  0.,  0.],\n",
       "         [ 0.,  0., 14., ..., 15.,  1.,  0.],\n",
       "         [ 0.,  4., 16., ..., 16.,  7.,  0.],\n",
       "         ...,\n",
       "         [ 0.,  0.,  0., ..., 16.,  2.,  0.],\n",
       "         [ 0.,  0.,  4., ..., 16.,  2.,  0.],\n",
       "         [ 0.,  0.,  5., ..., 12.,  0.,  0.]],\n",
       " \n",
       "        [[ 0.,  0., 10., ...,  1.,  0.,  0.],\n",
       "         [ 0.,  2., 16., ...,  1.,  0.,  0.],\n",
       "         [ 0.,  0., 15., ..., 15.,  0.,  0.],\n",
       "         ...,\n",
       "         [ 0.,  4., 16., ..., 16.,  6.,  0.],\n",
       "         [ 0.,  8., 16., ..., 16.,  8.,  0.],\n",
       "         [ 0.,  1.,  8., ..., 12.,  1.,  0.]]]),\n",
       " 'DESCR': \".. _digits_dataset:\\n\\nOptical recognition of handwritten digits dataset\\n--------------------------------------------------\\n\\n**Data Set Characteristics:**\\n\\n    :Number of Instances: 1797\\n    :Number of Attributes: 64\\n    :Attribute Information: 8x8 image of integer pixels in the range 0..16.\\n    :Missing Attribute Values: None\\n    :Creator: E. Alpaydin (alpaydin '@' boun.edu.tr)\\n    :Date: July; 1998\\n\\nThis is a copy of the test set of the UCI ML hand-written digits datasets\\nhttps://archive.ics.uci.edu/ml/datasets/Optical+Recognition+of+Handwritten+Digits\\n\\nThe data set contains images of hand-written digits: 10 classes where\\neach class refers to a digit.\\n\\nPreprocessing programs made available by NIST were used to extract\\nnormalized bitmaps of handwritten digits from a preprinted form. From a\\ntotal of 43 people, 30 contributed to the training set and different 13\\nto the test set. 32x32 bitmaps are divided into nonoverlapping blocks of\\n4x4 and the number of on pixels are counted in each block. This generates\\nan input matrix of 8x8 where each element is an integer in the range\\n0..16. This reduces dimensionality and gives invariance to small\\ndistortions.\\n\\nFor info on NIST preprocessing routines, see M. D. Garris, J. L. Blue, G.\\nT. Candela, D. L. Dimmick, J. Geist, P. J. Grother, S. A. Janet, and C.\\nL. Wilson, NIST Form-Based Handprint Recognition System, NISTIR 5469,\\n1994.\\n\\n.. topic:: References\\n\\n  - C. Kaynak (1995) Methods of Combining Multiple Classifiers and Their\\n    Applications to Handwritten Digit Recognition, MSc Thesis, Institute of\\n    Graduate Studies in Science and Engineering, Bogazici University.\\n  - E. Alpaydin, C. Kaynak (1998) Cascading Classifiers, Kybernetika.\\n  - Ken Tang and Ponnuthurai N. Suganthan and Xi Yao and A. Kai Qin.\\n    Linear dimensionalityreduction using relevance weighted LDA. School of\\n    Electrical and Electronic Engineering Nanyang Technological University.\\n    2005.\\n  - Claudio Gentile. A New Approximate Maximal Margin Classification\\n    Algorithm. NIPS. 2000.\\n\"}"
      ]
     },
     "execution_count": 5,
     "metadata": {},
     "output_type": "execute_result"
    }
   ],
   "source": [
    "# TODO: load the MNIST dataset and split it into X and y\n",
    "digits = load_digits()\n",
    "digits"
   ]
  },
  {
   "cell_type": "markdown",
   "metadata": {},
   "source": [
    "**Q3.** Play with the dataset a bit: what is the shape of the data? How many samples are there? What kind of data is this? What is the range of the feature values? How many classes are there?"
   ]
  },
  {
   "cell_type": "code",
   "execution_count": 6,
   "metadata": {},
   "outputs": [
    {
     "data": {
      "text/plain": [
       "(1797, 8, 8)"
      ]
     },
     "execution_count": 6,
     "metadata": {},
     "output_type": "execute_result"
    }
   ],
   "source": [
    "digits.images.shape"
   ]
  },
  {
   "cell_type": "code",
   "execution_count": 7,
   "metadata": {},
   "outputs": [
    {
     "data": {
      "text/plain": [
       "(8, 8)"
      ]
     },
     "execution_count": 7,
     "metadata": {},
     "output_type": "execute_result"
    }
   ],
   "source": [
    "# Accessing one image\n",
    "image_0 = digits.images[0]\n",
    "image_0.shape"
   ]
  },
  {
   "cell_type": "code",
   "execution_count": 8,
   "metadata": {},
   "outputs": [
    {
     "data": {
      "text/plain": [
       "array([[ 0.,  0.,  5., 13.,  9.,  1.,  0.,  0.],\n",
       "       [ 0.,  0., 13., 15., 10., 15.,  5.,  0.],\n",
       "       [ 0.,  3., 15.,  2.,  0., 11.,  8.,  0.],\n",
       "       [ 0.,  4., 12.,  0.,  0.,  8.,  8.,  0.],\n",
       "       [ 0.,  5.,  8.,  0.,  0.,  9.,  8.,  0.],\n",
       "       [ 0.,  4., 11.,  0.,  1., 12.,  7.,  0.],\n",
       "       [ 0.,  2., 14.,  5., 10., 12.,  0.,  0.],\n",
       "       [ 0.,  0.,  6., 13., 10.,  0.,  0.,  0.]])"
      ]
     },
     "execution_count": 8,
     "metadata": {},
     "output_type": "execute_result"
    }
   ],
   "source": [
    "image_0"
   ]
  },
  {
   "cell_type": "code",
   "execution_count": 9,
   "metadata": {},
   "outputs": [
    {
     "data": {
      "text/plain": [
       "<matplotlib.image.AxesImage at 0x1a10d4e710>"
      ]
     },
     "execution_count": 9,
     "metadata": {},
     "output_type": "execute_result"
    },
    {
     "data": {
      "image/png": "[encoded data removed]",
      "text/plain": [
       "<Figure size 432x288 with 1 Axes>"
      ]
     },
     "metadata": {},
     "output_type": "display_data"
    }
   ],
   "source": [
    "#Visualize\n",
    "plt.imshow(image_0)"
   ]
  },
  {
   "cell_type": "code",
   "execution_count": 10,
   "metadata": {},
   "outputs": [
    {
     "data": {
      "text/plain": [
       "(1797, 64)"
      ]
     },
     "execution_count": 10,
     "metadata": {},
     "output_type": "execute_result"
    }
   ],
   "source": [
    "digits.data.shape"
   ]
  },
  {
   "cell_type": "code",
   "execution_count": 11,
   "metadata": {},
   "outputs": [
    {
     "data": {
      "text/plain": [
       "array([ 0.,  0.,  5., 13.,  9.,  1.,  0.,  0.,  0.,  0., 13., 15., 10.,\n",
       "       15.,  5.,  0.,  0.,  3., 15.,  2.,  0., 11.,  8.,  0.,  0.,  4.,\n",
       "       12.,  0.,  0.,  8.,  8.,  0.,  0.,  5.,  8.,  0.,  0.,  9.,  8.,\n",
       "        0.,  0.,  4., 11.,  0.,  1., 12.,  7.,  0.,  0.,  2., 14.,  5.,\n",
       "       10., 12.,  0.,  0.,  0.,  0.,  6., 13., 10.,  0.,  0.,  0.])"
      ]
     },
     "execution_count": 11,
     "metadata": {},
     "output_type": "execute_result"
    }
   ],
   "source": [
    "digits.data[0]"
   ]
  },
  {
   "cell_type": "code",
   "execution_count": 12,
   "metadata": {},
   "outputs": [
    {
     "data": {
      "text/plain": [
       "array([[ 0.,  0.,  5., 13.,  9.,  1.,  0.,  0.],\n",
       "       [ 0.,  0., 13., 15., 10., 15.,  5.,  0.],\n",
       "       [ 0.,  3., 15.,  2.,  0., 11.,  8.,  0.],\n",
       "       [ 0.,  4., 12.,  0.,  0.,  8.,  8.,  0.],\n",
       "       [ 0.,  5.,  8.,  0.,  0.,  9.,  8.,  0.],\n",
       "       [ 0.,  4., 11.,  0.,  1., 12.,  7.,  0.],\n",
       "       [ 0.,  2., 14.,  5., 10., 12.,  0.,  0.],\n",
       "       [ 0.,  0.,  6., 13., 10.,  0.,  0.,  0.]])"
      ]
     },
     "execution_count": 12,
     "metadata": {},
     "output_type": "execute_result"
    }
   ],
   "source": [
    "image_0"
   ]
  },
  {
   "cell_type": "code",
   "execution_count": 13,
   "metadata": {},
   "outputs": [
    {
     "data": {
      "text/plain": [
       "64"
      ]
     },
     "execution_count": 13,
     "metadata": {},
     "output_type": "execute_result"
    }
   ],
   "source": [
    "len(digits.feature_names)"
   ]
  },
  {
   "cell_type": "code",
   "execution_count": 14,
   "metadata": {},
   "outputs": [
    {
     "data": {
      "text/plain": [
       "array([0, 1, 2, ..., 8, 9, 8])"
      ]
     },
     "execution_count": 14,
     "metadata": {},
     "output_type": "execute_result"
    }
   ],
   "source": [
    "X = digits.data\n",
    "y = digits.target\n",
    "y"
   ]
  },
  {
   "cell_type": "code",
   "execution_count": 18,
   "metadata": {},
   "outputs": [],
   "source": [
    "digit_data = pd.DataFrame(X, columns = digits.feature_names)"
   ]
  },
  {
   "cell_type": "code",
   "execution_count": 19,
   "metadata": {},
   "outputs": [
    {
     "data": {
      "text/plain": [
       "<bound method NDFrame.head of       pixel_0_0  pixel_0_1  pixel_0_2  pixel_0_3  pixel_0_4  pixel_0_5  \\\n",
       "0           0.0        0.0        5.0       13.0        9.0        1.0   \n",
       "1           0.0        0.0        0.0       12.0       13.0        5.0   \n",
       "2           0.0        0.0        0.0        4.0       15.0       12.0   \n",
       "3           0.0        0.0        7.0       15.0       13.0        1.0   \n",
       "4           0.0        0.0        0.0        1.0       11.0        0.0   \n",
       "5           0.0        0.0       12.0       10.0        0.0        0.0   \n",
       "6           0.0        0.0        0.0       12.0       13.0        0.0   \n",
       "7           0.0        0.0        7.0        8.0       13.0       16.0   \n",
       "8           0.0        0.0        9.0       14.0        8.0        1.0   \n",
       "9           0.0        0.0       11.0       12.0        0.0        0.0   \n",
       "10          0.0        0.0        1.0        9.0       15.0       11.0   \n",
       "11          0.0        0.0        0.0        0.0       14.0       13.0   \n",
       "12          0.0        0.0        5.0       12.0        1.0        0.0   \n",
       "13          0.0        2.0        9.0       15.0       14.0        9.0   \n",
       "14          0.0        0.0        0.0        8.0       15.0        1.0   \n",
       "15          0.0        5.0       12.0       13.0       16.0       16.0   \n",
       "16          0.0        0.0        0.0        8.0       15.0        1.0   \n",
       "17          0.0        0.0        1.0        8.0       15.0       10.0   \n",
       "18          0.0        0.0       10.0        7.0       13.0        9.0   \n",
       "19          0.0        0.0        6.0       14.0        4.0        0.0   \n",
       "20          0.0        0.0        3.0       13.0       11.0        7.0   \n",
       "21          0.0        0.0        0.0        2.0       16.0       16.0   \n",
       "22          0.0        0.0        8.0       16.0        5.0        0.0   \n",
       "23          0.0        1.0        8.0       12.0       15.0       14.0   \n",
       "24          0.0        0.0        0.0        0.0       12.0        2.0   \n",
       "25          0.0        0.0       12.0        8.0        8.0        7.0   \n",
       "26          0.0        0.0        1.0       13.0       14.0        3.0   \n",
       "27          0.0        0.0        0.0        8.0       14.0       14.0   \n",
       "28          0.0        0.0       10.0       11.0        4.0        0.0   \n",
       "29          0.0        0.0        9.0       13.0        7.0        0.0   \n",
       "...         ...        ...        ...        ...        ...        ...   \n",
       "1767        0.0        0.0        0.0        2.0       16.0        1.0   \n",
       "1768        0.0        0.0        5.0       16.0       10.0        0.0   \n",
       "1769        0.0        0.0        9.0       12.0       14.0        6.0   \n",
       "1770        0.0        2.0       10.0       12.0       16.0        8.0   \n",
       "1771        0.0        0.0        0.0        6.0       12.0        6.0   \n",
       "1772        0.0        0.0        5.0       14.0       11.0        8.0   \n",
       "1773        0.0        0.0        2.0       13.0       10.0        0.0   \n",
       "1774        0.0        0.0        6.0       12.0       12.0        6.0   \n",
       "1775        0.0        0.0        6.0       16.0       16.0        3.0   \n",
       "1776        0.0        0.0       12.0       16.0       16.0        7.0   \n",
       "1777        0.0        0.0        0.0        2.0       14.0        0.0   \n",
       "1778        0.0        0.0        0.0        1.0       13.0        8.0   \n",
       "1779        0.0        0.0        3.0       10.0       16.0       16.0   \n",
       "1780        0.0        3.0       14.0       15.0        6.0        0.0   \n",
       "1781        0.0        0.0       10.0       16.0       14.0        5.0   \n",
       "1782        0.0        1.0       10.0       13.0        2.0        0.0   \n",
       "1783        0.0        0.0       15.0       13.0        1.0        0.0   \n",
       "1784        0.0        0.0        1.0       10.0       14.0       13.0   \n",
       "1785        0.0        1.0       10.0       16.0       15.0        2.0   \n",
       "1786        0.0        0.0        4.0       14.0       15.0        6.0   \n",
       "1787        0.0        0.0       10.0       16.0       15.0        1.0   \n",
       "1788        0.0        0.0        0.0        1.0       12.0        6.0   \n",
       "1789        0.0        0.0        8.0       16.0        3.0        0.0   \n",
       "1790        0.0        0.0        5.0       12.0        8.0        0.0   \n",
       "1791        0.0        0.0        0.0        3.0       15.0        4.0   \n",
       "1792        0.0        0.0        4.0       10.0       13.0        6.0   \n",
       "1793        0.0        0.0        6.0       16.0       13.0       11.0   \n",
       "1794        0.0        0.0        1.0       11.0       15.0        1.0   \n",
       "1795        0.0        0.0        2.0       10.0        7.0        0.0   \n",
       "1796        0.0        0.0       10.0       14.0        8.0        1.0   \n",
       "\n",
       "      pixel_0_6  pixel_0_7  pixel_1_0  pixel_1_1   ...    pixel_6_7  \\\n",
       "0           0.0        0.0        0.0        0.0   ...          0.0   \n",
       "1           0.0        0.0        0.0        0.0   ...          0.0   \n",
       "2           0.0        0.0        0.0        0.0   ...          0.0   \n",
       "3           0.0        0.0        0.0        8.0   ...          0.0   \n",
       "4           0.0        0.0        0.0        0.0   ...          0.0   \n",
       "5           0.0        0.0        0.0        0.0   ...          0.0   \n",
       "6           0.0        0.0        0.0        0.0   ...          0.0   \n",
       "7          15.0        1.0        0.0        0.0   ...          0.0   \n",
       "8           0.0        0.0        0.0        0.0   ...          0.0   \n",
       "9           0.0        0.0        0.0        2.0   ...          0.0   \n",
       "10          0.0        0.0        0.0        0.0   ...          0.0   \n",
       "11          1.0        0.0        0.0        0.0   ...          0.0   \n",
       "12          0.0        0.0        0.0        0.0   ...          2.0   \n",
       "13          3.0        0.0        0.0        4.0   ...          0.0   \n",
       "14          0.0        0.0        0.0        0.0   ...          0.0   \n",
       "15          2.0        0.0        0.0       11.0   ...          0.0   \n",
       "16          0.0        0.0        0.0        0.0   ...          2.0   \n",
       "17          0.0        0.0        0.0        3.0   ...          0.0   \n",
       "18          0.0        0.0        0.0        0.0   ...          0.0   \n",
       "19          0.0        0.0        0.0        0.0   ...          2.0   \n",
       "20          0.0        0.0        0.0        0.0   ...          0.0   \n",
       "21          2.0        0.0        0.0        0.0   ...          0.0   \n",
       "22          0.0        0.0        0.0        1.0   ...          0.0   \n",
       "23          4.0        0.0        0.0        3.0   ...          0.0   \n",
       "24          0.0        0.0        0.0        0.0   ...          0.0   \n",
       "25          0.0        0.0        0.0        3.0   ...          0.0   \n",
       "26          0.0        0.0        0.0        0.0   ...          0.0   \n",
       "27          2.0        0.0        0.0        0.0   ...          0.0   \n",
       "28          0.0        0.0        0.0        0.0   ...          0.0   \n",
       "29          0.0        0.0        0.0        0.0   ...          2.0   \n",
       "...         ...        ...        ...        ...   ...          ...   \n",
       "1767        0.0        0.0        0.0        0.0   ...          0.0   \n",
       "1768        0.0        0.0        0.0        0.0   ...          0.0   \n",
       "1769        0.0        0.0        0.0        0.0   ...          0.0   \n",
       "1770        0.0        0.0        0.0        4.0   ...          0.0   \n",
       "1771        0.0        0.0        0.0        0.0   ...          0.0   \n",
       "1772        0.0        0.0        0.0        4.0   ...          0.0   \n",
       "1773        0.0        0.0        0.0        0.0   ...          0.0   \n",
       "1774        0.0        0.0        0.0        0.0   ...          0.0   \n",
       "1775        0.0        0.0        0.0        0.0   ...          0.0   \n",
       "1776        0.0        0.0        0.0        3.0   ...          0.0   \n",
       "1777        0.0        0.0        0.0        0.0   ...          0.0   \n",
       "1778        0.0        0.0        0.0        0.0   ...          0.0   \n",
       "1779        4.0        0.0        0.0        0.0   ...          0.0   \n",
       "1780        0.0        0.0        0.0        7.0   ...          0.0   \n",
       "1781        0.0        0.0        0.0        2.0   ...          0.0   \n",
       "1782        0.0        0.0        0.0       10.0   ...          0.0   \n",
       "1783        0.0        0.0        0.0        0.0   ...          0.0   \n",
       "1784        1.0        0.0        0.0        0.0   ...          0.0   \n",
       "1785        0.0        0.0        0.0        1.0   ...          0.0   \n",
       "1786        0.0        0.0        0.0        5.0   ...          0.0   \n",
       "1787        0.0        0.0        0.0        0.0   ...          0.0   \n",
       "1788        0.0        0.0        0.0        0.0   ...          0.0   \n",
       "1789        1.0        0.0        0.0        0.0   ...          0.0   \n",
       "1790        1.0        0.0        0.0        0.0   ...          0.0   \n",
       "1791        0.0        0.0        0.0        0.0   ...          0.0   \n",
       "1792        0.0        0.0        0.0        1.0   ...          0.0   \n",
       "1793        1.0        0.0        0.0        0.0   ...          0.0   \n",
       "1794        0.0        0.0        0.0        0.0   ...          0.0   \n",
       "1795        0.0        0.0        0.0        0.0   ...          0.0   \n",
       "1796        0.0        0.0        0.0        2.0   ...          0.0   \n",
       "\n",
       "      pixel_7_0  pixel_7_1  pixel_7_2  pixel_7_3  pixel_7_4  pixel_7_5  \\\n",
       "0           0.0        0.0        6.0       13.0       10.0        0.0   \n",
       "1           0.0        0.0        0.0       11.0       16.0       10.0   \n",
       "2           0.0        0.0        0.0        3.0       11.0       16.0   \n",
       "3           0.0        0.0        7.0       13.0       13.0        9.0   \n",
       "4           0.0        0.0        0.0        2.0       16.0        4.0   \n",
       "5           0.0        0.0        9.0       16.0       16.0       10.0   \n",
       "6           0.0        0.0        1.0        9.0       15.0       11.0   \n",
       "7           0.0        0.0       13.0        5.0        0.0        0.0   \n",
       "8           0.0        0.0       11.0       16.0       15.0       11.0   \n",
       "9           0.0        0.0        9.0       12.0       13.0        3.0   \n",
       "10          0.0        0.0        1.0       10.0       13.0        3.0   \n",
       "11          0.0        0.0        0.0        1.0       13.0       16.0   \n",
       "12          0.0        0.0        3.0       11.0        8.0       13.0   \n",
       "13          0.0        2.0       12.0       12.0       13.0       11.0   \n",
       "14          0.0        0.0        0.0       10.0       15.0        4.0   \n",
       "15          0.0        4.0       15.0       16.0        2.0        0.0   \n",
       "16          0.0        0.0        0.0        7.0       15.0       16.0   \n",
       "17          0.0        0.0        0.0       11.0        9.0        0.0   \n",
       "18          0.0        0.0       11.0       14.0        5.0        0.0   \n",
       "19          0.0        0.0        7.0       16.0       16.0       13.0   \n",
       "20          0.0        0.0        2.0       12.0       13.0        4.0   \n",
       "21          0.0        0.0        0.0        2.0       12.0       15.0   \n",
       "22          0.0        0.0        7.0       12.0       12.0       12.0   \n",
       "23          0.0        0.0       14.0       15.0       11.0        2.0   \n",
       "24          0.0        0.0        0.0        0.0       12.0        8.0   \n",
       "25          0.0        0.0       11.0       14.0        9.0        0.0   \n",
       "26          0.0        0.0        3.0       12.0       15.0       14.0   \n",
       "27          0.0        0.0        0.0       12.0       13.0        1.0   \n",
       "28          0.0        0.0        8.0       14.0        7.0        1.0   \n",
       "29          0.0        0.0        7.0       12.0       12.0       12.0   \n",
       "...         ...        ...        ...        ...        ...        ...   \n",
       "1767        0.0        0.0        0.0        3.0       16.0        7.0   \n",
       "1768        0.0        0.0        4.0       15.0       16.0        8.0   \n",
       "1769        0.0        0.0       12.0       14.0        9.0        2.0   \n",
       "1770        0.0        2.0       14.0       16.0       12.0        9.0   \n",
       "1771        0.0        0.0        0.0        6.0       11.0       12.0   \n",
       "1772        0.0        0.0        7.0       15.0       12.0        5.0   \n",
       "1773        0.0        0.0        1.0       12.0       16.0       14.0   \n",
       "1774        0.0        0.0        2.0       11.0       10.0        4.0   \n",
       "1775        0.0        0.0       11.0       11.0        0.0        0.0   \n",
       "1776        0.0        0.0       10.0       12.0       12.0        4.0   \n",
       "1777        0.0        0.0        0.0        1.0       13.0        3.0   \n",
       "1778        0.0        0.0        0.0        0.0       15.0        7.0   \n",
       "1779        0.0        0.0        3.0       12.0        0.0        0.0   \n",
       "1780        0.0        4.0       15.0       13.0       12.0       11.0   \n",
       "1781        0.0        1.0       11.0       16.0       15.0        6.0   \n",
       "1782        0.0        0.0        9.0       13.0       11.0       10.0   \n",
       "1783        0.0        0.0       10.0       13.0       10.0        6.0   \n",
       "1784        0.0        0.0        0.0       12.0       14.0        4.0   \n",
       "1785        0.0        0.0       10.0       15.0        2.0        0.0   \n",
       "1786        0.0        0.0        4.0       13.0       15.0        9.0   \n",
       "1787        0.0        0.0        6.0       13.0       10.0        4.0   \n",
       "1788        0.0        0.0        0.0        0.0       14.0        9.0   \n",
       "1789        0.0        0.0       10.0       16.0       10.0        1.0   \n",
       "1790        0.0        0.0        6.0       12.0       12.0        3.0   \n",
       "1791        0.0        0.0        0.0        1.0       16.0        4.0   \n",
       "1792        0.0        0.0        2.0       14.0       15.0        9.0   \n",
       "1793        0.0        0.0        6.0       16.0       14.0        6.0   \n",
       "1794        0.0        0.0        2.0        9.0       13.0        6.0   \n",
       "1795        0.0        0.0        5.0       12.0       16.0       12.0   \n",
       "1796        0.0        1.0        8.0       12.0       14.0       12.0   \n",
       "\n",
       "      pixel_7_6  pixel_7_7  target  \n",
       "0           0.0        0.0       0  \n",
       "1           0.0        0.0       1  \n",
       "2           9.0        0.0       2  \n",
       "3           0.0        0.0       3  \n",
       "4           0.0        0.0       4  \n",
       "5           0.0        0.0       5  \n",
       "6           3.0        0.0       6  \n",
       "7           0.0        0.0       7  \n",
       "8           1.0        0.0       8  \n",
       "9           0.0        0.0       9  \n",
       "10          0.0        0.0       0  \n",
       "11          1.0        0.0       1  \n",
       "12         12.0        4.0       2  \n",
       "13          0.0        0.0       3  \n",
       "14          0.0        0.0       4  \n",
       "15          0.0        0.0       5  \n",
       "16         11.0        0.0       6  \n",
       "17          0.0        0.0       7  \n",
       "18          0.0        0.0       8  \n",
       "19         11.0        1.0       9  \n",
       "20          0.0        0.0       0  \n",
       "21          4.0        0.0       1  \n",
       "22         13.0        1.0       2  \n",
       "23          0.0        0.0       3  \n",
       "24          0.0        0.0       4  \n",
       "25          0.0        0.0       5  \n",
       "26          7.0        0.0       6  \n",
       "27          0.0        0.0       7  \n",
       "28          0.0        0.0       8  \n",
       "29         11.0        0.0       9  \n",
       "...         ...        ...     ...  \n",
       "1767        0.0        0.0       4  \n",
       "1768        1.0        0.0       0  \n",
       "1769        0.0        0.0       5  \n",
       "1770        0.0        0.0       3  \n",
       "1771        5.0        0.0       6  \n",
       "1772        0.0        0.0       9  \n",
       "1773        4.0        0.0       6  \n",
       "1774        0.0        0.0       1  \n",
       "1775        0.0        0.0       7  \n",
       "1776        0.0        0.0       5  \n",
       "1777        0.0        0.0       4  \n",
       "1778        0.0        0.0       4  \n",
       "1779        0.0        0.0       7  \n",
       "1780        1.0        0.0       2  \n",
       "1781        0.0        0.0       8  \n",
       "1782        9.0        0.0       2  \n",
       "1783        2.0        0.0       2  \n",
       "1784        0.0        0.0       5  \n",
       "1785        0.0        0.0       7  \n",
       "1786        0.0        0.0       9  \n",
       "1787        0.0        0.0       5  \n",
       "1788        0.0        0.0       4  \n",
       "1789        0.0        0.0       8  \n",
       "1790        0.0        0.0       8  \n",
       "1791        0.0        0.0       4  \n",
       "1792        0.0        0.0       9  \n",
       "1793        0.0        0.0       0  \n",
       "1794        0.0        0.0       8  \n",
       "1795        0.0        0.0       9  \n",
       "1796        1.0        0.0       8  \n",
       "\n",
       "[1797 rows x 65 columns]>"
      ]
     },
     "execution_count": 19,
     "metadata": {},
     "output_type": "execute_result"
    }
   ],
   "source": [
    "digit_data[\"target\"] = digits.target\n",
    "digit_data.head"
   ]
  },
  {
   "cell_type": "markdown",
   "metadata": {},
   "source": [
    "**Q4.** Display a random digit image "
   ]
  },
  {
   "cell_type": "code",
   "execution_count": 20,
   "metadata": {},
   "outputs": [
    {
     "data": {
      "image/png": "[encoded data removed]",
      "text/plain": [
       "<Figure size 432x432 with 1 Axes>"
      ]
     },
     "metadata": {},
     "output_type": "display_data"
    }
   ],
   "source": [
    "# TODO: reshape a sample and use imshow to display the digit image\n",
    "X2D= X[2,:].reshape(8,8)\n",
    "from matplotlib import pyplot as plt\n",
    "plt.figure(2, figsize=(6, 6))\n",
    "plt.imshow(X2D)\n",
    "\n",
    "# Format chart\n",
    "plt.xlabel('x1')\n",
    "plt.ylabel('x2')\n",
    "plt.xticks(())\n",
    "plt.yticks(())\n",
    "plt.show()"
   ]
  },
  {
   "cell_type": "markdown",
   "metadata": {},
   "source": [
    "**Q5.** Let's reduce the dimensionality of our data by applying PCA to our data.\n",
    "\n",
    "What is the initial size of the data?\n",
    "\n",
    "Apply PCA to project your data on 2 dimensions and then display the result.\n",
    "\n",
    "> ⚠️**Warning**: Make sure to scale your features before applying PCA"
   ]
  },
  {
   "cell_type": "code",
   "execution_count": 21,
   "metadata": {},
   "outputs": [
    {
     "data": {
      "text/plain": [
       "array([[ -1.25946807,  21.27489099],\n",
       "       [  7.95761631, -20.76870145],\n",
       "       [  6.99192547,  -9.9559973 ],\n",
       "       ...,\n",
       "       [ 10.80128033,  -6.96024505],\n",
       "       [ -4.87207914,  12.42392677],\n",
       "       [ -0.344398  ,   6.36555707]])"
      ]
     },
     "execution_count": 21,
     "metadata": {},
     "output_type": "execute_result"
    }
   ],
   "source": [
    "# TODO: Perform PCA on the data with 2 retained dimensions (after mean normalization)\n",
    "# Instanciate the PCA algorithm\n",
    "pca = PCA(n_components=2)\n",
    "\n",
    "# first we perform mean normalization\n",
    "X_norm = X - X.mean(axis = 0)\n",
    "\n",
    "# Execute PCA on the normalized data\n",
    "pca_data = pca.fit_transform(X_norm)\n",
    "pca_data"
   ]
  },
  {
   "cell_type": "code",
   "execution_count": 22,
   "metadata": {},
   "outputs": [
    {
     "data": {
      "text/plain": [
       "array([0.14890594, 0.13618771])"
      ]
     },
     "execution_count": 22,
     "metadata": {},
     "output_type": "execute_result"
    }
   ],
   "source": [
    "pca.explained_variance_ratio_"
   ]
  },
  {
   "cell_type": "markdown",
   "metadata": {},
   "source": [
    "**Q6.** Display the results, with different colors per label, on a 2D plot."
   ]
  },
  {
   "cell_type": "code",
   "execution_count": 23,
   "metadata": {},
   "outputs": [
    {
     "data": {
      "text/plain": [
       "array([ 21.27489099, -20.76870145,  -9.9559973 , ...,  -6.96024505,\n",
       "        12.42392677,   6.36555707])"
      ]
     },
     "execution_count": 23,
     "metadata": {},
     "output_type": "execute_result"
    }
   ],
   "source": [
    "# TODO: Display the results of the PCA\n",
    "pca_data[:,0]\n",
    "pca_data[:,-1]"
   ]
  },
  {
   "cell_type": "code",
   "execution_count": 24,
   "metadata": {},
   "outputs": [
    {
     "name": "stderr",
     "output_type": "stream",
     "text": [
      "No handles with labels found to put in legend.\n",
      "No handles with labels found to put in legend.\n",
      "No handles with labels found to put in legend.\n",
      "No handles with labels found to put in legend.\n",
      "No handles with labels found to put in legend.\n",
      "No handles with labels found to put in legend.\n",
      "No handles with labels found to put in legend.\n",
      "No handles with labels found to put in legend.\n",
      "No handles with labels found to put in legend.\n",
      "No handles with labels found to put in legend.\n"
     ]
    },
    {
     "data": {
      "image/png": "[encoded data removed]",
      "text/plain": [
       "<Figure size 432x288 with 1 Axes>"
      ]
     },
     "metadata": {},
     "output_type": "display_data"
    }
   ],
   "source": [
    "colors = [\"purple\", \"blue\", \"red\", \"yellow\", \"orange\", \"brown\", \"green\", \"black\", \"grey\", \"gold\"]\n",
    "\n",
    "for digit, color in zip(range(0,10), colors):\n",
    "    plt.scatter(pca_data[y == digit,0], pca_data[y == digit,1], c = color)\n",
    "    plt.legend(loc=0)\n",
    "    plt.title('PCA projection')\n",
    "  #  plt.show()"
   ]
  },
  {
   "cell_type": "markdown",
   "metadata": {},
   "source": [
    "**Q6.** Quite a pretty plot, right? Inteprete it. Especially, what do you think about the 2 new dimensions created?\n",
    "\n",
    "Compute the retained variance."
   ]
  },
  {
   "cell_type": "markdown",
   "metadata": {},
   "source": [
    "### This was a pretty dope PCA. We got our different digit clusters quite well delimitated; thus, the two components were descriptive of the data"
   ]
  },
  {
   "cell_type": "code",
   "execution_count": 43,
   "metadata": {},
   "outputs": [
    {
     "name": "stdout",
     "output_type": "stream",
     "text": [
      "[0.14890594 0.13618771]\n"
     ]
    },
    {
     "data": {
      "text/plain": [
       "0.28509364823668326"
      ]
     },
     "execution_count": 43,
     "metadata": {},
     "output_type": "execute_result"
    }
   ],
   "source": [
    "# TODO: Interpretation and retained variance\n",
    "print(pca.explained_variance_ratio_)\n",
    "sum(pca.explained_variance_ratio_)"
   ]
  },
  {
   "cell_type": "markdown",
   "metadata": {},
   "source": [
    "**Q7.** What do you think of the retained variance?\n",
    "\n",
    "How many dimensions would you choose in order that they explain at least 99% of the variance?"
   ]
  },
  {
   "cell_type": "code",
   "execution_count": 44,
   "metadata": {},
   "outputs": [
    {
     "data": {
      "text/plain": [
       "(1797, 21)"
      ]
     },
     "execution_count": 44,
     "metadata": {},
     "output_type": "execute_result"
    }
   ],
   "source": [
    "# TODO: Get the number of dimensions to keep to have at least 90% of retained variance\n",
    "# Instanciate the PCA algorithm\n",
    "pca2 = PCA(n_components = 0.9)\n",
    "\n",
    "# first we perform mean normalization\n",
    "X_norm = X - X.mean(axis = 0)\n",
    "\n",
    "# Execute PCA on the normalized data\n",
    "pca_data_2 = pca2.fit_transform(X_norm)\n",
    "pca_data_2.shape"
   ]
  },
  {
   "cell_type": "markdown",
   "metadata": {},
   "source": [
    "We will need 21 attributs at least in order to retain 90% of the variance"
   ]
  },
  {
   "cell_type": "code",
   "execution_count": 45,
   "metadata": {},
   "outputs": [
    {
     "name": "stdout",
     "output_type": "stream",
     "text": [
      "[0.14890594 0.13618771 0.11794594 0.08409979 0.05782415 0.0491691\n",
      " 0.04315987 0.03661373 0.03353248 0.03078806 0.02372341 0.02272697\n",
      " 0.01821863 0.01773855 0.01467101 0.01409716 0.01318589 0.01248138\n",
      " 0.01017718 0.00905617 0.00889538]\n"
     ]
    },
    {
     "data": {
      "text/plain": [
       "0.9031985012037212"
      ]
     },
     "execution_count": 45,
     "metadata": {},
     "output_type": "execute_result"
    }
   ],
   "source": [
    "print(pca2.explained_variance_ratio_)\n",
    "sum(pca2.explained_variance_ratio_)"
   ]
  },
  {
   "cell_type": "markdown",
   "metadata": {},
   "source": [
    "**Q8.** Let's now try to use the output of our PCA in order to solve a classification problem.\n",
    "\n",
    "Before doing anything, think carefully about what algorithms you know, and which one can be used to do such a classification task. Then how would you proceed? What steps do you need to perform?\n",
    "\n",
    "We will perform the same classification on the raw data (meaning without PCA) and on the reduced data after PCA (with 99% variance retained) - and compare results.\n",
    "\n",
    "For both raw and PCA data, split your data into 80% for training and 20% for testing. "
   ]
  },
  {
   "cell_type": "code",
   "execution_count": 46,
   "metadata": {},
   "outputs": [],
   "source": [
    "# TODO: Split the data into train and test\n",
    "X_train_p, X_test_p, y_train_p, y_test_p = train_test_split(pca_data_2, y, test_size = .2)\n",
    "X_train, X_test, y_train, y_test = train_test_split(X, y, test_size = .2)"
   ]
  },
  {
   "cell_type": "code",
   "execution_count": 47,
   "metadata": {},
   "outputs": [
    {
     "name": "stdout",
     "output_type": "stream",
     "text": [
      "X_train_p = (1437, 21) \n",
      "X_test_p = (360, 21) \n",
      "y_train_p = (1437,) \n",
      "y_test_p = (360,) \n",
      "X_train = (1437, 64) \n",
      "X_test = (360, 64) \n",
      "y_train = (1437,) \n",
      "y_test = (360,) \n",
      "\n"
     ]
    }
   ],
   "source": [
    "#Testing new print style :)\n",
    "print(\"X_train_p =\",  X_train_p.shape, \"\\n\"\n",
    "     \"X_test_p =\" , X_test_p.shape, \"\\n\"\n",
    "     \"y_train_p =\" , y_train_p.shape, \"\\n\"\n",
    "     \"y_test_p =\" , y_test_p.shape, \"\\n\"\n",
    "     \"X_train =\" , X_train.shape, \"\\n\"\n",
    "     \"X_test =\" , X_test.shape, \"\\n\"\n",
    "     \"y_train =\" , y_train.shape, \"\\n\"\n",
    "     \"y_test =\" , y_test.shape, \"\\n\")"
   ]
  },
  {
   "cell_type": "markdown",
   "metadata": {},
   "source": [
    "**Q9.** Train a simple logistic regression separately on both data (with and without PCA).\n",
    "\n",
    "Evaluate your results and compare predictions accuracy.\n",
    "\n",
    "> 🔦 **Hint**: you can use the option `multiclass='multinomial'` of the scikit-learn logistic regression for this multiclass problem, have a look at the documentation"
   ]
  },
  {
   "cell_type": "code",
   "execution_count": 48,
   "metadata": {},
   "outputs": [],
   "source": [
    "lr = LogisticRegression()"
   ]
  },
  {
   "cell_type": "code",
   "execution_count": 49,
   "metadata": {},
   "outputs": [
    {
     "name": "stderr",
     "output_type": "stream",
     "text": [
      "/Users/digitalisdiana/anaconda3/lib/python3.6/site-packages/sklearn/linear_model/_logistic.py:765: ConvergenceWarning: lbfgs failed to converge (status=1):\n",
      "STOP: TOTAL NO. of ITERATIONS REACHED LIMIT.\n",
      "\n",
      "Increase the number of iterations (max_iter) or scale the data as shown in:\n",
      "    https://scikit-learn.org/stable/modules/preprocessing.html\n",
      "Please also refer to the documentation for alternative solver options:\n",
      "    https://scikit-learn.org/stable/modules/linear_model.html#logistic-regression\n",
      "  extra_warning_msg=_LOGISTIC_SOLVER_CONVERGENCE_MSG)\n"
     ]
    },
    {
     "data": {
      "text/plain": [
       "LogisticRegression()"
      ]
     },
     "execution_count": 49,
     "metadata": {},
     "output_type": "execute_result"
    }
   ],
   "source": [
    "lr.fit(X_train, y_train)"
   ]
  },
  {
   "cell_type": "code",
   "execution_count": 50,
   "metadata": {},
   "outputs": [
    {
     "data": {
      "text/plain": [
       "LogisticRegression()"
      ]
     },
     "execution_count": 50,
     "metadata": {},
     "output_type": "execute_result"
    }
   ],
   "source": [
    "lr_pca = LogisticRegression()\n",
    "lr_pca.fit(X_train_p, y_train)"
   ]
  },
  {
   "cell_type": "markdown",
   "metadata": {},
   "source": [
    "# I have a question here about data matching and shape."
   ]
  },
  {
   "cell_type": "code",
   "execution_count": 51,
   "metadata": {
    "scrolled": true
   },
   "outputs": [
    {
     "data": {
      "text/plain": [
       "0.16144745998608212"
      ]
     },
     "execution_count": 51,
     "metadata": {},
     "output_type": "execute_result"
    }
   ],
   "source": [
    "# TODO: Perform classification using a logistic regression on data with and without PCA\n",
    "lr_pca.score(X_train_p, y_train)"
   ]
  },
  {
   "cell_type": "code",
   "execution_count": 52,
   "metadata": {},
   "outputs": [
    {
     "data": {
      "text/plain": [
       "0.12777777777777777"
      ]
     },
     "execution_count": 52,
     "metadata": {},
     "output_type": "execute_result"
    }
   ],
   "source": [
    "y_pred = lr_pca.predict(X_test_p)\n",
    "accuracy_score(y_pred, y_test_p)"
   ]
  },
  {
   "cell_type": "code",
   "execution_count": 53,
   "metadata": {},
   "outputs": [
    {
     "data": {
      "text/plain": [
       "array([[ 0.,  0.,  0., ...,  1.,  0.,  0.],\n",
       "       [ 0.,  2., 10., ...,  0.,  0.,  0.],\n",
       "       [ 0.,  0.,  7., ...,  0.,  0.,  0.],\n",
       "       ...,\n",
       "       [ 0.,  0.,  2., ...,  0.,  0.,  0.],\n",
       "       [ 0.,  0.,  5., ..., 12.,  3.,  0.],\n",
       "       [ 0.,  0.,  3., ..., 16.,  2.,  0.]])"
      ]
     },
     "execution_count": 53,
     "metadata": {},
     "output_type": "execute_result"
    }
   ],
   "source": [
    "# TODO: Compute and compare accuracies\n",
    "X_test"
   ]
  },
  {
   "cell_type": "markdown",
   "metadata": {},
   "source": [
    "**Q10.** Do you observe an improvement using the PCA?\n",
    "\n",
    "Let's try to do the same thing with t-SNE.\n",
    "\n",
    "First, perform t-SNE on the original data with only 2 kept dimensions, and display the result in a plot."
   ]
  },
  {
   "cell_type": "code",
   "execution_count": 55,
   "metadata": {},
   "outputs": [],
   "source": [
    "# TODO: Perform t-SNE on the original data and visualize the result \n",
    "tsne = TSNE(n_components=2)"
   ]
  },
  {
   "cell_type": "code",
   "execution_count": 57,
   "metadata": {},
   "outputs": [],
   "source": [
    "X_tsne = tsne.fit_transform(X)"
   ]
  },
  {
   "cell_type": "code",
   "execution_count": 58,
   "metadata": {},
   "outputs": [
    {
     "name": "stderr",
     "output_type": "stream",
     "text": [
      "No handles with labels found to put in legend.\n",
      "No handles with labels found to put in legend.\n",
      "No handles with labels found to put in legend.\n",
      "No handles with labels found to put in legend.\n",
      "No handles with labels found to put in legend.\n",
      "No handles with labels found to put in legend.\n",
      "No handles with labels found to put in legend.\n",
      "No handles with labels found to put in legend.\n",
      "No handles with labels found to put in legend.\n",
      "No handles with labels found to put in legend.\n"
     ]
    },
    {
     "data": {
      "image/png": "[encoded data removed]",
      "text/plain": [
       "<Figure size 432x288 with 1 Axes>"
      ]
     },
     "metadata": {},
     "output_type": "display_data"
    }
   ],
   "source": [
    "colors = [\"purple\", \"blue\", \"red\", \"yellow\", \"orange\", \"brown\", \"green\", \"black\", \"grey\", \"gold\"]\n",
    "\n",
    "for digit, color in zip(range(0,10), colors):\n",
    "    plt.scatter(X_tsne[y == digit,0], X_tsne[y == digit,1], c = color)\n",
    "    plt.legend(loc=0)\n",
    "    plt.title('t-SNE projection')"
   ]
  },
  {
   "cell_type": "markdown",
   "metadata": {},
   "source": [
    "**Q11.** Impressive results, right? Now train a Logisitic Regression to perform classification using a on this data and compare with previous reuslts. \n",
    "\n",
    "You know how to do, right? Scale the data, split it (train: 80%, test: 20%), and perform the classifications with same parameters as before. Finally show the accuracy."
   ]
  },
  {
   "cell_type": "code",
   "execution_count": 70,
   "metadata": {},
   "outputs": [],
   "source": [
    "# TODO: Perform the classification on the t-SNE data and display the accuracy\n",
    "X_train_t, X_test_t, y_train_t, y_test_t = train_test_split(X_tsne, y, test_size = .2)"
   ]
  },
  {
   "cell_type": "code",
   "execution_count": 71,
   "metadata": {},
   "outputs": [
    {
     "data": {
      "text/plain": [
       "LogisticRegression()"
      ]
     },
     "execution_count": 71,
     "metadata": {},
     "output_type": "execute_result"
    }
   ],
   "source": [
    "lr_tSNE = LogisticRegression()\n",
    "lr_tSNE.fit(X_train_t, y_train)"
   ]
  },
  {
   "cell_type": "code",
   "execution_count": 72,
   "metadata": {},
   "outputs": [
    {
     "data": {
      "text/plain": [
       "0.09722222222222222"
      ]
     },
     "execution_count": 72,
     "metadata": {},
     "output_type": "execute_result"
    }
   ],
   "source": [
    "lr_tSNE.score(X_train_t, y_train)\n",
    "y_pred_2 = lr_tSNE.predict(X_test_t)\n",
    "accuracy_score(y_pred, y_test_t)"
   ]
  },
  {
   "cell_type": "markdown",
   "metadata": {},
   "source": [
    "**Q12**. What do you think of the accuracy? Do you have any ideas in order to improve your score? Try it!"
   ]
  },
  {
   "cell_type": "markdown",
   "metadata": {},
   "source": [
    "# Terrible Accuracy; will definitely improve with more numbers of training. For now, however... let's move on. "
   ]
  }
 ],
 "metadata": {
  "kernelspec": {
   "display_name": "Python 3",
   "language": "python",
   "name": "python3"
  },
  "language_info": {
   "codemirror_mode": {
    "name": "ipython",
    "version": 3
   },
   "file_extension": ".py",
   "mimetype": "text/x-python",
   "name": "python",
   "nbconvert_exporter": "python",
   "pygments_lexer": "ipython3",
   "version": "3.6.8"
  }
 },
 "nbformat": 4,
 "nbformat_minor": 2
}
