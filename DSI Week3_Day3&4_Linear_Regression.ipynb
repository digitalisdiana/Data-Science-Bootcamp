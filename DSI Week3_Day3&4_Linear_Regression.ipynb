{
 "cells": [
  {
   "cell_type": "markdown",
   "metadata": {},
   "source": [
    "# Problème"
   ]
  },
  {
   "cell_type": "markdown",
   "metadata": {},
   "source": [
    "L'objectif de cet exercice est de prédire le prix d'une maison de la ville de Boston en se basant sur ses caracteristiques. Nous allons utiliser la regression linéaire pour predire les prix des maison.  "
   ]
  },
  {
   "cell_type": "markdown",
   "metadata": {},
   "source": [
    "### Q1: Informations de base sur le Dataset"
   ]
  },
  {
   "cell_type": "markdown",
   "metadata": {},
   "source": [
    "**a. Chargez les données avec la fonction read_csv() de pandas. Elle se trouve dans le repertoire \"data\"** (data/USA_Housing.csv)"
   ]
  },
  {
   "cell_type": "code",
   "execution_count": 14,
   "metadata": {},
   "outputs": [
    {
     "data": {
      "text/html": [
       "<div>\n",
       "<style scoped>\n",
       "    .dataframe tbody tr th:only-of-type {\n",
       "        vertical-align: middle;\n",
       "    }\n",
       "\n",
       "    .dataframe tbody tr th {\n",
       "        vertical-align: top;\n",
       "    }\n",
       "\n",
       "    .dataframe thead th {\n",
       "        text-align: right;\n",
       "    }\n",
       "</style>\n",
       "<table border=\"1\" class=\"dataframe\">\n",
       "  <thead>\n",
       "    <tr style=\"text-align: right;\">\n",
       "      <th></th>\n",
       "      <th>Avg. Area Income</th>\n",
       "      <th>Avg. Area House Age</th>\n",
       "      <th>Avg. Area Number of Rooms</th>\n",
       "      <th>Avg. Area Number of Bedrooms</th>\n",
       "      <th>Area Population</th>\n",
       "      <th>Price</th>\n",
       "      <th>Address</th>\n",
       "    </tr>\n",
       "  </thead>\n",
       "  <tbody>\n",
       "    <tr>\n",
       "      <th>0</th>\n",
       "      <td>79545.458574</td>\n",
       "      <td>5.682861</td>\n",
       "      <td>7.009188</td>\n",
       "      <td>4.09</td>\n",
       "      <td>23086.800503</td>\n",
       "      <td>1.059034e+06</td>\n",
       "      <td>208 Michael Ferry Apt. 674\\nLaurabury, NE 3701...</td>\n",
       "    </tr>\n",
       "    <tr>\n",
       "      <th>1</th>\n",
       "      <td>79248.642455</td>\n",
       "      <td>6.002900</td>\n",
       "      <td>6.730821</td>\n",
       "      <td>3.09</td>\n",
       "      <td>40173.072174</td>\n",
       "      <td>1.505891e+06</td>\n",
       "      <td>188 Johnson Views Suite 079\\nLake Kathleen, CA...</td>\n",
       "    </tr>\n",
       "    <tr>\n",
       "      <th>2</th>\n",
       "      <td>61287.067179</td>\n",
       "      <td>5.865890</td>\n",
       "      <td>8.512727</td>\n",
       "      <td>5.13</td>\n",
       "      <td>36882.159400</td>\n",
       "      <td>1.058988e+06</td>\n",
       "      <td>9127 Elizabeth Stravenue\\nDanieltown, WI 06482...</td>\n",
       "    </tr>\n",
       "    <tr>\n",
       "      <th>3</th>\n",
       "      <td>63345.240046</td>\n",
       "      <td>7.188236</td>\n",
       "      <td>5.586729</td>\n",
       "      <td>3.26</td>\n",
       "      <td>34310.242831</td>\n",
       "      <td>1.260617e+06</td>\n",
       "      <td>USS Barnett\\nFPO AP 44820</td>\n",
       "    </tr>\n",
       "    <tr>\n",
       "      <th>4</th>\n",
       "      <td>59982.197226</td>\n",
       "      <td>5.040555</td>\n",
       "      <td>7.839388</td>\n",
       "      <td>4.23</td>\n",
       "      <td>26354.109472</td>\n",
       "      <td>6.309435e+05</td>\n",
       "      <td>USNS Raymond\\nFPO AE 09386</td>\n",
       "    </tr>\n",
       "    <tr>\n",
       "      <th>5</th>\n",
       "      <td>80175.754159</td>\n",
       "      <td>4.988408</td>\n",
       "      <td>6.104512</td>\n",
       "      <td>4.04</td>\n",
       "      <td>26748.428425</td>\n",
       "      <td>1.068138e+06</td>\n",
       "      <td>06039 Jennifer Islands Apt. 443\\nTracyport, KS...</td>\n",
       "    </tr>\n",
       "    <tr>\n",
       "      <th>6</th>\n",
       "      <td>64698.463428</td>\n",
       "      <td>6.025336</td>\n",
       "      <td>8.147760</td>\n",
       "      <td>3.41</td>\n",
       "      <td>60828.249085</td>\n",
       "      <td>1.502056e+06</td>\n",
       "      <td>4759 Daniel Shoals Suite 442\\nNguyenburgh, CO ...</td>\n",
       "    </tr>\n",
       "    <tr>\n",
       "      <th>7</th>\n",
       "      <td>78394.339278</td>\n",
       "      <td>6.989780</td>\n",
       "      <td>6.620478</td>\n",
       "      <td>2.42</td>\n",
       "      <td>36516.358972</td>\n",
       "      <td>1.573937e+06</td>\n",
       "      <td>972 Joyce Viaduct\\nLake William, TN 17778-6483</td>\n",
       "    </tr>\n",
       "    <tr>\n",
       "      <th>8</th>\n",
       "      <td>59927.660813</td>\n",
       "      <td>5.362126</td>\n",
       "      <td>6.393121</td>\n",
       "      <td>2.30</td>\n",
       "      <td>29387.396003</td>\n",
       "      <td>7.988695e+05</td>\n",
       "      <td>USS Gilbert\\nFPO AA 20957</td>\n",
       "    </tr>\n",
       "    <tr>\n",
       "      <th>9</th>\n",
       "      <td>81885.927184</td>\n",
       "      <td>4.423672</td>\n",
       "      <td>8.167688</td>\n",
       "      <td>6.10</td>\n",
       "      <td>40149.965749</td>\n",
       "      <td>1.545155e+06</td>\n",
       "      <td>Unit 9446 Box 0958\\nDPO AE 97025</td>\n",
       "    </tr>\n",
       "    <tr>\n",
       "      <th>10</th>\n",
       "      <td>80527.472083</td>\n",
       "      <td>8.093513</td>\n",
       "      <td>5.042747</td>\n",
       "      <td>4.10</td>\n",
       "      <td>47224.359840</td>\n",
       "      <td>1.707046e+06</td>\n",
       "      <td>6368 John Motorway Suite 700\\nJanetbury, NM 26854</td>\n",
       "    </tr>\n",
       "    <tr>\n",
       "      <th>11</th>\n",
       "      <td>50593.695497</td>\n",
       "      <td>4.496513</td>\n",
       "      <td>7.467627</td>\n",
       "      <td>4.49</td>\n",
       "      <td>34343.991886</td>\n",
       "      <td>6.637324e+05</td>\n",
       "      <td>911 Castillo Park Apt. 717\\nDavisborough, PW 7...</td>\n",
       "    </tr>\n",
       "    <tr>\n",
       "      <th>12</th>\n",
       "      <td>39033.809237</td>\n",
       "      <td>7.671755</td>\n",
       "      <td>7.250029</td>\n",
       "      <td>3.10</td>\n",
       "      <td>39220.361467</td>\n",
       "      <td>1.042814e+06</td>\n",
       "      <td>209 Natasha Stream Suite 961\\nHuffmanland, NE ...</td>\n",
       "    </tr>\n",
       "    <tr>\n",
       "      <th>13</th>\n",
       "      <td>73163.663441</td>\n",
       "      <td>6.919535</td>\n",
       "      <td>5.993188</td>\n",
       "      <td>2.27</td>\n",
       "      <td>32326.123139</td>\n",
       "      <td>1.291332e+06</td>\n",
       "      <td>829 Welch Track Apt. 992\\nNorth John, AR 26532...</td>\n",
       "    </tr>\n",
       "    <tr>\n",
       "      <th>14</th>\n",
       "      <td>69391.380184</td>\n",
       "      <td>5.344776</td>\n",
       "      <td>8.406418</td>\n",
       "      <td>4.37</td>\n",
       "      <td>35521.294033</td>\n",
       "      <td>1.402818e+06</td>\n",
       "      <td>PSC 5330, Box 4420\\nAPO AP 08302</td>\n",
       "    </tr>\n",
       "    <tr>\n",
       "      <th>15</th>\n",
       "      <td>73091.866746</td>\n",
       "      <td>5.443156</td>\n",
       "      <td>8.517513</td>\n",
       "      <td>4.01</td>\n",
       "      <td>23929.524053</td>\n",
       "      <td>1.306675e+06</td>\n",
       "      <td>2278 Shannon View\\nNorth Carriemouth, NM 84617</td>\n",
       "    </tr>\n",
       "    <tr>\n",
       "      <th>16</th>\n",
       "      <td>79706.963058</td>\n",
       "      <td>5.067890</td>\n",
       "      <td>8.219771</td>\n",
       "      <td>3.12</td>\n",
       "      <td>39717.813576</td>\n",
       "      <td>1.556787e+06</td>\n",
       "      <td>064 Hayley Unions\\nNicholsborough, HI 44161-1887</td>\n",
       "    </tr>\n",
       "    <tr>\n",
       "      <th>17</th>\n",
       "      <td>61929.077018</td>\n",
       "      <td>4.788550</td>\n",
       "      <td>5.097010</td>\n",
       "      <td>4.30</td>\n",
       "      <td>24595.901498</td>\n",
       "      <td>5.284852e+05</td>\n",
       "      <td>5498 Rachel Locks\\nNew Gregoryshire, PW 54755</td>\n",
       "    </tr>\n",
       "    <tr>\n",
       "      <th>18</th>\n",
       "      <td>63508.194299</td>\n",
       "      <td>5.947165</td>\n",
       "      <td>7.187774</td>\n",
       "      <td>5.12</td>\n",
       "      <td>35719.653052</td>\n",
       "      <td>1.019426e+06</td>\n",
       "      <td>Unit 7424 Box 2786\\nDPO AE 71255</td>\n",
       "    </tr>\n",
       "    <tr>\n",
       "      <th>19</th>\n",
       "      <td>62085.276403</td>\n",
       "      <td>5.739411</td>\n",
       "      <td>7.091808</td>\n",
       "      <td>5.49</td>\n",
       "      <td>44922.106702</td>\n",
       "      <td>1.030591e+06</td>\n",
       "      <td>19696 Benjamin Cape\\nStephentown, ME 36952-4733</td>\n",
       "    </tr>\n",
       "    <tr>\n",
       "      <th>20</th>\n",
       "      <td>86294.999089</td>\n",
       "      <td>6.627457</td>\n",
       "      <td>8.011898</td>\n",
       "      <td>4.07</td>\n",
       "      <td>47560.775336</td>\n",
       "      <td>2.146925e+06</td>\n",
       "      <td>030 Larry Park Suite 665\\nThomashaven, HI 8794...</td>\n",
       "    </tr>\n",
       "    <tr>\n",
       "      <th>21</th>\n",
       "      <td>60835.089979</td>\n",
       "      <td>5.551222</td>\n",
       "      <td>6.517175</td>\n",
       "      <td>2.10</td>\n",
       "      <td>45574.741662</td>\n",
       "      <td>9.292476e+05</td>\n",
       "      <td>USNS Brown\\nFPO AP 85833</td>\n",
       "    </tr>\n",
       "    <tr>\n",
       "      <th>22</th>\n",
       "      <td>64490.650267</td>\n",
       "      <td>4.210323</td>\n",
       "      <td>5.478088</td>\n",
       "      <td>4.31</td>\n",
       "      <td>40358.960106</td>\n",
       "      <td>7.188872e+05</td>\n",
       "      <td>95198 Ortiz Key\\nPort Sara, TN 24541-2855</td>\n",
       "    </tr>\n",
       "    <tr>\n",
       "      <th>23</th>\n",
       "      <td>60697.351539</td>\n",
       "      <td>6.170484</td>\n",
       "      <td>7.150537</td>\n",
       "      <td>6.34</td>\n",
       "      <td>28140.967088</td>\n",
       "      <td>7.439998e+05</td>\n",
       "      <td>9003 Jay Plains Suite 838\\nLake Elizabeth, IN ...</td>\n",
       "    </tr>\n",
       "    <tr>\n",
       "      <th>24</th>\n",
       "      <td>59748.855487</td>\n",
       "      <td>5.339340</td>\n",
       "      <td>7.748682</td>\n",
       "      <td>4.23</td>\n",
       "      <td>27809.986544</td>\n",
       "      <td>8.957371e+05</td>\n",
       "      <td>24282 Paul Valley\\nWest Perry, MI 03169-5806</td>\n",
       "    </tr>\n",
       "    <tr>\n",
       "      <th>25</th>\n",
       "      <td>56974.476539</td>\n",
       "      <td>8.287562</td>\n",
       "      <td>7.312880</td>\n",
       "      <td>4.33</td>\n",
       "      <td>40694.869513</td>\n",
       "      <td>1.453975e+06</td>\n",
       "      <td>61938 Brady Falls\\nLewisfort, DE 61227</td>\n",
       "    </tr>\n",
       "    <tr>\n",
       "      <th>26</th>\n",
       "      <td>82173.626076</td>\n",
       "      <td>4.018525</td>\n",
       "      <td>6.992699</td>\n",
       "      <td>2.03</td>\n",
       "      <td>38853.918066</td>\n",
       "      <td>1.125693e+06</td>\n",
       "      <td>3599 Ramirez Springs\\nJacksonhaven, AZ 72798</td>\n",
       "    </tr>\n",
       "    <tr>\n",
       "      <th>27</th>\n",
       "      <td>64626.880978</td>\n",
       "      <td>5.443360</td>\n",
       "      <td>6.988754</td>\n",
       "      <td>4.00</td>\n",
       "      <td>27784.742280</td>\n",
       "      <td>9.754295e+05</td>\n",
       "      <td>073 Christopher Falls Suite 882\\nWest Cynthia,...</td>\n",
       "    </tr>\n",
       "    <tr>\n",
       "      <th>28</th>\n",
       "      <td>90499.057451</td>\n",
       "      <td>6.384359</td>\n",
       "      <td>4.242191</td>\n",
       "      <td>3.04</td>\n",
       "      <td>33970.164990</td>\n",
       "      <td>1.240764e+06</td>\n",
       "      <td>6531 Chase Prairie Apt. 245\\nSusanshire, MN 22365</td>\n",
       "    </tr>\n",
       "    <tr>\n",
       "      <th>29</th>\n",
       "      <td>59323.792100</td>\n",
       "      <td>6.977828</td>\n",
       "      <td>8.273697</td>\n",
       "      <td>4.07</td>\n",
       "      <td>37520.657732</td>\n",
       "      <td>1.577018e+06</td>\n",
       "      <td>17124 Johnson Squares\\nLake Robertfurt, AL 618...</td>\n",
       "    </tr>\n",
       "    <tr>\n",
       "      <th>...</th>\n",
       "      <td>...</td>\n",
       "      <td>...</td>\n",
       "      <td>...</td>\n",
       "      <td>...</td>\n",
       "      <td>...</td>\n",
       "      <td>...</td>\n",
       "      <td>...</td>\n",
       "    </tr>\n",
       "    <tr>\n",
       "      <th>4970</th>\n",
       "      <td>55980.204807</td>\n",
       "      <td>7.014510</td>\n",
       "      <td>5.458789</td>\n",
       "      <td>2.11</td>\n",
       "      <td>43968.687046</td>\n",
       "      <td>1.120943e+06</td>\n",
       "      <td>2558 King Trail\\nEast Catherinebury, MP 23625-...</td>\n",
       "    </tr>\n",
       "    <tr>\n",
       "      <th>4971</th>\n",
       "      <td>73491.134427</td>\n",
       "      <td>5.784430</td>\n",
       "      <td>4.425959</td>\n",
       "      <td>3.37</td>\n",
       "      <td>30800.541060</td>\n",
       "      <td>1.111307e+06</td>\n",
       "      <td>6043 Stevens Stream\\nWest Kimberlymouth, ME 49723</td>\n",
       "    </tr>\n",
       "    <tr>\n",
       "      <th>4972</th>\n",
       "      <td>83695.272383</td>\n",
       "      <td>7.643507</td>\n",
       "      <td>7.127219</td>\n",
       "      <td>5.05</td>\n",
       "      <td>33113.759057</td>\n",
       "      <td>1.736402e+06</td>\n",
       "      <td>33465 Hernandez Forest Apt. 692\\nPort Ashleyfo...</td>\n",
       "    </tr>\n",
       "    <tr>\n",
       "      <th>4973</th>\n",
       "      <td>78743.759274</td>\n",
       "      <td>6.583685</td>\n",
       "      <td>6.595683</td>\n",
       "      <td>4.07</td>\n",
       "      <td>24381.144540</td>\n",
       "      <td>1.340770e+06</td>\n",
       "      <td>805 David Knoll Apt. 216\\nMccarthyview, GU 74316</td>\n",
       "    </tr>\n",
       "    <tr>\n",
       "      <th>4974</th>\n",
       "      <td>70720.296463</td>\n",
       "      <td>6.411801</td>\n",
       "      <td>5.048128</td>\n",
       "      <td>3.01</td>\n",
       "      <td>19114.019253</td>\n",
       "      <td>8.013486e+05</td>\n",
       "      <td>14742 Lopez Ridge Apt. 889\\nJessicatown, CA 28254</td>\n",
       "    </tr>\n",
       "    <tr>\n",
       "      <th>4975</th>\n",
       "      <td>54037.580879</td>\n",
       "      <td>8.471765</td>\n",
       "      <td>6.966072</td>\n",
       "      <td>3.27</td>\n",
       "      <td>28696.170856</td>\n",
       "      <td>1.324382e+06</td>\n",
       "      <td>6278 Jenkins Harbors Apt. 807\\nNew Yvettehaven...</td>\n",
       "    </tr>\n",
       "    <tr>\n",
       "      <th>4976</th>\n",
       "      <td>75046.313791</td>\n",
       "      <td>5.351169</td>\n",
       "      <td>7.797825</td>\n",
       "      <td>5.23</td>\n",
       "      <td>34107.888619</td>\n",
       "      <td>1.340344e+06</td>\n",
       "      <td>55823 Stuart Fields\\nNunezstad, NM 03601</td>\n",
       "    </tr>\n",
       "    <tr>\n",
       "      <th>4977</th>\n",
       "      <td>75980.438843</td>\n",
       "      <td>6.583105</td>\n",
       "      <td>5.914892</td>\n",
       "      <td>3.23</td>\n",
       "      <td>40394.593489</td>\n",
       "      <td>1.518478e+06</td>\n",
       "      <td>1831 Escobar Plain Suite 171\\nMartinezberg, OH...</td>\n",
       "    </tr>\n",
       "    <tr>\n",
       "      <th>4978</th>\n",
       "      <td>80393.339500</td>\n",
       "      <td>8.899713</td>\n",
       "      <td>5.652974</td>\n",
       "      <td>4.04</td>\n",
       "      <td>39547.932489</td>\n",
       "      <td>1.910585e+06</td>\n",
       "      <td>02084 Rivera Lock\\nHallville, NJ 32367-9579</td>\n",
       "    </tr>\n",
       "    <tr>\n",
       "      <th>4979</th>\n",
       "      <td>82224.695006</td>\n",
       "      <td>5.434087</td>\n",
       "      <td>8.375708</td>\n",
       "      <td>3.12</td>\n",
       "      <td>57166.867510</td>\n",
       "      <td>1.823498e+06</td>\n",
       "      <td>4679 Turner Tunnel\\nRosariobury, CT 68552-4766</td>\n",
       "    </tr>\n",
       "    <tr>\n",
       "      <th>4980</th>\n",
       "      <td>75664.024482</td>\n",
       "      <td>5.789203</td>\n",
       "      <td>6.415312</td>\n",
       "      <td>2.02</td>\n",
       "      <td>54724.251275</td>\n",
       "      <td>1.406865e+06</td>\n",
       "      <td>0476 Jessica Shoals\\nMelissamouth, DE 39609-2777</td>\n",
       "    </tr>\n",
       "    <tr>\n",
       "      <th>4981</th>\n",
       "      <td>71663.871293</td>\n",
       "      <td>6.150745</td>\n",
       "      <td>7.311907</td>\n",
       "      <td>6.33</td>\n",
       "      <td>24109.778060</td>\n",
       "      <td>1.203850e+06</td>\n",
       "      <td>1316 Tony Inlet Suite 235\\nWest Jimmy, SC 72946</td>\n",
       "    </tr>\n",
       "    <tr>\n",
       "      <th>4982</th>\n",
       "      <td>58800.908770</td>\n",
       "      <td>5.976507</td>\n",
       "      <td>7.304051</td>\n",
       "      <td>6.43</td>\n",
       "      <td>37426.709745</td>\n",
       "      <td>1.020096e+06</td>\n",
       "      <td>109 Lee Wall Apt. 315\\nLunamouth, AZ 05121-3634</td>\n",
       "    </tr>\n",
       "    <tr>\n",
       "      <th>4983</th>\n",
       "      <td>69655.183954</td>\n",
       "      <td>7.721100</td>\n",
       "      <td>6.077795</td>\n",
       "      <td>4.29</td>\n",
       "      <td>32902.355584</td>\n",
       "      <td>1.194357e+06</td>\n",
       "      <td>39174 Jessica Mission Apt. 539\\nWest Cindyboro...</td>\n",
       "    </tr>\n",
       "    <tr>\n",
       "      <th>4984</th>\n",
       "      <td>62623.359828</td>\n",
       "      <td>5.071624</td>\n",
       "      <td>6.771015</td>\n",
       "      <td>3.33</td>\n",
       "      <td>50985.971202</td>\n",
       "      <td>1.211900e+06</td>\n",
       "      <td>9894 Greg Ridge\\nNorth Tiffanyhaven, ID 66602-...</td>\n",
       "    </tr>\n",
       "    <tr>\n",
       "      <th>4985</th>\n",
       "      <td>75117.042949</td>\n",
       "      <td>6.036275</td>\n",
       "      <td>6.538111</td>\n",
       "      <td>2.22</td>\n",
       "      <td>43976.031060</td>\n",
       "      <td>1.378938e+06</td>\n",
       "      <td>PSC 7442, Box 6234\\nAPO AP 13017</td>\n",
       "    </tr>\n",
       "    <tr>\n",
       "      <th>4986</th>\n",
       "      <td>71060.406015</td>\n",
       "      <td>5.718839</td>\n",
       "      <td>7.222730</td>\n",
       "      <td>4.34</td>\n",
       "      <td>34814.585591</td>\n",
       "      <td>1.260241e+06</td>\n",
       "      <td>5611 Matthew Avenue\\nLake Kevin, FM 72963-8891</td>\n",
       "    </tr>\n",
       "    <tr>\n",
       "      <th>4987</th>\n",
       "      <td>65729.222330</td>\n",
       "      <td>6.237787</td>\n",
       "      <td>6.860475</td>\n",
       "      <td>3.12</td>\n",
       "      <td>25573.854289</td>\n",
       "      <td>1.197073e+06</td>\n",
       "      <td>641 Lisa Parkways Suite 552\\nWest Amandaside, ...</td>\n",
       "    </tr>\n",
       "    <tr>\n",
       "      <th>4988</th>\n",
       "      <td>67637.840665</td>\n",
       "      <td>7.056673</td>\n",
       "      <td>5.774409</td>\n",
       "      <td>3.05</td>\n",
       "      <td>43846.531340</td>\n",
       "      <td>1.275143e+06</td>\n",
       "      <td>6066 Sanders Court Apt. 914\\nSouth Alexis, FM ...</td>\n",
       "    </tr>\n",
       "    <tr>\n",
       "      <th>4989</th>\n",
       "      <td>47965.406896</td>\n",
       "      <td>5.694638</td>\n",
       "      <td>7.363327</td>\n",
       "      <td>5.40</td>\n",
       "      <td>46071.947337</td>\n",
       "      <td>8.852050e+05</td>\n",
       "      <td>19960 Scott Street\\nPort Brenda, MO 02292-8651</td>\n",
       "    </tr>\n",
       "    <tr>\n",
       "      <th>4990</th>\n",
       "      <td>52723.876555</td>\n",
       "      <td>5.452237</td>\n",
       "      <td>8.124571</td>\n",
       "      <td>6.39</td>\n",
       "      <td>14802.088438</td>\n",
       "      <td>4.795006e+05</td>\n",
       "      <td>86727 Kelly Plaza\\nLake Veronica, IL 04474</td>\n",
       "    </tr>\n",
       "    <tr>\n",
       "      <th>4991</th>\n",
       "      <td>74102.191890</td>\n",
       "      <td>5.657841</td>\n",
       "      <td>7.683993</td>\n",
       "      <td>3.13</td>\n",
       "      <td>24041.270592</td>\n",
       "      <td>1.263721e+06</td>\n",
       "      <td>2871 John Lodge\\nAmychester, GU 61734-5597</td>\n",
       "    </tr>\n",
       "    <tr>\n",
       "      <th>4992</th>\n",
       "      <td>87499.125743</td>\n",
       "      <td>6.403473</td>\n",
       "      <td>4.836091</td>\n",
       "      <td>4.02</td>\n",
       "      <td>40815.199679</td>\n",
       "      <td>1.568701e+06</td>\n",
       "      <td>Unit 2096 Box 9559\\nDPO AE 80983-8797</td>\n",
       "    </tr>\n",
       "    <tr>\n",
       "      <th>4993</th>\n",
       "      <td>69639.140896</td>\n",
       "      <td>5.007510</td>\n",
       "      <td>7.778375</td>\n",
       "      <td>6.05</td>\n",
       "      <td>54056.128430</td>\n",
       "      <td>1.381831e+06</td>\n",
       "      <td>5259 David Causeway Apt. 975\\nSouth Alexstad, ...</td>\n",
       "    </tr>\n",
       "    <tr>\n",
       "      <th>4994</th>\n",
       "      <td>73060.846226</td>\n",
       "      <td>5.293682</td>\n",
       "      <td>6.312253</td>\n",
       "      <td>4.16</td>\n",
       "      <td>22695.695480</td>\n",
       "      <td>9.053549e+05</td>\n",
       "      <td>5224 Lamb Passage\\nNancystad, GA 16579</td>\n",
       "    </tr>\n",
       "    <tr>\n",
       "      <th>4995</th>\n",
       "      <td>60567.944140</td>\n",
       "      <td>7.830362</td>\n",
       "      <td>6.137356</td>\n",
       "      <td>3.46</td>\n",
       "      <td>22837.361035</td>\n",
       "      <td>1.060194e+06</td>\n",
       "      <td>USNS Williams\\nFPO AP 30153-7653</td>\n",
       "    </tr>\n",
       "    <tr>\n",
       "      <th>4996</th>\n",
       "      <td>78491.275435</td>\n",
       "      <td>6.999135</td>\n",
       "      <td>6.576763</td>\n",
       "      <td>4.02</td>\n",
       "      <td>25616.115489</td>\n",
       "      <td>1.482618e+06</td>\n",
       "      <td>PSC 9258, Box 8489\\nAPO AA 42991-3352</td>\n",
       "    </tr>\n",
       "    <tr>\n",
       "      <th>4997</th>\n",
       "      <td>63390.686886</td>\n",
       "      <td>7.250591</td>\n",
       "      <td>4.805081</td>\n",
       "      <td>2.13</td>\n",
       "      <td>33266.145490</td>\n",
       "      <td>1.030730e+06</td>\n",
       "      <td>4215 Tracy Garden Suite 076\\nJoshualand, VA 01...</td>\n",
       "    </tr>\n",
       "    <tr>\n",
       "      <th>4998</th>\n",
       "      <td>68001.331235</td>\n",
       "      <td>5.534388</td>\n",
       "      <td>7.130144</td>\n",
       "      <td>5.44</td>\n",
       "      <td>42625.620156</td>\n",
       "      <td>1.198657e+06</td>\n",
       "      <td>USS Wallace\\nFPO AE 73316</td>\n",
       "    </tr>\n",
       "    <tr>\n",
       "      <th>4999</th>\n",
       "      <td>65510.581804</td>\n",
       "      <td>5.992305</td>\n",
       "      <td>6.792336</td>\n",
       "      <td>4.07</td>\n",
       "      <td>46501.283803</td>\n",
       "      <td>1.298950e+06</td>\n",
       "      <td>37778 George Ridges Apt. 509\\nEast Holly, NV 2...</td>\n",
       "    </tr>\n",
       "  </tbody>\n",
       "</table>\n",
       "<p>5000 rows × 7 columns</p>\n",
       "</div>"
      ],
      "text/plain": [
       "      Avg. Area Income  Avg. Area House Age  Avg. Area Number of Rooms  \\\n",
       "0         79545.458574             5.682861                   7.009188   \n",
       "1         79248.642455             6.002900                   6.730821   \n",
       "2         61287.067179             5.865890                   8.512727   \n",
       "3         63345.240046             7.188236                   5.586729   \n",
       "4         59982.197226             5.040555                   7.839388   \n",
       "5         80175.754159             4.988408                   6.104512   \n",
       "6         64698.463428             6.025336                   8.147760   \n",
       "7         78394.339278             6.989780                   6.620478   \n",
       "8         59927.660813             5.362126                   6.393121   \n",
       "9         81885.927184             4.423672                   8.167688   \n",
       "10        80527.472083             8.093513                   5.042747   \n",
       "11        50593.695497             4.496513                   7.467627   \n",
       "12        39033.809237             7.671755                   7.250029   \n",
       "13        73163.663441             6.919535                   5.993188   \n",
       "14        69391.380184             5.344776                   8.406418   \n",
       "15        73091.866746             5.443156                   8.517513   \n",
       "16        79706.963058             5.067890                   8.219771   \n",
       "17        61929.077018             4.788550                   5.097010   \n",
       "18        63508.194299             5.947165                   7.187774   \n",
       "19        62085.276403             5.739411                   7.091808   \n",
       "20        86294.999089             6.627457                   8.011898   \n",
       "21        60835.089979             5.551222                   6.517175   \n",
       "22        64490.650267             4.210323                   5.478088   \n",
       "23        60697.351539             6.170484                   7.150537   \n",
       "24        59748.855487             5.339340                   7.748682   \n",
       "25        56974.476539             8.287562                   7.312880   \n",
       "26        82173.626076             4.018525                   6.992699   \n",
       "27        64626.880978             5.443360                   6.988754   \n",
       "28        90499.057451             6.384359                   4.242191   \n",
       "29        59323.792100             6.977828                   8.273697   \n",
       "...                ...                  ...                        ...   \n",
       "4970      55980.204807             7.014510                   5.458789   \n",
       "4971      73491.134427             5.784430                   4.425959   \n",
       "4972      83695.272383             7.643507                   7.127219   \n",
       "4973      78743.759274             6.583685                   6.595683   \n",
       "4974      70720.296463             6.411801                   5.048128   \n",
       "4975      54037.580879             8.471765                   6.966072   \n",
       "4976      75046.313791             5.351169                   7.797825   \n",
       "4977      75980.438843             6.583105                   5.914892   \n",
       "4978      80393.339500             8.899713                   5.652974   \n",
       "4979      82224.695006             5.434087                   8.375708   \n",
       "4980      75664.024482             5.789203                   6.415312   \n",
       "4981      71663.871293             6.150745                   7.311907   \n",
       "4982      58800.908770             5.976507                   7.304051   \n",
       "4983      69655.183954             7.721100                   6.077795   \n",
       "4984      62623.359828             5.071624                   6.771015   \n",
       "4985      75117.042949             6.036275                   6.538111   \n",
       "4986      71060.406015             5.718839                   7.222730   \n",
       "4987      65729.222330             6.237787                   6.860475   \n",
       "4988      67637.840665             7.056673                   5.774409   \n",
       "4989      47965.406896             5.694638                   7.363327   \n",
       "4990      52723.876555             5.452237                   8.124571   \n",
       "4991      74102.191890             5.657841                   7.683993   \n",
       "4992      87499.125743             6.403473                   4.836091   \n",
       "4993      69639.140896             5.007510                   7.778375   \n",
       "4994      73060.846226             5.293682                   6.312253   \n",
       "4995      60567.944140             7.830362                   6.137356   \n",
       "4996      78491.275435             6.999135                   6.576763   \n",
       "4997      63390.686886             7.250591                   4.805081   \n",
       "4998      68001.331235             5.534388                   7.130144   \n",
       "4999      65510.581804             5.992305                   6.792336   \n",
       "\n",
       "      Avg. Area Number of Bedrooms  Area Population         Price  \\\n",
       "0                             4.09     23086.800503  1.059034e+06   \n",
       "1                             3.09     40173.072174  1.505891e+06   \n",
       "2                             5.13     36882.159400  1.058988e+06   \n",
       "3                             3.26     34310.242831  1.260617e+06   \n",
       "4                             4.23     26354.109472  6.309435e+05   \n",
       "5                             4.04     26748.428425  1.068138e+06   \n",
       "6                             3.41     60828.249085  1.502056e+06   \n",
       "7                             2.42     36516.358972  1.573937e+06   \n",
       "8                             2.30     29387.396003  7.988695e+05   \n",
       "9                             6.10     40149.965749  1.545155e+06   \n",
       "10                            4.10     47224.359840  1.707046e+06   \n",
       "11                            4.49     34343.991886  6.637324e+05   \n",
       "12                            3.10     39220.361467  1.042814e+06   \n",
       "13                            2.27     32326.123139  1.291332e+06   \n",
       "14                            4.37     35521.294033  1.402818e+06   \n",
       "15                            4.01     23929.524053  1.306675e+06   \n",
       "16                            3.12     39717.813576  1.556787e+06   \n",
       "17                            4.30     24595.901498  5.284852e+05   \n",
       "18                            5.12     35719.653052  1.019426e+06   \n",
       "19                            5.49     44922.106702  1.030591e+06   \n",
       "20                            4.07     47560.775336  2.146925e+06   \n",
       "21                            2.10     45574.741662  9.292476e+05   \n",
       "22                            4.31     40358.960106  7.188872e+05   \n",
       "23                            6.34     28140.967088  7.439998e+05   \n",
       "24                            4.23     27809.986544  8.957371e+05   \n",
       "25                            4.33     40694.869513  1.453975e+06   \n",
       "26                            2.03     38853.918066  1.125693e+06   \n",
       "27                            4.00     27784.742280  9.754295e+05   \n",
       "28                            3.04     33970.164990  1.240764e+06   \n",
       "29                            4.07     37520.657732  1.577018e+06   \n",
       "...                            ...              ...           ...   \n",
       "4970                          2.11     43968.687046  1.120943e+06   \n",
       "4971                          3.37     30800.541060  1.111307e+06   \n",
       "4972                          5.05     33113.759057  1.736402e+06   \n",
       "4973                          4.07     24381.144540  1.340770e+06   \n",
       "4974                          3.01     19114.019253  8.013486e+05   \n",
       "4975                          3.27     28696.170856  1.324382e+06   \n",
       "4976                          5.23     34107.888619  1.340344e+06   \n",
       "4977                          3.23     40394.593489  1.518478e+06   \n",
       "4978                          4.04     39547.932489  1.910585e+06   \n",
       "4979                          3.12     57166.867510  1.823498e+06   \n",
       "4980                          2.02     54724.251275  1.406865e+06   \n",
       "4981                          6.33     24109.778060  1.203850e+06   \n",
       "4982                          6.43     37426.709745  1.020096e+06   \n",
       "4983                          4.29     32902.355584  1.194357e+06   \n",
       "4984                          3.33     50985.971202  1.211900e+06   \n",
       "4985                          2.22     43976.031060  1.378938e+06   \n",
       "4986                          4.34     34814.585591  1.260241e+06   \n",
       "4987                          3.12     25573.854289  1.197073e+06   \n",
       "4988                          3.05     43846.531340  1.275143e+06   \n",
       "4989                          5.40     46071.947337  8.852050e+05   \n",
       "4990                          6.39     14802.088438  4.795006e+05   \n",
       "4991                          3.13     24041.270592  1.263721e+06   \n",
       "4992                          4.02     40815.199679  1.568701e+06   \n",
       "4993                          6.05     54056.128430  1.381831e+06   \n",
       "4994                          4.16     22695.695480  9.053549e+05   \n",
       "4995                          3.46     22837.361035  1.060194e+06   \n",
       "4996                          4.02     25616.115489  1.482618e+06   \n",
       "4997                          2.13     33266.145490  1.030730e+06   \n",
       "4998                          5.44     42625.620156  1.198657e+06   \n",
       "4999                          4.07     46501.283803  1.298950e+06   \n",
       "\n",
       "                                                Address  \n",
       "0     208 Michael Ferry Apt. 674\\nLaurabury, NE 3701...  \n",
       "1     188 Johnson Views Suite 079\\nLake Kathleen, CA...  \n",
       "2     9127 Elizabeth Stravenue\\nDanieltown, WI 06482...  \n",
       "3                             USS Barnett\\nFPO AP 44820  \n",
       "4                            USNS Raymond\\nFPO AE 09386  \n",
       "5     06039 Jennifer Islands Apt. 443\\nTracyport, KS...  \n",
       "6     4759 Daniel Shoals Suite 442\\nNguyenburgh, CO ...  \n",
       "7        972 Joyce Viaduct\\nLake William, TN 17778-6483  \n",
       "8                             USS Gilbert\\nFPO AA 20957  \n",
       "9                      Unit 9446 Box 0958\\nDPO AE 97025  \n",
       "10    6368 John Motorway Suite 700\\nJanetbury, NM 26854  \n",
       "11    911 Castillo Park Apt. 717\\nDavisborough, PW 7...  \n",
       "12    209 Natasha Stream Suite 961\\nHuffmanland, NE ...  \n",
       "13    829 Welch Track Apt. 992\\nNorth John, AR 26532...  \n",
       "14                     PSC 5330, Box 4420\\nAPO AP 08302  \n",
       "15       2278 Shannon View\\nNorth Carriemouth, NM 84617  \n",
       "16     064 Hayley Unions\\nNicholsborough, HI 44161-1887  \n",
       "17        5498 Rachel Locks\\nNew Gregoryshire, PW 54755  \n",
       "18                     Unit 7424 Box 2786\\nDPO AE 71255  \n",
       "19      19696 Benjamin Cape\\nStephentown, ME 36952-4733  \n",
       "20    030 Larry Park Suite 665\\nThomashaven, HI 8794...  \n",
       "21                             USNS Brown\\nFPO AP 85833  \n",
       "22            95198 Ortiz Key\\nPort Sara, TN 24541-2855  \n",
       "23    9003 Jay Plains Suite 838\\nLake Elizabeth, IN ...  \n",
       "24         24282 Paul Valley\\nWest Perry, MI 03169-5806  \n",
       "25               61938 Brady Falls\\nLewisfort, DE 61227  \n",
       "26         3599 Ramirez Springs\\nJacksonhaven, AZ 72798  \n",
       "27    073 Christopher Falls Suite 882\\nWest Cynthia,...  \n",
       "28    6531 Chase Prairie Apt. 245\\nSusanshire, MN 22365  \n",
       "29    17124 Johnson Squares\\nLake Robertfurt, AL 618...  \n",
       "...                                                 ...  \n",
       "4970  2558 King Trail\\nEast Catherinebury, MP 23625-...  \n",
       "4971  6043 Stevens Stream\\nWest Kimberlymouth, ME 49723  \n",
       "4972  33465 Hernandez Forest Apt. 692\\nPort Ashleyfo...  \n",
       "4973   805 David Knoll Apt. 216\\nMccarthyview, GU 74316  \n",
       "4974  14742 Lopez Ridge Apt. 889\\nJessicatown, CA 28254  \n",
       "4975  6278 Jenkins Harbors Apt. 807\\nNew Yvettehaven...  \n",
       "4976           55823 Stuart Fields\\nNunezstad, NM 03601  \n",
       "4977  1831 Escobar Plain Suite 171\\nMartinezberg, OH...  \n",
       "4978        02084 Rivera Lock\\nHallville, NJ 32367-9579  \n",
       "4979     4679 Turner Tunnel\\nRosariobury, CT 68552-4766  \n",
       "4980   0476 Jessica Shoals\\nMelissamouth, DE 39609-2777  \n",
       "4981    1316 Tony Inlet Suite 235\\nWest Jimmy, SC 72946  \n",
       "4982    109 Lee Wall Apt. 315\\nLunamouth, AZ 05121-3634  \n",
       "4983  39174 Jessica Mission Apt. 539\\nWest Cindyboro...  \n",
       "4984  9894 Greg Ridge\\nNorth Tiffanyhaven, ID 66602-...  \n",
       "4985                   PSC 7442, Box 6234\\nAPO AP 13017  \n",
       "4986     5611 Matthew Avenue\\nLake Kevin, FM 72963-8891  \n",
       "4987  641 Lisa Parkways Suite 552\\nWest Amandaside, ...  \n",
       "4988  6066 Sanders Court Apt. 914\\nSouth Alexis, FM ...  \n",
       "4989     19960 Scott Street\\nPort Brenda, MO 02292-8651  \n",
       "4990         86727 Kelly Plaza\\nLake Veronica, IL 04474  \n",
       "4991         2871 John Lodge\\nAmychester, GU 61734-5597  \n",
       "4992              Unit 2096 Box 9559\\nDPO AE 80983-8797  \n",
       "4993  5259 David Causeway Apt. 975\\nSouth Alexstad, ...  \n",
       "4994             5224 Lamb Passage\\nNancystad, GA 16579  \n",
       "4995                   USNS Williams\\nFPO AP 30153-7653  \n",
       "4996              PSC 9258, Box 8489\\nAPO AA 42991-3352  \n",
       "4997  4215 Tracy Garden Suite 076\\nJoshualand, VA 01...  \n",
       "4998                          USS Wallace\\nFPO AE 73316  \n",
       "4999  37778 George Ridges Apt. 509\\nEast Holly, NV 2...  \n",
       "\n",
       "[5000 rows x 7 columns]"
      ]
     },
     "execution_count": 14,
     "metadata": {},
     "output_type": "execute_result"
    }
   ],
   "source": [
    "# linear algebra\n",
    "import numpy as np \n",
    "\n",
    "# data processing\n",
    "import pandas as pd \n",
    "\n",
    "# data visualization\n",
    "import seaborn as sns\n",
    "%matplotlib inline\n",
    "from matplotlib import pyplot as plt\n",
    "from matplotlib import style\n",
    "\n",
    "housing_data = pd.read_csv(\"/Users/digitalisdiana/Downloads/Regression_01/exercice/data/USA_Housing.csv\")\n",
    "housing_data"
   ]
  },
  {
   "cell_type": "markdown",
   "metadata": {},
   "source": [
    "**b. Utilisez la méthode 'info()' pour vérifier les types de données et le nombre**"
   ]
  },
  {
   "cell_type": "code",
   "execution_count": 15,
   "metadata": {},
   "outputs": [
    {
     "name": "stdout",
     "output_type": "stream",
     "text": [
      "<class 'pandas.core.frame.DataFrame'>\n",
      "RangeIndex: 5000 entries, 0 to 4999\n",
      "Data columns (total 7 columns):\n",
      "Avg. Area Income                5000 non-null float64\n",
      "Avg. Area House Age             5000 non-null float64\n",
      "Avg. Area Number of Rooms       5000 non-null float64\n",
      "Avg. Area Number of Bedrooms    5000 non-null float64\n",
      "Area Population                 5000 non-null float64\n",
      "Price                           5000 non-null float64\n",
      "Address                         5000 non-null object\n",
      "dtypes: float64(6), object(1)\n",
      "memory usage: 273.5+ KB\n"
     ]
    }
   ],
   "source": [
    "housing_data.info()"
   ]
  },
  {
   "cell_type": "markdown",
   "metadata": {},
   "source": [
    "**c. Utilisez la méthode 'describe ()' pour obtenir le résumé statistique des différentes caractéristiques de l'ensemble de données**"
   ]
  },
  {
   "cell_type": "code",
   "execution_count": 16,
   "metadata": {},
   "outputs": [
    {
     "data": {
      "text/html": [
       "<div>\n",
       "<style scoped>\n",
       "    .dataframe tbody tr th:only-of-type {\n",
       "        vertical-align: middle;\n",
       "    }\n",
       "\n",
       "    .dataframe tbody tr th {\n",
       "        vertical-align: top;\n",
       "    }\n",
       "\n",
       "    .dataframe thead th {\n",
       "        text-align: right;\n",
       "    }\n",
       "</style>\n",
       "<table border=\"1\" class=\"dataframe\">\n",
       "  <thead>\n",
       "    <tr style=\"text-align: right;\">\n",
       "      <th></th>\n",
       "      <th>Avg. Area Income</th>\n",
       "      <th>Avg. Area House Age</th>\n",
       "      <th>Avg. Area Number of Rooms</th>\n",
       "      <th>Avg. Area Number of Bedrooms</th>\n",
       "      <th>Area Population</th>\n",
       "      <th>Price</th>\n",
       "    </tr>\n",
       "  </thead>\n",
       "  <tbody>\n",
       "    <tr>\n",
       "      <th>count</th>\n",
       "      <td>5000.000000</td>\n",
       "      <td>5000.000000</td>\n",
       "      <td>5000.000000</td>\n",
       "      <td>5000.000000</td>\n",
       "      <td>5000.000000</td>\n",
       "      <td>5.000000e+03</td>\n",
       "    </tr>\n",
       "    <tr>\n",
       "      <th>mean</th>\n",
       "      <td>68583.108984</td>\n",
       "      <td>5.977222</td>\n",
       "      <td>6.987792</td>\n",
       "      <td>3.981330</td>\n",
       "      <td>36163.516039</td>\n",
       "      <td>1.232073e+06</td>\n",
       "    </tr>\n",
       "    <tr>\n",
       "      <th>std</th>\n",
       "      <td>10657.991214</td>\n",
       "      <td>0.991456</td>\n",
       "      <td>1.005833</td>\n",
       "      <td>1.234137</td>\n",
       "      <td>9925.650114</td>\n",
       "      <td>3.531176e+05</td>\n",
       "    </tr>\n",
       "    <tr>\n",
       "      <th>min</th>\n",
       "      <td>17796.631190</td>\n",
       "      <td>2.644304</td>\n",
       "      <td>3.236194</td>\n",
       "      <td>2.000000</td>\n",
       "      <td>172.610686</td>\n",
       "      <td>1.593866e+04</td>\n",
       "    </tr>\n",
       "    <tr>\n",
       "      <th>25%</th>\n",
       "      <td>61480.562388</td>\n",
       "      <td>5.322283</td>\n",
       "      <td>6.299250</td>\n",
       "      <td>3.140000</td>\n",
       "      <td>29403.928702</td>\n",
       "      <td>9.975771e+05</td>\n",
       "    </tr>\n",
       "    <tr>\n",
       "      <th>50%</th>\n",
       "      <td>68804.286404</td>\n",
       "      <td>5.970429</td>\n",
       "      <td>7.002902</td>\n",
       "      <td>4.050000</td>\n",
       "      <td>36199.406689</td>\n",
       "      <td>1.232669e+06</td>\n",
       "    </tr>\n",
       "    <tr>\n",
       "      <th>75%</th>\n",
       "      <td>75783.338666</td>\n",
       "      <td>6.650808</td>\n",
       "      <td>7.665871</td>\n",
       "      <td>4.490000</td>\n",
       "      <td>42861.290769</td>\n",
       "      <td>1.471210e+06</td>\n",
       "    </tr>\n",
       "    <tr>\n",
       "      <th>max</th>\n",
       "      <td>107701.748378</td>\n",
       "      <td>9.519088</td>\n",
       "      <td>10.759588</td>\n",
       "      <td>6.500000</td>\n",
       "      <td>69621.713378</td>\n",
       "      <td>2.469066e+06</td>\n",
       "    </tr>\n",
       "  </tbody>\n",
       "</table>\n",
       "</div>"
      ],
      "text/plain": [
       "       Avg. Area Income  Avg. Area House Age  Avg. Area Number of Rooms  \\\n",
       "count       5000.000000          5000.000000                5000.000000   \n",
       "mean       68583.108984             5.977222                   6.987792   \n",
       "std        10657.991214             0.991456                   1.005833   \n",
       "min        17796.631190             2.644304                   3.236194   \n",
       "25%        61480.562388             5.322283                   6.299250   \n",
       "50%        68804.286404             5.970429                   7.002902   \n",
       "75%        75783.338666             6.650808                   7.665871   \n",
       "max       107701.748378             9.519088                  10.759588   \n",
       "\n",
       "       Avg. Area Number of Bedrooms  Area Population         Price  \n",
       "count                   5000.000000      5000.000000  5.000000e+03  \n",
       "mean                       3.981330     36163.516039  1.232073e+06  \n",
       "std                        1.234137      9925.650114  3.531176e+05  \n",
       "min                        2.000000       172.610686  1.593866e+04  \n",
       "25%                        3.140000     29403.928702  9.975771e+05  \n",
       "50%                        4.050000     36199.406689  1.232669e+06  \n",
       "75%                        4.490000     42861.290769  1.471210e+06  \n",
       "max                        6.500000     69621.713378  2.469066e+06  "
      ]
     },
     "execution_count": 16,
     "metadata": {},
     "output_type": "execute_result"
    }
   ],
   "source": [
    "housing_data.describe()"
   ]
  },
  {
   "cell_type": "markdown",
   "metadata": {},
   "source": [
    "**d. Utilisez l'attribut 'columns' pour obtenir les noms des colonnes (attributs)**"
   ]
  },
  {
   "cell_type": "code",
   "execution_count": 17,
   "metadata": {},
   "outputs": [
    {
     "data": {
      "text/plain": [
       "Index(['Avg. Area Income', 'Avg. Area House Age', 'Avg. Area Number of Rooms',\n",
       "       'Avg. Area Number of Bedrooms', 'Area Population', 'Price', 'Address'],\n",
       "      dtype='object')"
      ]
     },
     "execution_count": 17,
     "metadata": {},
     "output_type": "execute_result"
    }
   ],
   "source": [
    "housing_data.columns"
   ]
  },
  {
   "cell_type": "markdown",
   "metadata": {},
   "source": [
    "---------------------------------------------------------------------------------------------------------------------------------------------------------------------------------------------------------------<br><br>\n",
    "### Q2:  visualisation du dataset "
   ]
  },
  {
   "cell_type": "markdown",
   "metadata": {},
   "source": [
    "\n",
    "**a. afficher l'histogramme des prix**"
   ]
  },
  {
   "cell_type": "code",
   "execution_count": 18,
   "metadata": {},
   "outputs": [
    {
     "data": {
      "text/plain": [
       "<matplotlib.axes._subplots.AxesSubplot at 0x1a20993828>"
      ]
     },
     "execution_count": 18,
     "metadata": {},
     "output_type": "execute_result"
    },
    {
     "data": {
      "image/png": "[encoded data removed]",
      "text/plain": [
       "<Figure size 432x288 with 1 Axes>"
      ]
     },
     "metadata": {},
     "output_type": "display_data"
    }
   ],
   "source": [
    "#plt.hist(dataset['Price'])\n",
    "#sns.pairplot(dataset)\n",
    "housing_data[\"Price\"].plot.density()"
   ]
  },
  {
   "cell_type": "markdown",
   "metadata": {},
   "source": [
    "### **b. afficher matrice de correlation dans un heatmap**"
   ]
  },
  {
   "cell_type": "code",
   "execution_count": 40,
   "metadata": {},
   "outputs": [
    {
     "data": {
      "text/plain": [
       "<matplotlib.axes._subplots.AxesSubplot at 0x1a215acd30>"
      ]
     },
     "execution_count": 40,
     "metadata": {},
     "output_type": "execute_result"
    },
    {
     "data": {
      "image/png": "[encoded data removed]",
      "text/plain": [
       "<Figure size 864x576 with 2 Axes>"
      ]
     },
     "metadata": {},
     "output_type": "display_data"
    }
   ],
   "source": [
    "corr_data = housing_data.corr()\n",
    "plt.figure(figsize=(12,8))\n",
    "sns.heatmap(corr_data, annot=True)\n"
   ]
  },
  {
   "cell_type": "markdown",
   "metadata": {},
   "source": [
    "-------------------------------------------------------------------------------------------------------------------------------------------------------------------------------------------------------------<br><br>\n",
    "### Q3. Ensembles de caractéristiques des maisons"
   ]
  },
  {
   "cell_type": "markdown",
   "metadata": {},
   "source": [
    "**a. Mettez toutes les caractéristiques numériques dans X et Price dans y, ignorez l'adresse qui est une chaîne pour la régression linéaire** \n"
   ]
  },
  {
   "cell_type": "code",
   "execution_count": 20,
   "metadata": {},
   "outputs": [
    {
     "data": {
      "text/html": [
       "<div>\n",
       "<style scoped>\n",
       "    .dataframe tbody tr th:only-of-type {\n",
       "        vertical-align: middle;\n",
       "    }\n",
       "\n",
       "    .dataframe tbody tr th {\n",
       "        vertical-align: top;\n",
       "    }\n",
       "\n",
       "    .dataframe thead th {\n",
       "        text-align: right;\n",
       "    }\n",
       "</style>\n",
       "<table border=\"1\" class=\"dataframe\">\n",
       "  <thead>\n",
       "    <tr style=\"text-align: right;\">\n",
       "      <th></th>\n",
       "      <th>Avg. Area Income</th>\n",
       "      <th>Avg. Area House Age</th>\n",
       "      <th>Avg. Area Number of Rooms</th>\n",
       "      <th>Avg. Area Number of Bedrooms</th>\n",
       "      <th>Area Population</th>\n",
       "    </tr>\n",
       "  </thead>\n",
       "  <tbody>\n",
       "    <tr>\n",
       "      <th>0</th>\n",
       "      <td>79545.458574</td>\n",
       "      <td>5.682861</td>\n",
       "      <td>7.009188</td>\n",
       "      <td>4.09</td>\n",
       "      <td>23086.800503</td>\n",
       "    </tr>\n",
       "    <tr>\n",
       "      <th>1</th>\n",
       "      <td>79248.642455</td>\n",
       "      <td>6.002900</td>\n",
       "      <td>6.730821</td>\n",
       "      <td>3.09</td>\n",
       "      <td>40173.072174</td>\n",
       "    </tr>\n",
       "    <tr>\n",
       "      <th>2</th>\n",
       "      <td>61287.067179</td>\n",
       "      <td>5.865890</td>\n",
       "      <td>8.512727</td>\n",
       "      <td>5.13</td>\n",
       "      <td>36882.159400</td>\n",
       "    </tr>\n",
       "    <tr>\n",
       "      <th>3</th>\n",
       "      <td>63345.240046</td>\n",
       "      <td>7.188236</td>\n",
       "      <td>5.586729</td>\n",
       "      <td>3.26</td>\n",
       "      <td>34310.242831</td>\n",
       "    </tr>\n",
       "    <tr>\n",
       "      <th>4</th>\n",
       "      <td>59982.197226</td>\n",
       "      <td>5.040555</td>\n",
       "      <td>7.839388</td>\n",
       "      <td>4.23</td>\n",
       "      <td>26354.109472</td>\n",
       "    </tr>\n",
       "  </tbody>\n",
       "</table>\n",
       "</div>"
      ],
      "text/plain": [
       "   Avg. Area Income  Avg. Area House Age  Avg. Area Number of Rooms  \\\n",
       "0      79545.458574             5.682861                   7.009188   \n",
       "1      79248.642455             6.002900                   6.730821   \n",
       "2      61287.067179             5.865890                   8.512727   \n",
       "3      63345.240046             7.188236                   5.586729   \n",
       "4      59982.197226             5.040555                   7.839388   \n",
       "\n",
       "   Avg. Area Number of Bedrooms  Area Population  \n",
       "0                          4.09     23086.800503  \n",
       "1                          3.09     40173.072174  \n",
       "2                          5.13     36882.159400  \n",
       "3                          3.26     34310.242831  \n",
       "4                          4.23     26354.109472  "
      ]
     },
     "execution_count": 20,
     "metadata": {},
     "output_type": "execute_result"
    }
   ],
   "source": [
    "X = housing_data.drop([\"Price\",\"Address\"],axis = 1)\n",
    "X.head()"
   ]
  },
  {
   "cell_type": "code",
   "execution_count": 22,
   "metadata": {},
   "outputs": [
    {
     "data": {
      "text/html": [
       "<div>\n",
       "<style scoped>\n",
       "    .dataframe tbody tr th:only-of-type {\n",
       "        vertical-align: middle;\n",
       "    }\n",
       "\n",
       "    .dataframe tbody tr th {\n",
       "        vertical-align: top;\n",
       "    }\n",
       "\n",
       "    .dataframe thead th {\n",
       "        text-align: right;\n",
       "    }\n",
       "</style>\n",
       "<table border=\"1\" class=\"dataframe\">\n",
       "  <thead>\n",
       "    <tr style=\"text-align: right;\">\n",
       "      <th></th>\n",
       "      <th>Price</th>\n",
       "    </tr>\n",
       "  </thead>\n",
       "  <tbody>\n",
       "    <tr>\n",
       "      <th>0</th>\n",
       "      <td>1.059034e+06</td>\n",
       "    </tr>\n",
       "    <tr>\n",
       "      <th>1</th>\n",
       "      <td>1.505891e+06</td>\n",
       "    </tr>\n",
       "    <tr>\n",
       "      <th>2</th>\n",
       "      <td>1.058988e+06</td>\n",
       "    </tr>\n",
       "    <tr>\n",
       "      <th>3</th>\n",
       "      <td>1.260617e+06</td>\n",
       "    </tr>\n",
       "    <tr>\n",
       "      <th>4</th>\n",
       "      <td>6.309435e+05</td>\n",
       "    </tr>\n",
       "  </tbody>\n",
       "</table>\n",
       "</div>"
      ],
      "text/plain": [
       "          Price\n",
       "0  1.059034e+06\n",
       "1  1.505891e+06\n",
       "2  1.058988e+06\n",
       "3  1.260617e+06\n",
       "4  6.309435e+05"
      ]
     },
     "execution_count": 22,
     "metadata": {},
     "output_type": "execute_result"
    }
   ],
   "source": [
    "y = housing_data[[\"Price\"]]\n",
    "y.head()"
   ]
  },
  {
   "cell_type": "markdown",
   "metadata": {},
   "source": [
    "**b. Affichez les shape de X et de y**"
   ]
  },
  {
   "cell_type": "code",
   "execution_count": 23,
   "metadata": {},
   "outputs": [
    {
     "name": "stdout",
     "output_type": "stream",
     "text": [
      "X= (5000, 5) y= (5000, 1)\n"
     ]
    }
   ],
   "source": [
    "print(\"X=\", X.shape ,\"y=\", y.shape)"
   ]
  },
  {
   "cell_type": "markdown",
   "metadata": {},
   "source": [
    "----------------------------------------------------------------------------------------------------------------------------------------------------------------------------------------------------------<br><br>\n",
    "### Q3: Test-train split"
   ]
  },
  {
   "cell_type": "markdown",
   "metadata": {},
   "source": [
    "**a. Créez un train X et y et testez les divisions en une seule commande en utilisant un rapport de division et une graine aléatoire**"
   ]
  },
  {
   "cell_type": "code",
   "execution_count": 25,
   "metadata": {},
   "outputs": [
    {
     "data": {
      "text/html": [
       "<div>\n",
       "<style scoped>\n",
       "    .dataframe tbody tr th:only-of-type {\n",
       "        vertical-align: middle;\n",
       "    }\n",
       "\n",
       "    .dataframe tbody tr th {\n",
       "        vertical-align: top;\n",
       "    }\n",
       "\n",
       "    .dataframe thead th {\n",
       "        text-align: right;\n",
       "    }\n",
       "</style>\n",
       "<table border=\"1\" class=\"dataframe\">\n",
       "  <thead>\n",
       "    <tr style=\"text-align: right;\">\n",
       "      <th></th>\n",
       "      <th>Price</th>\n",
       "    </tr>\n",
       "  </thead>\n",
       "  <tbody>\n",
       "    <tr>\n",
       "      <th>1233</th>\n",
       "      <td>1.336378e+06</td>\n",
       "    </tr>\n",
       "    <tr>\n",
       "      <th>1056</th>\n",
       "      <td>1.747911e+06</td>\n",
       "    </tr>\n",
       "    <tr>\n",
       "      <th>1686</th>\n",
       "      <td>8.868159e+05</td>\n",
       "    </tr>\n",
       "    <tr>\n",
       "      <th>187</th>\n",
       "      <td>1.211102e+06</td>\n",
       "    </tr>\n",
       "    <tr>\n",
       "      <th>3840</th>\n",
       "      <td>1.376898e+06</td>\n",
       "    </tr>\n",
       "  </tbody>\n",
       "</table>\n",
       "</div>"
      ],
      "text/plain": [
       "             Price\n",
       "1233  1.336378e+06\n",
       "1056  1.747911e+06\n",
       "1686  8.868159e+05\n",
       "187   1.211102e+06\n",
       "3840  1.376898e+06"
      ]
     },
     "execution_count": 25,
     "metadata": {},
     "output_type": "execute_result"
    }
   ],
   "source": [
    "from sklearn.model_selection import train_test_split\n",
    "X_train, X_test, y_train, y_test = train_test_split(X, y, random_state = True ,test_size = 0.2)\n",
    "y_train.head()"
   ]
  },
  {
   "cell_type": "code",
   "execution_count": 26,
   "metadata": {},
   "outputs": [
    {
     "data": {
      "text/plain": [
       "Index(['Price'], dtype='object')"
      ]
     },
     "execution_count": 26,
     "metadata": {},
     "output_type": "execute_result"
    }
   ],
   "source": [
    "y_test.columns"
   ]
  },
  {
   "cell_type": "markdown",
   "metadata": {},
   "source": [
    "----------------------------------------------------------------------------------------------------------------------------------------------------------------------------------------------------<br><br>\n",
    "**b. Vérifiez la taille et la forme des divisions train / test (elles doivent être dans le rapport du paramètre test_size ci-dessus)**"
   ]
  },
  {
   "cell_type": "code",
   "execution_count": 42,
   "metadata": {},
   "outputs": [
    {
     "name": "stdout",
     "output_type": "stream",
     "text": [
      "X_train = (4000, 5) \n",
      "y_train = (4000, 1) \n",
      "X_test = (1000, 5) \n",
      "y_test = (1000, 1)\n"
     ]
    }
   ],
   "source": [
    "print(\"X_train =\", X_train.shape,\"\\n\"\n",
    "      \"y_train =\", y_train.shape,\"\\n\"\n",
    "      \"X_test =\", X_test.shape,\"\\n\"\n",
    "      \"y_test =\", y_test.shape)"
   ]
  },
  {
   "cell_type": "markdown",
   "metadata": {},
   "source": [
    "-------------------------------------------------------------------------------------------------------------------------------------------------------------------------------------------------------------<br><br>\n",
    "### Q4: Model fit et training"
   ]
  },
  {
   "cell_type": "markdown",
   "metadata": {},
   "source": [
    "**a. initialisez le model de regression linéaire**\n",
    "**b. formez le model sur les données d'entrainements en utilisant la fonction fit**"
   ]
  },
  {
   "cell_type": "code",
   "execution_count": 43,
   "metadata": {},
   "outputs": [
    {
     "data": {
      "text/plain": [
       "LinearRegression()"
      ]
     },
     "execution_count": 43,
     "metadata": {},
     "output_type": "execute_result"
    }
   ],
   "source": [
    "from sklearn.linear_model import LinearRegression \n",
    "lr_model = LinearRegression() \n",
    "lr_model.fit(X_train,y_train)"
   ]
  },
  {
   "cell_type": "markdown",
   "metadata": {},
   "source": [
    "-----------------------------------------------------------------------------------------------------------------------------------------------------------------------------------------------------------<br><br>\n",
    "**c. Affichez l'interception et les coefficients**"
   ]
  },
  {
   "cell_type": "code",
   "execution_count": 44,
   "metadata": {},
   "outputs": [
    {
     "data": {
      "text/plain": [
       "array([-2637185.64007631])"
      ]
     },
     "execution_count": 44,
     "metadata": {},
     "output_type": "execute_result"
    }
   ],
   "source": [
    "lr_model.intercept_"
   ]
  },
  {
   "cell_type": "code",
   "execution_count": 45,
   "metadata": {},
   "outputs": [
    {
     "data": {
      "text/plain": [
       "array([[2.16667346e+01, 1.64990052e+05, 1.20784238e+05, 1.54252468e+03,\n",
       "        1.51503697e+01]])"
      ]
     },
     "execution_count": 45,
     "metadata": {},
     "output_type": "execute_result"
    }
   ],
   "source": [
    "lr_model.coef_"
   ]
  },
  {
   "cell_type": "markdown",
   "metadata": {},
   "source": [
    "### Q5: Matrices d'évaluation de prédiction, d'estimation d'erreur et de régression"
   ]
  },
  {
   "cell_type": "markdown",
   "metadata": {},
   "source": [
    "**Prédiction à l'aide du modèle LR**\n",
    "\n",
    "**a.   faites une prédiction sur les données de tests et afficher le type et la taille des prédictions**"
   ]
  },
  {
   "cell_type": "code",
   "execution_count": 46,
   "metadata": {},
   "outputs": [
    {
     "data": {
      "text/plain": [
       "(1000, 1)"
      ]
     },
     "execution_count": 46,
     "metadata": {},
     "output_type": "execute_result"
    }
   ],
   "source": [
    "y_pred = lr_model.predict(X_test) \n",
    "y_pred.shape"
   ]
  },
  {
   "cell_type": "markdown",
   "metadata": {},
   "source": [
    "-------------------------------------------------------------------------------------------------------------------------------------------------------------------------------------------------------<br><br>\n",
    "**b. affichez le nuage de points du prix prédit et du jeu y_test pour voir si les données tombent sur une ligne droite à 45 degrés**"
   ]
  },
  {
   "cell_type": "code",
   "execution_count": 47,
   "metadata": {},
   "outputs": [
    {
     "data": {
      "text/plain": [
       "<matplotlib.collections.PathCollection at 0x1a21bea588>"
      ]
     },
     "execution_count": 47,
     "metadata": {},
     "output_type": "execute_result"
    },
    {
     "data": {
      "image/png": "[encoded data removed]",
      "text/plain": [
       "<Figure size 432x288 with 1 Axes>"
      ]
     },
     "metadata": {},
     "output_type": "display_data"
    }
   ],
   "source": [
    "plt.scatter(y_pred, y_test[\"Price\"], c = \"purple\")"
   ]
  },
  {
   "cell_type": "markdown",
   "metadata": {},
   "source": [
    "-----------------------------------------------------------------------------------------------------------------------------------------------------------------------------------------------------<br><br>\n",
    "**c. Tracer l'histogramme des résidus, c'est-à-dire les erreurs prédites (attendez-vous à un modèle normalement distribué)**"
   ]
  },
  {
   "cell_type": "code",
   "execution_count": 50,
   "metadata": {},
   "outputs": [
    {
     "data": {
      "text/html": [
       "<div>\n",
       "<style scoped>\n",
       "    .dataframe tbody tr th:only-of-type {\n",
       "        vertical-align: middle;\n",
       "    }\n",
       "\n",
       "    .dataframe tbody tr th {\n",
       "        vertical-align: top;\n",
       "    }\n",
       "\n",
       "    .dataframe thead th {\n",
       "        text-align: right;\n",
       "    }\n",
       "</style>\n",
       "<table border=\"1\" class=\"dataframe\">\n",
       "  <thead>\n",
       "    <tr style=\"text-align: right;\">\n",
       "      <th></th>\n",
       "      <th>Price</th>\n",
       "      <th>prediction</th>\n",
       "      <th>error</th>\n",
       "    </tr>\n",
       "  </thead>\n",
       "  <tbody>\n",
       "    <tr>\n",
       "      <th>2764</th>\n",
       "      <td>1.413580e+06</td>\n",
       "      <td>1.554219e+06</td>\n",
       "      <td>-140639.340837</td>\n",
       "    </tr>\n",
       "    <tr>\n",
       "      <th>4767</th>\n",
       "      <td>1.618721e+06</td>\n",
       "      <td>1.582983e+06</td>\n",
       "      <td>35737.750654</td>\n",
       "    </tr>\n",
       "    <tr>\n",
       "      <th>3814</th>\n",
       "      <td>8.413925e+05</td>\n",
       "      <td>9.418493e+05</td>\n",
       "      <td>-100456.849957</td>\n",
       "    </tr>\n",
       "    <tr>\n",
       "      <th>3499</th>\n",
       "      <td>8.814439e+05</td>\n",
       "      <td>9.437527e+05</td>\n",
       "      <td>-62308.774938</td>\n",
       "    </tr>\n",
       "    <tr>\n",
       "      <th>2735</th>\n",
       "      <td>1.174748e+06</td>\n",
       "      <td>1.183411e+06</td>\n",
       "      <td>-8662.959895</td>\n",
       "    </tr>\n",
       "  </tbody>\n",
       "</table>\n",
       "</div>"
      ],
      "text/plain": [
       "             Price    prediction          error\n",
       "2764  1.413580e+06  1.554219e+06 -140639.340837\n",
       "4767  1.618721e+06  1.582983e+06   35737.750654\n",
       "3814  8.413925e+05  9.418493e+05 -100456.849957\n",
       "3499  8.814439e+05  9.437527e+05  -62308.774938\n",
       "2735  1.174748e+06  1.183411e+06   -8662.959895"
      ]
     },
     "execution_count": 50,
     "metadata": {},
     "output_type": "execute_result"
    }
   ],
   "source": [
    "res_data = y_test.copy()\n",
    "res_data['prediction'] = y_pred\n",
    "res_data['error'] = res_data['Price'] - res_data['prediction']\n",
    "res_data.head()"
   ]
  },
  {
   "cell_type": "code",
   "execution_count": 59,
   "metadata": {},
   "outputs": [
    {
     "data": {
      "text/plain": [
       "(array([ 2.,  0.,  2.,  0.,  1.,  1.,  5.,  2.,  3.,  4.,  5.,  9., 11.,\n",
       "        14., 15., 22., 14., 24., 26., 31., 32., 29., 42., 49., 38., 46.,\n",
       "        51., 38., 33., 39., 43., 42., 42., 46., 30., 24., 25., 30., 21.,\n",
       "        22., 14., 15., 10., 13.,  9.,  7.,  7.,  3.,  2.,  1.,  0.,  2.,\n",
       "         1.,  0.,  0.,  1.,  0.,  0.,  1.,  1.]),\n",
       " array([-323990.42179396, -312523.92732289, -301057.43285182,\n",
       "        -289590.93838075, -278124.44390968, -266657.94943861,\n",
       "        -255191.45496754, -243724.96049647, -232258.4660254 ,\n",
       "        -220791.97155433, -209325.47708326, -197858.98261219,\n",
       "        -186392.48814112, -174925.99367005, -163459.49919898,\n",
       "        -151993.00472791, -140526.51025684, -129060.01578577,\n",
       "        -117593.5213147 , -106127.02684363,  -94660.53237256,\n",
       "         -83194.03790149,  -71727.54343042,  -60261.04895935,\n",
       "         -48794.55448829,  -37328.06001722,  -25861.56554615,\n",
       "         -14395.07107508,   -2928.57660401,    8537.91786706,\n",
       "          20004.41233813,   31470.9068092 ,   42937.40128027,\n",
       "          54403.89575134,   65870.39022241,   77336.88469348,\n",
       "          88803.37916455,  100269.87363562,  111736.36810669,\n",
       "         123202.86257776,  134669.35704883,  146135.8515199 ,\n",
       "         157602.34599097,  169068.84046204,  180535.33493311,\n",
       "         192001.82940418,  203468.32387525,  214934.81834632,\n",
       "         226401.31281738,  237867.80728845,  249334.30175952,\n",
       "         260800.79623059,  272267.29070166,  283733.78517273,\n",
       "         295200.2796438 ,  306666.77411487,  318133.26858594,\n",
       "         329599.76305701,  341066.25752808,  352532.75199915,\n",
       "         363999.24647022]),\n",
       " <a list of 60 Patch objects>)"
      ]
     },
     "execution_count": 59,
     "metadata": {},
     "output_type": "execute_result"
    },
    {
     "data": {
      "image/png": "[encoded data removed]",
      "text/plain": [
       "<Figure size 432x288 with 1 Axes>"
      ]
     },
     "metadata": {},
     "output_type": "display_data"
    }
   ],
   "source": [
    "plt.hist(res_data[\"error\"], bins = 60)"
   ]
  },
  {
   "cell_type": "markdown",
   "metadata": {},
   "source": [
    "--------------------------------------------------------------------------------------------------------------------------------------------------------------------------------------------------------<br><br>\n",
    "**d. Tracez le nuage de points des valeurs résiduelles et prédites**"
   ]
  },
  {
   "cell_type": "code",
   "execution_count": 61,
   "metadata": {},
   "outputs": [
    {
     "data": {
      "text/plain": [
       "<matplotlib.collections.PathCollection at 0x1a227aa860>"
      ]
     },
     "execution_count": 61,
     "metadata": {},
     "output_type": "execute_result"
    },
    {
     "data": {
      "image/png": "[encoded data removed]",
      "text/plain": [
       "<Figure size 432x288 with 1 Axes>"
      ]
     },
     "metadata": {},
     "output_type": "display_data"
    }
   ],
   "source": [
    "plt.scatter(res_data[\"error\"], y_pred , c = \"blue\")"
   ]
  },
  {
   "cell_type": "markdown",
   "metadata": {},
   "source": [
    "### Q6: Metriques d'Evaluation de la Regréssion"
   ]
  },
  {
   "cell_type": "markdown",
   "metadata": {},
   "source": [
    "**a. Affichez les metriques (MEA, MSE, RMSE) du modèle**"
   ]
  },
  {
   "cell_type": "code",
   "execution_count": 62,
   "metadata": {},
   "outputs": [],
   "source": [
    "from sklearn import metrics\n",
    "mea = metrics.mean_absolute_error(y_pred,y_test)\n",
    "mse = metrics.mean_squared_error(y_pred,y_test)\n",
    "rmse = np.sqrt(mse)"
   ]
  },
  {
   "cell_type": "code",
   "execution_count": 63,
   "metadata": {},
   "outputs": [
    {
     "name": "stdout",
     "output_type": "stream",
     "text": [
      "MEA = 82494.73770125143 \n",
      "MSE = 10543597313.625027 \n",
      "RMSE = 102682.02040096906\n"
     ]
    }
   ],
   "source": [
    "print(\"MEA =\", mea,\"\\n\"\n",
    "      \"MSE =\", mse,\"\\n\"\n",
    "      \"RMSE =\", rmse)"
   ]
  },
  {
   "cell_type": "markdown",
   "metadata": {},
   "source": [
    "---------------------------------------------------------------------------------------------------------------------------------------------------------------------------------------------------------<br><br>\n",
    "**b. Affichez la R-square value**"
   ]
  },
  {
   "cell_type": "code",
   "execution_count": 64,
   "metadata": {},
   "outputs": [
    {
     "data": {
      "text/plain": [
       "0.9152767266108085"
      ]
     },
     "execution_count": 64,
     "metadata": {},
     "output_type": "execute_result"
    }
   ],
   "source": [
    "score = metrics.r2_score(y_pred,y_test)\n",
    "score"
   ]
  }
 ],
 "metadata": {
  "kernelspec": {
   "display_name": "Python 3",
   "language": "python",
   "name": "python3"
  }
 },
 "nbformat": 4,
 "nbformat_minor": 4
}
