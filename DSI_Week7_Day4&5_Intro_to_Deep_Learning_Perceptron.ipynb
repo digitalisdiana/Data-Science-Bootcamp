{
  "nbformat": 4,
  "nbformat_minor": 0,
  "metadata": {
    "colab": {
      "name": "DSI Week7_Day4&5_Intro_to_Deep_Learning_Perceptron.ipynb",
      "provenance": [],
      "toc_visible": true
    },
    "kernelspec": {
      "name": "python3",
      "display_name": "Python 3"
    }
  },
  "cells": [
    {
      "cell_type": "code",
      "metadata": {
        "id": "t98SEOWjKRJg"
      },
      "source": [
        "import pandas as pd\n",
        "import numpy as np\n",
        "import seaborn as sns\n",
        "from matplotlib import style\n",
        "import matplotlib.pyplot as plt\n",
        "from sklearn.preprocessing import LabelEncoder\n",
        "from sklearn.preprocessing import OneHotEncoder\n",
        "from sklearn.preprocessing import StandardScaler\n",
        "from sklearn.compose import ColumnTransformer \n",
        "from sklearn.model_selection import train_test_split\n",
        "from tensorflow.keras.models import Sequential\n",
        "from tensorflow.keras.layers import Dense"
      ],
      "execution_count": 59,
      "outputs": []
    },
    {
      "cell_type": "code",
      "metadata": {
        "id": "om2VF9maPWLJ"
      },
      "source": [
        "weather_full_data = pd.read_csv(\"weatherAUS.csv\")"
      ],
      "execution_count": 60,
      "outputs": []
    },
    {
      "cell_type": "code",
      "metadata": {
        "colab": {
          "base_uri": "https://localhost:8080/",
          "height": 226
        },
        "id": "XLRzU0ZcP0jM",
        "outputId": "a7fa206a-cb0a-4705-8dd4-f0b1cc190600"
      },
      "source": [
        "weather_full_data.head()"
      ],
      "execution_count": 61,
      "outputs": [
        {
          "output_type": "execute_result",
          "data": {
            "text/html": [
              "<div>\n",
              "<style scoped>\n",
              "    .dataframe tbody tr th:only-of-type {\n",
              "        vertical-align: middle;\n",
              "    }\n",
              "\n",
              "    .dataframe tbody tr th {\n",
              "        vertical-align: top;\n",
              "    }\n",
              "\n",
              "    .dataframe thead th {\n",
              "        text-align: right;\n",
              "    }\n",
              "</style>\n",
              "<table border=\"1\" class=\"dataframe\">\n",
              "  <thead>\n",
              "    <tr style=\"text-align: right;\">\n",
              "      <th></th>\n",
              "      <th>Date</th>\n",
              "      <th>Location</th>\n",
              "      <th>MinTemp</th>\n",
              "      <th>MaxTemp</th>\n",
              "      <th>Rainfall</th>\n",
              "      <th>Evaporation</th>\n",
              "      <th>Sunshine</th>\n",
              "      <th>WindGustDir</th>\n",
              "      <th>WindGustSpeed</th>\n",
              "      <th>WindDir9am</th>\n",
              "      <th>WindDir3pm</th>\n",
              "      <th>WindSpeed9am</th>\n",
              "      <th>WindSpeed3pm</th>\n",
              "      <th>Humidity9am</th>\n",
              "      <th>Humidity3pm</th>\n",
              "      <th>Pressure9am</th>\n",
              "      <th>Pressure3pm</th>\n",
              "      <th>Cloud9am</th>\n",
              "      <th>Cloud3pm</th>\n",
              "      <th>Temp9am</th>\n",
              "      <th>Temp3pm</th>\n",
              "      <th>RainToday</th>\n",
              "      <th>RainTomorrow</th>\n",
              "    </tr>\n",
              "  </thead>\n",
              "  <tbody>\n",
              "    <tr>\n",
              "      <th>0</th>\n",
              "      <td>2008-12-01</td>\n",
              "      <td>Albury</td>\n",
              "      <td>13.4</td>\n",
              "      <td>22.9</td>\n",
              "      <td>0.6</td>\n",
              "      <td>NaN</td>\n",
              "      <td>NaN</td>\n",
              "      <td>W</td>\n",
              "      <td>44.0</td>\n",
              "      <td>W</td>\n",
              "      <td>WNW</td>\n",
              "      <td>20.0</td>\n",
              "      <td>24.0</td>\n",
              "      <td>71.0</td>\n",
              "      <td>22.0</td>\n",
              "      <td>1007.7</td>\n",
              "      <td>1007.1</td>\n",
              "      <td>8.0</td>\n",
              "      <td>NaN</td>\n",
              "      <td>16.9</td>\n",
              "      <td>21.8</td>\n",
              "      <td>No</td>\n",
              "      <td>No</td>\n",
              "    </tr>\n",
              "    <tr>\n",
              "      <th>1</th>\n",
              "      <td>2008-12-02</td>\n",
              "      <td>Albury</td>\n",
              "      <td>7.4</td>\n",
              "      <td>25.1</td>\n",
              "      <td>0.0</td>\n",
              "      <td>NaN</td>\n",
              "      <td>NaN</td>\n",
              "      <td>WNW</td>\n",
              "      <td>44.0</td>\n",
              "      <td>NNW</td>\n",
              "      <td>WSW</td>\n",
              "      <td>4.0</td>\n",
              "      <td>22.0</td>\n",
              "      <td>44.0</td>\n",
              "      <td>25.0</td>\n",
              "      <td>1010.6</td>\n",
              "      <td>1007.8</td>\n",
              "      <td>NaN</td>\n",
              "      <td>NaN</td>\n",
              "      <td>17.2</td>\n",
              "      <td>24.3</td>\n",
              "      <td>No</td>\n",
              "      <td>No</td>\n",
              "    </tr>\n",
              "    <tr>\n",
              "      <th>2</th>\n",
              "      <td>2008-12-03</td>\n",
              "      <td>Albury</td>\n",
              "      <td>12.9</td>\n",
              "      <td>25.7</td>\n",
              "      <td>0.0</td>\n",
              "      <td>NaN</td>\n",
              "      <td>NaN</td>\n",
              "      <td>WSW</td>\n",
              "      <td>46.0</td>\n",
              "      <td>W</td>\n",
              "      <td>WSW</td>\n",
              "      <td>19.0</td>\n",
              "      <td>26.0</td>\n",
              "      <td>38.0</td>\n",
              "      <td>30.0</td>\n",
              "      <td>1007.6</td>\n",
              "      <td>1008.7</td>\n",
              "      <td>NaN</td>\n",
              "      <td>2.0</td>\n",
              "      <td>21.0</td>\n",
              "      <td>23.2</td>\n",
              "      <td>No</td>\n",
              "      <td>No</td>\n",
              "    </tr>\n",
              "    <tr>\n",
              "      <th>3</th>\n",
              "      <td>2008-12-04</td>\n",
              "      <td>Albury</td>\n",
              "      <td>9.2</td>\n",
              "      <td>28.0</td>\n",
              "      <td>0.0</td>\n",
              "      <td>NaN</td>\n",
              "      <td>NaN</td>\n",
              "      <td>NE</td>\n",
              "      <td>24.0</td>\n",
              "      <td>SE</td>\n",
              "      <td>E</td>\n",
              "      <td>11.0</td>\n",
              "      <td>9.0</td>\n",
              "      <td>45.0</td>\n",
              "      <td>16.0</td>\n",
              "      <td>1017.6</td>\n",
              "      <td>1012.8</td>\n",
              "      <td>NaN</td>\n",
              "      <td>NaN</td>\n",
              "      <td>18.1</td>\n",
              "      <td>26.5</td>\n",
              "      <td>No</td>\n",
              "      <td>No</td>\n",
              "    </tr>\n",
              "    <tr>\n",
              "      <th>4</th>\n",
              "      <td>2008-12-05</td>\n",
              "      <td>Albury</td>\n",
              "      <td>17.5</td>\n",
              "      <td>32.3</td>\n",
              "      <td>1.0</td>\n",
              "      <td>NaN</td>\n",
              "      <td>NaN</td>\n",
              "      <td>W</td>\n",
              "      <td>41.0</td>\n",
              "      <td>ENE</td>\n",
              "      <td>NW</td>\n",
              "      <td>7.0</td>\n",
              "      <td>20.0</td>\n",
              "      <td>82.0</td>\n",
              "      <td>33.0</td>\n",
              "      <td>1010.8</td>\n",
              "      <td>1006.0</td>\n",
              "      <td>7.0</td>\n",
              "      <td>8.0</td>\n",
              "      <td>17.8</td>\n",
              "      <td>29.7</td>\n",
              "      <td>No</td>\n",
              "      <td>No</td>\n",
              "    </tr>\n",
              "  </tbody>\n",
              "</table>\n",
              "</div>"
            ],
            "text/plain": [
              "         Date Location  MinTemp  ...  Temp3pm  RainToday  RainTomorrow\n",
              "0  2008-12-01   Albury     13.4  ...     21.8         No            No\n",
              "1  2008-12-02   Albury      7.4  ...     24.3         No            No\n",
              "2  2008-12-03   Albury     12.9  ...     23.2         No            No\n",
              "3  2008-12-04   Albury      9.2  ...     26.5         No            No\n",
              "4  2008-12-05   Albury     17.5  ...     29.7         No            No\n",
              "\n",
              "[5 rows x 23 columns]"
            ]
          },
          "metadata": {
            "tags": []
          },
          "execution_count": 61
        }
      ]
    },
    {
      "cell_type": "code",
      "metadata": {
        "colab": {
          "base_uri": "https://localhost:8080/"
        },
        "id": "uq0vSl3pPiqU",
        "outputId": "62b69250-42c3-4511-b08b-cb3498b06438"
      },
      "source": [
        "weather_full_data.info()"
      ],
      "execution_count": 62,
      "outputs": [
        {
          "output_type": "stream",
          "text": [
            "<class 'pandas.core.frame.DataFrame'>\n",
            "RangeIndex: 142193 entries, 0 to 142192\n",
            "Data columns (total 23 columns):\n",
            " #   Column         Non-Null Count   Dtype  \n",
            "---  ------         --------------   -----  \n",
            " 0   Date           142193 non-null  object \n",
            " 1   Location       142193 non-null  object \n",
            " 2   MinTemp        141556 non-null  float64\n",
            " 3   MaxTemp        141871 non-null  float64\n",
            " 4   Rainfall       140787 non-null  float64\n",
            " 5   Evaporation    81350 non-null   float64\n",
            " 6   Sunshine       74377 non-null   float64\n",
            " 7   WindGustDir    132863 non-null  object \n",
            " 8   WindGustSpeed  132923 non-null  float64\n",
            " 9   WindDir9am     132180 non-null  object \n",
            " 10  WindDir3pm     138415 non-null  object \n",
            " 11  WindSpeed9am   140845 non-null  float64\n",
            " 12  WindSpeed3pm   139563 non-null  float64\n",
            " 13  Humidity9am    140419 non-null  float64\n",
            " 14  Humidity3pm    138583 non-null  float64\n",
            " 15  Pressure9am    128179 non-null  float64\n",
            " 16  Pressure3pm    128212 non-null  float64\n",
            " 17  Cloud9am       88536 non-null   float64\n",
            " 18  Cloud3pm       85099 non-null   float64\n",
            " 19  Temp9am        141289 non-null  float64\n",
            " 20  Temp3pm        139467 non-null  float64\n",
            " 21  RainToday      140787 non-null  object \n",
            " 22  RainTomorrow   142193 non-null  object \n",
            "dtypes: float64(16), object(7)\n",
            "memory usage: 25.0+ MB\n"
          ],
          "name": "stdout"
        }
      ]
    },
    {
      "cell_type": "code",
      "metadata": {
        "id": "NXJhfGx1sOcs"
      },
      "source": [
        "#Dropping the columns which will make us do the most work : ie: the date {in string format} and the columns with a lot of null values \n",
        "weather_half_full_data = weather_full_data.drop(columns = [\"Date\", \"Evaporation\", \"Sunshine\", \"Cloud9am\", \"Cloud3pm\"])"
      ],
      "execution_count": 63,
      "outputs": []
    },
    {
      "cell_type": "code",
      "metadata": {
        "colab": {
          "base_uri": "https://localhost:8080/"
        },
        "id": "Po1FhLirt7lz",
        "outputId": "3b3e735e-442f-4a65-810a-f98d79725bb5"
      },
      "source": [
        "print(weather_half_full_data.head())\n",
        "weather_half_full_data.shape"
      ],
      "execution_count": 64,
      "outputs": [
        {
          "output_type": "stream",
          "text": [
            "  Location  MinTemp  MaxTemp  Rainfall  ... Temp9am  Temp3pm RainToday RainTomorrow\n",
            "0   Albury     13.4     22.9       0.6  ...    16.9     21.8        No           No\n",
            "1   Albury      7.4     25.1       0.0  ...    17.2     24.3        No           No\n",
            "2   Albury     12.9     25.7       0.0  ...    21.0     23.2        No           No\n",
            "3   Albury      9.2     28.0       0.0  ...    18.1     26.5        No           No\n",
            "4   Albury     17.5     32.3       1.0  ...    17.8     29.7        No           No\n",
            "\n",
            "[5 rows x 18 columns]\n"
          ],
          "name": "stdout"
        },
        {
          "output_type": "execute_result",
          "data": {
            "text/plain": [
              "(142193, 18)"
            ]
          },
          "metadata": {
            "tags": []
          },
          "execution_count": 64
        }
      ]
    },
    {
      "cell_type": "code",
      "metadata": {
        "colab": {
          "base_uri": "https://localhost:8080/"
        },
        "id": "8gLaTCgEsr_q",
        "outputId": "88df5705-6f21-4220-9e83-876d1b0c105c"
      },
      "source": [
        "#Dropping all null values and establishing the dataset we'll work with\n",
        "weather_data = weather_half_full_data.dropna()\n",
        "print(weather_data)\n",
        "weather_data.shape"
      ],
      "execution_count": 65,
      "outputs": [
        {
          "output_type": "stream",
          "text": [
            "       Location  MinTemp  MaxTemp  ...  Temp3pm RainToday  RainTomorrow\n",
            "0        Albury     13.4     22.9  ...     21.8        No            No\n",
            "1        Albury      7.4     25.1  ...     24.3        No            No\n",
            "2        Albury     12.9     25.7  ...     23.2        No            No\n",
            "3        Albury      9.2     28.0  ...     26.5        No            No\n",
            "4        Albury     17.5     32.3  ...     29.7        No            No\n",
            "...         ...      ...      ...  ...      ...       ...           ...\n",
            "142188    Uluru      3.5     21.8  ...     20.9        No            No\n",
            "142189    Uluru      2.8     23.4  ...     22.4        No            No\n",
            "142190    Uluru      3.6     25.3  ...     24.5        No            No\n",
            "142191    Uluru      5.4     26.9  ...     26.1        No            No\n",
            "142192    Uluru      7.8     27.0  ...     26.0        No            No\n",
            "\n",
            "[112925 rows x 18 columns]\n"
          ],
          "name": "stdout"
        },
        {
          "output_type": "execute_result",
          "data": {
            "text/plain": [
              "(112925, 18)"
            ]
          },
          "metadata": {
            "tags": []
          },
          "execution_count": 65
        }
      ]
    },
    {
      "cell_type": "code",
      "metadata": {
        "colab": {
          "base_uri": "https://localhost:8080/"
        },
        "id": "q3ZfUriutTZn",
        "outputId": "b927ba90-e41b-4976-f08a-ee0aa6295ea4"
      },
      "source": [
        "weather_data.info()"
      ],
      "execution_count": 66,
      "outputs": [
        {
          "output_type": "stream",
          "text": [
            "<class 'pandas.core.frame.DataFrame'>\n",
            "Int64Index: 112925 entries, 0 to 142192\n",
            "Data columns (total 18 columns):\n",
            " #   Column         Non-Null Count   Dtype  \n",
            "---  ------         --------------   -----  \n",
            " 0   Location       112925 non-null  object \n",
            " 1   MinTemp        112925 non-null  float64\n",
            " 2   MaxTemp        112925 non-null  float64\n",
            " 3   Rainfall       112925 non-null  float64\n",
            " 4   WindGustDir    112925 non-null  object \n",
            " 5   WindGustSpeed  112925 non-null  float64\n",
            " 6   WindDir9am     112925 non-null  object \n",
            " 7   WindDir3pm     112925 non-null  object \n",
            " 8   WindSpeed9am   112925 non-null  float64\n",
            " 9   WindSpeed3pm   112925 non-null  float64\n",
            " 10  Humidity9am    112925 non-null  float64\n",
            " 11  Humidity3pm    112925 non-null  float64\n",
            " 12  Pressure9am    112925 non-null  float64\n",
            " 13  Pressure3pm    112925 non-null  float64\n",
            " 14  Temp9am        112925 non-null  float64\n",
            " 15  Temp3pm        112925 non-null  float64\n",
            " 16  RainToday      112925 non-null  object \n",
            " 17  RainTomorrow   112925 non-null  object \n",
            "dtypes: float64(12), object(6)\n",
            "memory usage: 16.4+ MB\n"
          ],
          "name": "stdout"
        }
      ]
    },
    {
      "cell_type": "code",
      "metadata": {
        "id": "Qtw-0LBrtThy"
      },
      "source": [
        "#Making the \"Yes\" and \"No\" \n",
        "label = LabelEncoder()"
      ],
      "execution_count": 67,
      "outputs": []
    },
    {
      "cell_type": "code",
      "metadata": {
        "colab": {
          "base_uri": "https://localhost:8080/"
        },
        "id": "6DcvXaU0tTld",
        "outputId": "801fe6ca-b9ad-40dd-c672-d544c2f36876"
      },
      "source": [
        "weather_data[\"RainToday\"] = label.fit_transform(weather_data[\"RainToday\"])"
      ],
      "execution_count": 68,
      "outputs": [
        {
          "output_type": "stream",
          "text": [
            "/usr/local/lib/python3.7/dist-packages/ipykernel_launcher.py:1: SettingWithCopyWarning: \n",
            "A value is trying to be set on a copy of a slice from a DataFrame.\n",
            "Try using .loc[row_indexer,col_indexer] = value instead\n",
            "\n",
            "See the caveats in the documentation: https://pandas.pydata.org/pandas-docs/stable/user_guide/indexing.html#returning-a-view-versus-a-copy\n",
            "  \"\"\"Entry point for launching an IPython kernel.\n"
          ],
          "name": "stderr"
        }
      ]
    },
    {
      "cell_type": "code",
      "metadata": {
        "colab": {
          "base_uri": "https://localhost:8080/",
          "height": 226
        },
        "id": "S1gD0RLiv6yV",
        "outputId": "adcb9159-72cb-4028-c57b-c09cea0c52da"
      },
      "source": [
        "weather_data.head()"
      ],
      "execution_count": 69,
      "outputs": [
        {
          "output_type": "execute_result",
          "data": {
            "text/html": [
              "<div>\n",
              "<style scoped>\n",
              "    .dataframe tbody tr th:only-of-type {\n",
              "        vertical-align: middle;\n",
              "    }\n",
              "\n",
              "    .dataframe tbody tr th {\n",
              "        vertical-align: top;\n",
              "    }\n",
              "\n",
              "    .dataframe thead th {\n",
              "        text-align: right;\n",
              "    }\n",
              "</style>\n",
              "<table border=\"1\" class=\"dataframe\">\n",
              "  <thead>\n",
              "    <tr style=\"text-align: right;\">\n",
              "      <th></th>\n",
              "      <th>Location</th>\n",
              "      <th>MinTemp</th>\n",
              "      <th>MaxTemp</th>\n",
              "      <th>Rainfall</th>\n",
              "      <th>WindGustDir</th>\n",
              "      <th>WindGustSpeed</th>\n",
              "      <th>WindDir9am</th>\n",
              "      <th>WindDir3pm</th>\n",
              "      <th>WindSpeed9am</th>\n",
              "      <th>WindSpeed3pm</th>\n",
              "      <th>Humidity9am</th>\n",
              "      <th>Humidity3pm</th>\n",
              "      <th>Pressure9am</th>\n",
              "      <th>Pressure3pm</th>\n",
              "      <th>Temp9am</th>\n",
              "      <th>Temp3pm</th>\n",
              "      <th>RainToday</th>\n",
              "      <th>RainTomorrow</th>\n",
              "    </tr>\n",
              "  </thead>\n",
              "  <tbody>\n",
              "    <tr>\n",
              "      <th>0</th>\n",
              "      <td>Albury</td>\n",
              "      <td>13.4</td>\n",
              "      <td>22.9</td>\n",
              "      <td>0.6</td>\n",
              "      <td>W</td>\n",
              "      <td>44.0</td>\n",
              "      <td>W</td>\n",
              "      <td>WNW</td>\n",
              "      <td>20.0</td>\n",
              "      <td>24.0</td>\n",
              "      <td>71.0</td>\n",
              "      <td>22.0</td>\n",
              "      <td>1007.7</td>\n",
              "      <td>1007.1</td>\n",
              "      <td>16.9</td>\n",
              "      <td>21.8</td>\n",
              "      <td>0</td>\n",
              "      <td>No</td>\n",
              "    </tr>\n",
              "    <tr>\n",
              "      <th>1</th>\n",
              "      <td>Albury</td>\n",
              "      <td>7.4</td>\n",
              "      <td>25.1</td>\n",
              "      <td>0.0</td>\n",
              "      <td>WNW</td>\n",
              "      <td>44.0</td>\n",
              "      <td>NNW</td>\n",
              "      <td>WSW</td>\n",
              "      <td>4.0</td>\n",
              "      <td>22.0</td>\n",
              "      <td>44.0</td>\n",
              "      <td>25.0</td>\n",
              "      <td>1010.6</td>\n",
              "      <td>1007.8</td>\n",
              "      <td>17.2</td>\n",
              "      <td>24.3</td>\n",
              "      <td>0</td>\n",
              "      <td>No</td>\n",
              "    </tr>\n",
              "    <tr>\n",
              "      <th>2</th>\n",
              "      <td>Albury</td>\n",
              "      <td>12.9</td>\n",
              "      <td>25.7</td>\n",
              "      <td>0.0</td>\n",
              "      <td>WSW</td>\n",
              "      <td>46.0</td>\n",
              "      <td>W</td>\n",
              "      <td>WSW</td>\n",
              "      <td>19.0</td>\n",
              "      <td>26.0</td>\n",
              "      <td>38.0</td>\n",
              "      <td>30.0</td>\n",
              "      <td>1007.6</td>\n",
              "      <td>1008.7</td>\n",
              "      <td>21.0</td>\n",
              "      <td>23.2</td>\n",
              "      <td>0</td>\n",
              "      <td>No</td>\n",
              "    </tr>\n",
              "    <tr>\n",
              "      <th>3</th>\n",
              "      <td>Albury</td>\n",
              "      <td>9.2</td>\n",
              "      <td>28.0</td>\n",
              "      <td>0.0</td>\n",
              "      <td>NE</td>\n",
              "      <td>24.0</td>\n",
              "      <td>SE</td>\n",
              "      <td>E</td>\n",
              "      <td>11.0</td>\n",
              "      <td>9.0</td>\n",
              "      <td>45.0</td>\n",
              "      <td>16.0</td>\n",
              "      <td>1017.6</td>\n",
              "      <td>1012.8</td>\n",
              "      <td>18.1</td>\n",
              "      <td>26.5</td>\n",
              "      <td>0</td>\n",
              "      <td>No</td>\n",
              "    </tr>\n",
              "    <tr>\n",
              "      <th>4</th>\n",
              "      <td>Albury</td>\n",
              "      <td>17.5</td>\n",
              "      <td>32.3</td>\n",
              "      <td>1.0</td>\n",
              "      <td>W</td>\n",
              "      <td>41.0</td>\n",
              "      <td>ENE</td>\n",
              "      <td>NW</td>\n",
              "      <td>7.0</td>\n",
              "      <td>20.0</td>\n",
              "      <td>82.0</td>\n",
              "      <td>33.0</td>\n",
              "      <td>1010.8</td>\n",
              "      <td>1006.0</td>\n",
              "      <td>17.8</td>\n",
              "      <td>29.7</td>\n",
              "      <td>0</td>\n",
              "      <td>No</td>\n",
              "    </tr>\n",
              "  </tbody>\n",
              "</table>\n",
              "</div>"
            ],
            "text/plain": [
              "  Location  MinTemp  MaxTemp  ...  Temp3pm RainToday  RainTomorrow\n",
              "0   Albury     13.4     22.9  ...     21.8         0            No\n",
              "1   Albury      7.4     25.1  ...     24.3         0            No\n",
              "2   Albury     12.9     25.7  ...     23.2         0            No\n",
              "3   Albury      9.2     28.0  ...     26.5         0            No\n",
              "4   Albury     17.5     32.3  ...     29.7         0            No\n",
              "\n",
              "[5 rows x 18 columns]"
            ]
          },
          "metadata": {
            "tags": []
          },
          "execution_count": 69
        }
      ]
    },
    {
      "cell_type": "code",
      "metadata": {
        "colab": {
          "base_uri": "https://localhost:8080/"
        },
        "id": "ap531J8mwEOZ",
        "outputId": "5c25e809-29a3-482d-ec9b-4228ba261e7d"
      },
      "source": [
        "weather_data[\"RainTomorrow\"] = label.fit_transform(weather_data[\"RainTomorrow\"])"
      ],
      "execution_count": 70,
      "outputs": [
        {
          "output_type": "stream",
          "text": [
            "/usr/local/lib/python3.7/dist-packages/ipykernel_launcher.py:1: SettingWithCopyWarning: \n",
            "A value is trying to be set on a copy of a slice from a DataFrame.\n",
            "Try using .loc[row_indexer,col_indexer] = value instead\n",
            "\n",
            "See the caveats in the documentation: https://pandas.pydata.org/pandas-docs/stable/user_guide/indexing.html#returning-a-view-versus-a-copy\n",
            "  \"\"\"Entry point for launching an IPython kernel.\n"
          ],
          "name": "stderr"
        }
      ]
    },
    {
      "cell_type": "code",
      "metadata": {
        "colab": {
          "base_uri": "https://localhost:8080/"
        },
        "id": "GUp1pOqlwZAS",
        "outputId": "5e321395-239b-45ac-df0f-663b5010d158"
      },
      "source": [
        "weather_data.info()"
      ],
      "execution_count": 71,
      "outputs": [
        {
          "output_type": "stream",
          "text": [
            "<class 'pandas.core.frame.DataFrame'>\n",
            "Int64Index: 112925 entries, 0 to 142192\n",
            "Data columns (total 18 columns):\n",
            " #   Column         Non-Null Count   Dtype  \n",
            "---  ------         --------------   -----  \n",
            " 0   Location       112925 non-null  object \n",
            " 1   MinTemp        112925 non-null  float64\n",
            " 2   MaxTemp        112925 non-null  float64\n",
            " 3   Rainfall       112925 non-null  float64\n",
            " 4   WindGustDir    112925 non-null  object \n",
            " 5   WindGustSpeed  112925 non-null  float64\n",
            " 6   WindDir9am     112925 non-null  object \n",
            " 7   WindDir3pm     112925 non-null  object \n",
            " 8   WindSpeed9am   112925 non-null  float64\n",
            " 9   WindSpeed3pm   112925 non-null  float64\n",
            " 10  Humidity9am    112925 non-null  float64\n",
            " 11  Humidity3pm    112925 non-null  float64\n",
            " 12  Pressure9am    112925 non-null  float64\n",
            " 13  Pressure3pm    112925 non-null  float64\n",
            " 14  Temp9am        112925 non-null  float64\n",
            " 15  Temp3pm        112925 non-null  float64\n",
            " 16  RainToday      112925 non-null  int64  \n",
            " 17  RainTomorrow   112925 non-null  int64  \n",
            "dtypes: float64(12), int64(2), object(4)\n",
            "memory usage: 16.4+ MB\n"
          ],
          "name": "stdout"
        }
      ]
    },
    {
      "cell_type": "code",
      "metadata": {
        "colab": {
          "base_uri": "https://localhost:8080/",
          "height": 424
        },
        "id": "Q5QAwIZCy8Qq",
        "outputId": "8304db01-b67d-4e30-979a-ae77f9c51e35"
      },
      "source": [
        "#Turning objects into categorical data\n",
        "to_be_encoded = weather_data[[\"Location\", \"WindGustDir\", \"WindDir9am\", \"WindDir3pm\"]].copy()\n",
        "to_be_encoded"
      ],
      "execution_count": 72,
      "outputs": [
        {
          "output_type": "execute_result",
          "data": {
            "text/html": [
              "<div>\n",
              "<style scoped>\n",
              "    .dataframe tbody tr th:only-of-type {\n",
              "        vertical-align: middle;\n",
              "    }\n",
              "\n",
              "    .dataframe tbody tr th {\n",
              "        vertical-align: top;\n",
              "    }\n",
              "\n",
              "    .dataframe thead th {\n",
              "        text-align: right;\n",
              "    }\n",
              "</style>\n",
              "<table border=\"1\" class=\"dataframe\">\n",
              "  <thead>\n",
              "    <tr style=\"text-align: right;\">\n",
              "      <th></th>\n",
              "      <th>Location</th>\n",
              "      <th>WindGustDir</th>\n",
              "      <th>WindDir9am</th>\n",
              "      <th>WindDir3pm</th>\n",
              "    </tr>\n",
              "  </thead>\n",
              "  <tbody>\n",
              "    <tr>\n",
              "      <th>0</th>\n",
              "      <td>Albury</td>\n",
              "      <td>W</td>\n",
              "      <td>W</td>\n",
              "      <td>WNW</td>\n",
              "    </tr>\n",
              "    <tr>\n",
              "      <th>1</th>\n",
              "      <td>Albury</td>\n",
              "      <td>WNW</td>\n",
              "      <td>NNW</td>\n",
              "      <td>WSW</td>\n",
              "    </tr>\n",
              "    <tr>\n",
              "      <th>2</th>\n",
              "      <td>Albury</td>\n",
              "      <td>WSW</td>\n",
              "      <td>W</td>\n",
              "      <td>WSW</td>\n",
              "    </tr>\n",
              "    <tr>\n",
              "      <th>3</th>\n",
              "      <td>Albury</td>\n",
              "      <td>NE</td>\n",
              "      <td>SE</td>\n",
              "      <td>E</td>\n",
              "    </tr>\n",
              "    <tr>\n",
              "      <th>4</th>\n",
              "      <td>Albury</td>\n",
              "      <td>W</td>\n",
              "      <td>ENE</td>\n",
              "      <td>NW</td>\n",
              "    </tr>\n",
              "    <tr>\n",
              "      <th>...</th>\n",
              "      <td>...</td>\n",
              "      <td>...</td>\n",
              "      <td>...</td>\n",
              "      <td>...</td>\n",
              "    </tr>\n",
              "    <tr>\n",
              "      <th>142188</th>\n",
              "      <td>Uluru</td>\n",
              "      <td>E</td>\n",
              "      <td>ESE</td>\n",
              "      <td>E</td>\n",
              "    </tr>\n",
              "    <tr>\n",
              "      <th>142189</th>\n",
              "      <td>Uluru</td>\n",
              "      <td>E</td>\n",
              "      <td>SE</td>\n",
              "      <td>ENE</td>\n",
              "    </tr>\n",
              "    <tr>\n",
              "      <th>142190</th>\n",
              "      <td>Uluru</td>\n",
              "      <td>NNW</td>\n",
              "      <td>SE</td>\n",
              "      <td>N</td>\n",
              "    </tr>\n",
              "    <tr>\n",
              "      <th>142191</th>\n",
              "      <td>Uluru</td>\n",
              "      <td>N</td>\n",
              "      <td>SE</td>\n",
              "      <td>WNW</td>\n",
              "    </tr>\n",
              "    <tr>\n",
              "      <th>142192</th>\n",
              "      <td>Uluru</td>\n",
              "      <td>SE</td>\n",
              "      <td>SSE</td>\n",
              "      <td>N</td>\n",
              "    </tr>\n",
              "  </tbody>\n",
              "</table>\n",
              "<p>112925 rows × 4 columns</p>\n",
              "</div>"
            ],
            "text/plain": [
              "       Location WindGustDir WindDir9am WindDir3pm\n",
              "0        Albury           W          W        WNW\n",
              "1        Albury         WNW        NNW        WSW\n",
              "2        Albury         WSW          W        WSW\n",
              "3        Albury          NE         SE          E\n",
              "4        Albury           W        ENE         NW\n",
              "...         ...         ...        ...        ...\n",
              "142188    Uluru           E        ESE          E\n",
              "142189    Uluru           E         SE        ENE\n",
              "142190    Uluru         NNW         SE          N\n",
              "142191    Uluru           N         SE        WNW\n",
              "142192    Uluru          SE        SSE          N\n",
              "\n",
              "[112925 rows x 4 columns]"
            ]
          },
          "metadata": {
            "tags": []
          },
          "execution_count": 72
        }
      ]
    },
    {
      "cell_type": "code",
      "metadata": {
        "id": "Rcm7xe342JS3"
      },
      "source": [
        "weather_dummies = pd.get_dummies(to_be_encoded)"
      ],
      "execution_count": 73,
      "outputs": []
    },
    {
      "cell_type": "code",
      "metadata": {
        "colab": {
          "base_uri": "https://localhost:8080/"
        },
        "id": "K5jdZ_Iu3M9e",
        "outputId": "50227ed1-8219-4ff5-b12c-19e1a8892c0c"
      },
      "source": [
        "weather_dummies.shape"
      ],
      "execution_count": 74,
      "outputs": [
        {
          "output_type": "execute_result",
          "data": {
            "text/plain": [
              "(112925, 92)"
            ]
          },
          "metadata": {
            "tags": []
          },
          "execution_count": 74
        }
      ]
    },
    {
      "cell_type": "code",
      "metadata": {
        "id": "GY-quqHI5Hd_"
      },
      "source": [
        "weather_data = weather_data = weather_data.drop([\"Location\", \"WindGustDir\", \"WindDir9am\", \"WindDir3pm\"], axis = 1)"
      ],
      "execution_count": 75,
      "outputs": []
    },
    {
      "cell_type": "code",
      "metadata": {
        "colab": {
          "base_uri": "https://localhost:8080/"
        },
        "id": "xo7OtSn-6dQz",
        "outputId": "77526749-63a7-4c06-c4e9-f6bc9eeb1d6f"
      },
      "source": [
        "weather_data.shape"
      ],
      "execution_count": 76,
      "outputs": [
        {
          "output_type": "execute_result",
          "data": {
            "text/plain": [
              "(112925, 14)"
            ]
          },
          "metadata": {
            "tags": []
          },
          "execution_count": 76
        }
      ]
    },
    {
      "cell_type": "code",
      "metadata": {
        "id": "y9ZIloDy3z_T"
      },
      "source": [
        "weather_data = pd.concat([weather_data, weather_dummies], axis = 1).reset_index(drop=True)"
      ],
      "execution_count": 91,
      "outputs": []
    },
    {
      "cell_type": "code",
      "metadata": {
        "colab": {
          "base_uri": "https://localhost:8080/",
          "height": 256
        },
        "id": "kDPaSL9T9pb6",
        "outputId": "6a53014e-f00a-4a0a-da95-df9cf4f47a2b"
      },
      "source": [
        "weather_data.head()"
      ],
      "execution_count": 93,
      "outputs": [
        {
          "output_type": "execute_result",
          "data": {
            "text/html": [
              "<div>\n",
              "<style scoped>\n",
              "    .dataframe tbody tr th:only-of-type {\n",
              "        vertical-align: middle;\n",
              "    }\n",
              "\n",
              "    .dataframe tbody tr th {\n",
              "        vertical-align: top;\n",
              "    }\n",
              "\n",
              "    .dataframe thead th {\n",
              "        text-align: right;\n",
              "    }\n",
              "</style>\n",
              "<table border=\"1\" class=\"dataframe\">\n",
              "  <thead>\n",
              "    <tr style=\"text-align: right;\">\n",
              "      <th></th>\n",
              "      <th>MinTemp</th>\n",
              "      <th>MaxTemp</th>\n",
              "      <th>Rainfall</th>\n",
              "      <th>WindGustSpeed</th>\n",
              "      <th>WindSpeed9am</th>\n",
              "      <th>WindSpeed3pm</th>\n",
              "      <th>Humidity9am</th>\n",
              "      <th>Humidity3pm</th>\n",
              "      <th>Pressure9am</th>\n",
              "      <th>Pressure3pm</th>\n",
              "      <th>Temp9am</th>\n",
              "      <th>Temp3pm</th>\n",
              "      <th>RainToday</th>\n",
              "      <th>RainTomorrow</th>\n",
              "      <th>Location_Adelaide</th>\n",
              "      <th>Location_Albury</th>\n",
              "      <th>Location_AliceSprings</th>\n",
              "      <th>Location_BadgerysCreek</th>\n",
              "      <th>Location_Ballarat</th>\n",
              "      <th>Location_Bendigo</th>\n",
              "      <th>Location_Brisbane</th>\n",
              "      <th>Location_Cairns</th>\n",
              "      <th>Location_Canberra</th>\n",
              "      <th>Location_Cobar</th>\n",
              "      <th>Location_CoffsHarbour</th>\n",
              "      <th>Location_Dartmoor</th>\n",
              "      <th>Location_Darwin</th>\n",
              "      <th>Location_GoldCoast</th>\n",
              "      <th>Location_Hobart</th>\n",
              "      <th>Location_Katherine</th>\n",
              "      <th>Location_Launceston</th>\n",
              "      <th>Location_Melbourne</th>\n",
              "      <th>Location_MelbourneAirport</th>\n",
              "      <th>Location_Mildura</th>\n",
              "      <th>Location_Moree</th>\n",
              "      <th>Location_MountGambier</th>\n",
              "      <th>Location_Nhil</th>\n",
              "      <th>Location_NorahHead</th>\n",
              "      <th>Location_NorfolkIsland</th>\n",
              "      <th>Location_Nuriootpa</th>\n",
              "      <th>...</th>\n",
              "      <th>WindGustDir_S</th>\n",
              "      <th>WindGustDir_SE</th>\n",
              "      <th>WindGustDir_SSE</th>\n",
              "      <th>WindGustDir_SSW</th>\n",
              "      <th>WindGustDir_SW</th>\n",
              "      <th>WindGustDir_W</th>\n",
              "      <th>WindGustDir_WNW</th>\n",
              "      <th>WindGustDir_WSW</th>\n",
              "      <th>WindDir9am_E</th>\n",
              "      <th>WindDir9am_ENE</th>\n",
              "      <th>WindDir9am_ESE</th>\n",
              "      <th>WindDir9am_N</th>\n",
              "      <th>WindDir9am_NE</th>\n",
              "      <th>WindDir9am_NNE</th>\n",
              "      <th>WindDir9am_NNW</th>\n",
              "      <th>WindDir9am_NW</th>\n",
              "      <th>WindDir9am_S</th>\n",
              "      <th>WindDir9am_SE</th>\n",
              "      <th>WindDir9am_SSE</th>\n",
              "      <th>WindDir9am_SSW</th>\n",
              "      <th>WindDir9am_SW</th>\n",
              "      <th>WindDir9am_W</th>\n",
              "      <th>WindDir9am_WNW</th>\n",
              "      <th>WindDir9am_WSW</th>\n",
              "      <th>WindDir3pm_E</th>\n",
              "      <th>WindDir3pm_ENE</th>\n",
              "      <th>WindDir3pm_ESE</th>\n",
              "      <th>WindDir3pm_N</th>\n",
              "      <th>WindDir3pm_NE</th>\n",
              "      <th>WindDir3pm_NNE</th>\n",
              "      <th>WindDir3pm_NNW</th>\n",
              "      <th>WindDir3pm_NW</th>\n",
              "      <th>WindDir3pm_S</th>\n",
              "      <th>WindDir3pm_SE</th>\n",
              "      <th>WindDir3pm_SSE</th>\n",
              "      <th>WindDir3pm_SSW</th>\n",
              "      <th>WindDir3pm_SW</th>\n",
              "      <th>WindDir3pm_W</th>\n",
              "      <th>WindDir3pm_WNW</th>\n",
              "      <th>WindDir3pm_WSW</th>\n",
              "    </tr>\n",
              "  </thead>\n",
              "  <tbody>\n",
              "    <tr>\n",
              "      <th>0</th>\n",
              "      <td>13.4</td>\n",
              "      <td>22.9</td>\n",
              "      <td>0.6</td>\n",
              "      <td>44.0</td>\n",
              "      <td>20.0</td>\n",
              "      <td>24.0</td>\n",
              "      <td>71.0</td>\n",
              "      <td>22.0</td>\n",
              "      <td>1007.7</td>\n",
              "      <td>1007.1</td>\n",
              "      <td>16.9</td>\n",
              "      <td>21.8</td>\n",
              "      <td>0</td>\n",
              "      <td>0</td>\n",
              "      <td>0</td>\n",
              "      <td>1</td>\n",
              "      <td>0</td>\n",
              "      <td>0</td>\n",
              "      <td>0</td>\n",
              "      <td>0</td>\n",
              "      <td>0</td>\n",
              "      <td>0</td>\n",
              "      <td>0</td>\n",
              "      <td>0</td>\n",
              "      <td>0</td>\n",
              "      <td>0</td>\n",
              "      <td>0</td>\n",
              "      <td>0</td>\n",
              "      <td>0</td>\n",
              "      <td>0</td>\n",
              "      <td>0</td>\n",
              "      <td>0</td>\n",
              "      <td>0</td>\n",
              "      <td>0</td>\n",
              "      <td>0</td>\n",
              "      <td>0</td>\n",
              "      <td>0</td>\n",
              "      <td>0</td>\n",
              "      <td>0</td>\n",
              "      <td>0</td>\n",
              "      <td>...</td>\n",
              "      <td>0</td>\n",
              "      <td>0</td>\n",
              "      <td>0</td>\n",
              "      <td>0</td>\n",
              "      <td>0</td>\n",
              "      <td>1</td>\n",
              "      <td>0</td>\n",
              "      <td>0</td>\n",
              "      <td>0</td>\n",
              "      <td>0</td>\n",
              "      <td>0</td>\n",
              "      <td>0</td>\n",
              "      <td>0</td>\n",
              "      <td>0</td>\n",
              "      <td>0</td>\n",
              "      <td>0</td>\n",
              "      <td>0</td>\n",
              "      <td>0</td>\n",
              "      <td>0</td>\n",
              "      <td>0</td>\n",
              "      <td>0</td>\n",
              "      <td>1</td>\n",
              "      <td>0</td>\n",
              "      <td>0</td>\n",
              "      <td>0</td>\n",
              "      <td>0</td>\n",
              "      <td>0</td>\n",
              "      <td>0</td>\n",
              "      <td>0</td>\n",
              "      <td>0</td>\n",
              "      <td>0</td>\n",
              "      <td>0</td>\n",
              "      <td>0</td>\n",
              "      <td>0</td>\n",
              "      <td>0</td>\n",
              "      <td>0</td>\n",
              "      <td>0</td>\n",
              "      <td>0</td>\n",
              "      <td>1</td>\n",
              "      <td>0</td>\n",
              "    </tr>\n",
              "    <tr>\n",
              "      <th>1</th>\n",
              "      <td>7.4</td>\n",
              "      <td>25.1</td>\n",
              "      <td>0.0</td>\n",
              "      <td>44.0</td>\n",
              "      <td>4.0</td>\n",
              "      <td>22.0</td>\n",
              "      <td>44.0</td>\n",
              "      <td>25.0</td>\n",
              "      <td>1010.6</td>\n",
              "      <td>1007.8</td>\n",
              "      <td>17.2</td>\n",
              "      <td>24.3</td>\n",
              "      <td>0</td>\n",
              "      <td>0</td>\n",
              "      <td>0</td>\n",
              "      <td>1</td>\n",
              "      <td>0</td>\n",
              "      <td>0</td>\n",
              "      <td>0</td>\n",
              "      <td>0</td>\n",
              "      <td>0</td>\n",
              "      <td>0</td>\n",
              "      <td>0</td>\n",
              "      <td>0</td>\n",
              "      <td>0</td>\n",
              "      <td>0</td>\n",
              "      <td>0</td>\n",
              "      <td>0</td>\n",
              "      <td>0</td>\n",
              "      <td>0</td>\n",
              "      <td>0</td>\n",
              "      <td>0</td>\n",
              "      <td>0</td>\n",
              "      <td>0</td>\n",
              "      <td>0</td>\n",
              "      <td>0</td>\n",
              "      <td>0</td>\n",
              "      <td>0</td>\n",
              "      <td>0</td>\n",
              "      <td>0</td>\n",
              "      <td>...</td>\n",
              "      <td>0</td>\n",
              "      <td>0</td>\n",
              "      <td>0</td>\n",
              "      <td>0</td>\n",
              "      <td>0</td>\n",
              "      <td>0</td>\n",
              "      <td>1</td>\n",
              "      <td>0</td>\n",
              "      <td>0</td>\n",
              "      <td>0</td>\n",
              "      <td>0</td>\n",
              "      <td>0</td>\n",
              "      <td>0</td>\n",
              "      <td>0</td>\n",
              "      <td>1</td>\n",
              "      <td>0</td>\n",
              "      <td>0</td>\n",
              "      <td>0</td>\n",
              "      <td>0</td>\n",
              "      <td>0</td>\n",
              "      <td>0</td>\n",
              "      <td>0</td>\n",
              "      <td>0</td>\n",
              "      <td>0</td>\n",
              "      <td>0</td>\n",
              "      <td>0</td>\n",
              "      <td>0</td>\n",
              "      <td>0</td>\n",
              "      <td>0</td>\n",
              "      <td>0</td>\n",
              "      <td>0</td>\n",
              "      <td>0</td>\n",
              "      <td>0</td>\n",
              "      <td>0</td>\n",
              "      <td>0</td>\n",
              "      <td>0</td>\n",
              "      <td>0</td>\n",
              "      <td>0</td>\n",
              "      <td>0</td>\n",
              "      <td>1</td>\n",
              "    </tr>\n",
              "    <tr>\n",
              "      <th>2</th>\n",
              "      <td>12.9</td>\n",
              "      <td>25.7</td>\n",
              "      <td>0.0</td>\n",
              "      <td>46.0</td>\n",
              "      <td>19.0</td>\n",
              "      <td>26.0</td>\n",
              "      <td>38.0</td>\n",
              "      <td>30.0</td>\n",
              "      <td>1007.6</td>\n",
              "      <td>1008.7</td>\n",
              "      <td>21.0</td>\n",
              "      <td>23.2</td>\n",
              "      <td>0</td>\n",
              "      <td>0</td>\n",
              "      <td>0</td>\n",
              "      <td>1</td>\n",
              "      <td>0</td>\n",
              "      <td>0</td>\n",
              "      <td>0</td>\n",
              "      <td>0</td>\n",
              "      <td>0</td>\n",
              "      <td>0</td>\n",
              "      <td>0</td>\n",
              "      <td>0</td>\n",
              "      <td>0</td>\n",
              "      <td>0</td>\n",
              "      <td>0</td>\n",
              "      <td>0</td>\n",
              "      <td>0</td>\n",
              "      <td>0</td>\n",
              "      <td>0</td>\n",
              "      <td>0</td>\n",
              "      <td>0</td>\n",
              "      <td>0</td>\n",
              "      <td>0</td>\n",
              "      <td>0</td>\n",
              "      <td>0</td>\n",
              "      <td>0</td>\n",
              "      <td>0</td>\n",
              "      <td>0</td>\n",
              "      <td>...</td>\n",
              "      <td>0</td>\n",
              "      <td>0</td>\n",
              "      <td>0</td>\n",
              "      <td>0</td>\n",
              "      <td>0</td>\n",
              "      <td>0</td>\n",
              "      <td>0</td>\n",
              "      <td>1</td>\n",
              "      <td>0</td>\n",
              "      <td>0</td>\n",
              "      <td>0</td>\n",
              "      <td>0</td>\n",
              "      <td>0</td>\n",
              "      <td>0</td>\n",
              "      <td>0</td>\n",
              "      <td>0</td>\n",
              "      <td>0</td>\n",
              "      <td>0</td>\n",
              "      <td>0</td>\n",
              "      <td>0</td>\n",
              "      <td>0</td>\n",
              "      <td>1</td>\n",
              "      <td>0</td>\n",
              "      <td>0</td>\n",
              "      <td>0</td>\n",
              "      <td>0</td>\n",
              "      <td>0</td>\n",
              "      <td>0</td>\n",
              "      <td>0</td>\n",
              "      <td>0</td>\n",
              "      <td>0</td>\n",
              "      <td>0</td>\n",
              "      <td>0</td>\n",
              "      <td>0</td>\n",
              "      <td>0</td>\n",
              "      <td>0</td>\n",
              "      <td>0</td>\n",
              "      <td>0</td>\n",
              "      <td>0</td>\n",
              "      <td>1</td>\n",
              "    </tr>\n",
              "    <tr>\n",
              "      <th>3</th>\n",
              "      <td>9.2</td>\n",
              "      <td>28.0</td>\n",
              "      <td>0.0</td>\n",
              "      <td>24.0</td>\n",
              "      <td>11.0</td>\n",
              "      <td>9.0</td>\n",
              "      <td>45.0</td>\n",
              "      <td>16.0</td>\n",
              "      <td>1017.6</td>\n",
              "      <td>1012.8</td>\n",
              "      <td>18.1</td>\n",
              "      <td>26.5</td>\n",
              "      <td>0</td>\n",
              "      <td>0</td>\n",
              "      <td>0</td>\n",
              "      <td>1</td>\n",
              "      <td>0</td>\n",
              "      <td>0</td>\n",
              "      <td>0</td>\n",
              "      <td>0</td>\n",
              "      <td>0</td>\n",
              "      <td>0</td>\n",
              "      <td>0</td>\n",
              "      <td>0</td>\n",
              "      <td>0</td>\n",
              "      <td>0</td>\n",
              "      <td>0</td>\n",
              "      <td>0</td>\n",
              "      <td>0</td>\n",
              "      <td>0</td>\n",
              "      <td>0</td>\n",
              "      <td>0</td>\n",
              "      <td>0</td>\n",
              "      <td>0</td>\n",
              "      <td>0</td>\n",
              "      <td>0</td>\n",
              "      <td>0</td>\n",
              "      <td>0</td>\n",
              "      <td>0</td>\n",
              "      <td>0</td>\n",
              "      <td>...</td>\n",
              "      <td>0</td>\n",
              "      <td>0</td>\n",
              "      <td>0</td>\n",
              "      <td>0</td>\n",
              "      <td>0</td>\n",
              "      <td>0</td>\n",
              "      <td>0</td>\n",
              "      <td>0</td>\n",
              "      <td>0</td>\n",
              "      <td>0</td>\n",
              "      <td>0</td>\n",
              "      <td>0</td>\n",
              "      <td>0</td>\n",
              "      <td>0</td>\n",
              "      <td>0</td>\n",
              "      <td>0</td>\n",
              "      <td>0</td>\n",
              "      <td>1</td>\n",
              "      <td>0</td>\n",
              "      <td>0</td>\n",
              "      <td>0</td>\n",
              "      <td>0</td>\n",
              "      <td>0</td>\n",
              "      <td>0</td>\n",
              "      <td>1</td>\n",
              "      <td>0</td>\n",
              "      <td>0</td>\n",
              "      <td>0</td>\n",
              "      <td>0</td>\n",
              "      <td>0</td>\n",
              "      <td>0</td>\n",
              "      <td>0</td>\n",
              "      <td>0</td>\n",
              "      <td>0</td>\n",
              "      <td>0</td>\n",
              "      <td>0</td>\n",
              "      <td>0</td>\n",
              "      <td>0</td>\n",
              "      <td>0</td>\n",
              "      <td>0</td>\n",
              "    </tr>\n",
              "    <tr>\n",
              "      <th>4</th>\n",
              "      <td>17.5</td>\n",
              "      <td>32.3</td>\n",
              "      <td>1.0</td>\n",
              "      <td>41.0</td>\n",
              "      <td>7.0</td>\n",
              "      <td>20.0</td>\n",
              "      <td>82.0</td>\n",
              "      <td>33.0</td>\n",
              "      <td>1010.8</td>\n",
              "      <td>1006.0</td>\n",
              "      <td>17.8</td>\n",
              "      <td>29.7</td>\n",
              "      <td>0</td>\n",
              "      <td>0</td>\n",
              "      <td>0</td>\n",
              "      <td>1</td>\n",
              "      <td>0</td>\n",
              "      <td>0</td>\n",
              "      <td>0</td>\n",
              "      <td>0</td>\n",
              "      <td>0</td>\n",
              "      <td>0</td>\n",
              "      <td>0</td>\n",
              "      <td>0</td>\n",
              "      <td>0</td>\n",
              "      <td>0</td>\n",
              "      <td>0</td>\n",
              "      <td>0</td>\n",
              "      <td>0</td>\n",
              "      <td>0</td>\n",
              "      <td>0</td>\n",
              "      <td>0</td>\n",
              "      <td>0</td>\n",
              "      <td>0</td>\n",
              "      <td>0</td>\n",
              "      <td>0</td>\n",
              "      <td>0</td>\n",
              "      <td>0</td>\n",
              "      <td>0</td>\n",
              "      <td>0</td>\n",
              "      <td>...</td>\n",
              "      <td>0</td>\n",
              "      <td>0</td>\n",
              "      <td>0</td>\n",
              "      <td>0</td>\n",
              "      <td>0</td>\n",
              "      <td>1</td>\n",
              "      <td>0</td>\n",
              "      <td>0</td>\n",
              "      <td>0</td>\n",
              "      <td>1</td>\n",
              "      <td>0</td>\n",
              "      <td>0</td>\n",
              "      <td>0</td>\n",
              "      <td>0</td>\n",
              "      <td>0</td>\n",
              "      <td>0</td>\n",
              "      <td>0</td>\n",
              "      <td>0</td>\n",
              "      <td>0</td>\n",
              "      <td>0</td>\n",
              "      <td>0</td>\n",
              "      <td>0</td>\n",
              "      <td>0</td>\n",
              "      <td>0</td>\n",
              "      <td>0</td>\n",
              "      <td>0</td>\n",
              "      <td>0</td>\n",
              "      <td>0</td>\n",
              "      <td>0</td>\n",
              "      <td>0</td>\n",
              "      <td>0</td>\n",
              "      <td>1</td>\n",
              "      <td>0</td>\n",
              "      <td>0</td>\n",
              "      <td>0</td>\n",
              "      <td>0</td>\n",
              "      <td>0</td>\n",
              "      <td>0</td>\n",
              "      <td>0</td>\n",
              "      <td>0</td>\n",
              "    </tr>\n",
              "  </tbody>\n",
              "</table>\n",
              "<p>5 rows × 106 columns</p>\n",
              "</div>"
            ],
            "text/plain": [
              "   MinTemp  MaxTemp  Rainfall  ...  WindDir3pm_W  WindDir3pm_WNW  WindDir3pm_WSW\n",
              "0     13.4     22.9       0.6  ...             0               1               0\n",
              "1      7.4     25.1       0.0  ...             0               0               1\n",
              "2     12.9     25.7       0.0  ...             0               0               1\n",
              "3      9.2     28.0       0.0  ...             0               0               0\n",
              "4     17.5     32.3       1.0  ...             0               0               0\n",
              "\n",
              "[5 rows x 106 columns]"
            ]
          },
          "metadata": {
            "tags": []
          },
          "execution_count": 93
        }
      ]
    },
    {
      "cell_type": "code",
      "metadata": {
        "id": "1u4xWPbe43PN"
      },
      "source": [
        "#Scaling the other values\n",
        "scaler = StandardScaler()"
      ],
      "execution_count": 94,
      "outputs": []
    },
    {
      "cell_type": "code",
      "metadata": {
        "id": "FZ-6BHXc5CPz"
      },
      "source": [
        "to_be_scaled = weather_data[[\"MinTemp\", \"MaxTemp\", \"Rainfall\", \"WindGustSpeed\", \"WindSpeed9am\", \"WindSpeed3pm\", \"Humidity9am\", \"Humidity3pm\", \"Pressure9am\", \"Pressure3pm\", \"Temp9am\", \"Temp3pm\"]].copy()"
      ],
      "execution_count": 95,
      "outputs": []
    },
    {
      "cell_type": "code",
      "metadata": {
        "id": "rZgbLNk95HQU"
      },
      "source": [
        "scaled_array = scaler.fit_transform(to_be_scaled)"
      ],
      "execution_count": 96,
      "outputs": []
    },
    {
      "cell_type": "code",
      "metadata": {
        "id": "zTLAx9su7Pnr"
      },
      "source": [
        "scaled = pd.DataFrame(scaled_array, columns = [\"MinTemp_s\", \"MaxTemp_s\", \"Rainfall_s\", \"WindGustSpeed_s\", \"WindSpeed9am_s\", \"WindSpeed3pm_s\", \"Humidity9am_s\", \"Humidity3pm_s\", \"Pressure9am_s\", \"Pressure3pm_s\", \"Temp9am_s\", \"Temp3pm_s\"])"
      ],
      "execution_count": 97,
      "outputs": []
    },
    {
      "cell_type": "code",
      "metadata": {
        "colab": {
          "base_uri": "https://localhost:8080/",
          "height": 226
        },
        "id": "Mp4GnMDb7ZLH",
        "outputId": "c7461701-8965-41f8-a80c-c5a13bcdb0e8"
      },
      "source": [
        "scaled.head()"
      ],
      "execution_count": 98,
      "outputs": [
        {
          "output_type": "execute_result",
          "data": {
            "text/html": [
              "<div>\n",
              "<style scoped>\n",
              "    .dataframe tbody tr th:only-of-type {\n",
              "        vertical-align: middle;\n",
              "    }\n",
              "\n",
              "    .dataframe tbody tr th {\n",
              "        vertical-align: top;\n",
              "    }\n",
              "\n",
              "    .dataframe thead th {\n",
              "        text-align: right;\n",
              "    }\n",
              "</style>\n",
              "<table border=\"1\" class=\"dataframe\">\n",
              "  <thead>\n",
              "    <tr style=\"text-align: right;\">\n",
              "      <th></th>\n",
              "      <th>MinTemp_s</th>\n",
              "      <th>MaxTemp_s</th>\n",
              "      <th>Rainfall_s</th>\n",
              "      <th>WindGustSpeed_s</th>\n",
              "      <th>WindSpeed9am_s</th>\n",
              "      <th>WindSpeed3pm_s</th>\n",
              "      <th>Humidity9am_s</th>\n",
              "      <th>Humidity3pm_s</th>\n",
              "      <th>Pressure9am_s</th>\n",
              "      <th>Pressure3pm_s</th>\n",
              "      <th>Temp9am_s</th>\n",
              "      <th>Temp3pm_s</th>\n",
              "    </tr>\n",
              "  </thead>\n",
              "  <tbody>\n",
              "    <tr>\n",
              "      <th>0</th>\n",
              "      <td>0.117567</td>\n",
              "      <td>-0.108221</td>\n",
              "      <td>-0.206661</td>\n",
              "      <td>0.241214</td>\n",
              "      <td>0.577742</td>\n",
              "      <td>0.524408</td>\n",
              "      <td>0.190140</td>\n",
              "      <td>-1.380413</td>\n",
              "      <td>-1.382962</td>\n",
              "      <td>-1.142455</td>\n",
              "      <td>-0.088435</td>\n",
              "      <td>-0.047870</td>\n",
              "    </tr>\n",
              "    <tr>\n",
              "      <th>1</th>\n",
              "      <td>-0.841802</td>\n",
              "      <td>0.206845</td>\n",
              "      <td>-0.276405</td>\n",
              "      <td>0.241214</td>\n",
              "      <td>-1.339742</td>\n",
              "      <td>0.291310</td>\n",
              "      <td>-1.237561</td>\n",
              "      <td>-1.235963</td>\n",
              "      <td>-0.970598</td>\n",
              "      <td>-1.041848</td>\n",
              "      <td>-0.041228</td>\n",
              "      <td>0.317768</td>\n",
              "    </tr>\n",
              "    <tr>\n",
              "      <th>2</th>\n",
              "      <td>0.037620</td>\n",
              "      <td>0.292772</td>\n",
              "      <td>-0.276405</td>\n",
              "      <td>0.391345</td>\n",
              "      <td>0.457900</td>\n",
              "      <td>0.757507</td>\n",
              "      <td>-1.554828</td>\n",
              "      <td>-0.995214</td>\n",
              "      <td>-1.397181</td>\n",
              "      <td>-0.912497</td>\n",
              "      <td>0.556724</td>\n",
              "      <td>0.156887</td>\n",
              "    </tr>\n",
              "    <tr>\n",
              "      <th>3</th>\n",
              "      <td>-0.553991</td>\n",
              "      <td>0.622159</td>\n",
              "      <td>-0.276405</td>\n",
              "      <td>-1.260094</td>\n",
              "      <td>-0.500842</td>\n",
              "      <td>-1.223831</td>\n",
              "      <td>-1.184683</td>\n",
              "      <td>-1.669313</td>\n",
              "      <td>0.024764</td>\n",
              "      <td>-0.323229</td>\n",
              "      <td>0.100392</td>\n",
              "      <td>0.639531</td>\n",
              "    </tr>\n",
              "    <tr>\n",
              "      <th>4</th>\n",
              "      <td>0.773137</td>\n",
              "      <td>1.237969</td>\n",
              "      <td>-0.160165</td>\n",
              "      <td>0.016018</td>\n",
              "      <td>-0.980214</td>\n",
              "      <td>0.058211</td>\n",
              "      <td>0.771796</td>\n",
              "      <td>-0.850764</td>\n",
              "      <td>-0.942159</td>\n",
              "      <td>-1.300551</td>\n",
              "      <td>0.053185</td>\n",
              "      <td>1.107548</td>\n",
              "    </tr>\n",
              "  </tbody>\n",
              "</table>\n",
              "</div>"
            ],
            "text/plain": [
              "   MinTemp_s  MaxTemp_s  Rainfall_s  ...  Pressure3pm_s  Temp9am_s  Temp3pm_s\n",
              "0   0.117567  -0.108221   -0.206661  ...      -1.142455  -0.088435  -0.047870\n",
              "1  -0.841802   0.206845   -0.276405  ...      -1.041848  -0.041228   0.317768\n",
              "2   0.037620   0.292772   -0.276405  ...      -0.912497   0.556724   0.156887\n",
              "3  -0.553991   0.622159   -0.276405  ...      -0.323229   0.100392   0.639531\n",
              "4   0.773137   1.237969   -0.160165  ...      -1.300551   0.053185   1.107548\n",
              "\n",
              "[5 rows x 12 columns]"
            ]
          },
          "metadata": {
            "tags": []
          },
          "execution_count": 98
        }
      ]
    },
    {
      "cell_type": "code",
      "metadata": {
        "id": "rotb6pMH7qyK"
      },
      "source": [
        "weather_data = pd.concat([weather_data, scaled], axis = 1).reset_index(drop = True)"
      ],
      "execution_count": 99,
      "outputs": []
    },
    {
      "cell_type": "code",
      "metadata": {
        "colab": {
          "base_uri": "https://localhost:8080/"
        },
        "id": "vjBguf8u8dUo",
        "outputId": "d9086857-4204-43a1-88b7-7d281c90c4e1"
      },
      "source": [
        "weather_data.shape"
      ],
      "execution_count": 100,
      "outputs": [
        {
          "output_type": "execute_result",
          "data": {
            "text/plain": [
              "(112925, 118)"
            ]
          },
          "metadata": {
            "tags": []
          },
          "execution_count": 100
        }
      ]
    },
    {
      "cell_type": "code",
      "metadata": {
        "id": "dxgy2ujI7qfi"
      },
      "source": [
        "weather_data = weather_data.drop([\"MinTemp\", \"MaxTemp\", \"Rainfall\", \"WindGustSpeed\", \"WindSpeed9am\", \"WindSpeed3pm\", \"Humidity9am\", \"Humidity3pm\", \"Pressure9am\", \"Pressure3pm\", \"Temp9am\", \"Temp3pm\"], axis = 1)"
      ],
      "execution_count": 101,
      "outputs": []
    },
    {
      "cell_type": "code",
      "metadata": {
        "colab": {
          "base_uri": "https://localhost:8080/"
        },
        "id": "OvQezna87qM4",
        "outputId": "1d24563d-f251-43f0-d252-16ac47ac0223"
      },
      "source": [
        "weather_data.shape"
      ],
      "execution_count": 102,
      "outputs": [
        {
          "output_type": "execute_result",
          "data": {
            "text/plain": [
              "(112925, 106)"
            ]
          },
          "metadata": {
            "tags": []
          },
          "execution_count": 102
        }
      ]
    },
    {
      "cell_type": "code",
      "metadata": {
        "id": "g_lKYNfpSp4t"
      },
      "source": [
        "X = weather_data.drop([\"RainTomorrow\"], axis = 1)\n",
        "y = weather_data[\"RainTomorrow\"]"
      ],
      "execution_count": 103,
      "outputs": []
    },
    {
      "cell_type": "code",
      "metadata": {
        "id": "ltEO1ORYSlvT"
      },
      "source": [
        "X_train, X_test, y_train, y_test = train_test_split(X, y, test_size = 0.2)"
      ],
      "execution_count": 104,
      "outputs": []
    },
    {
      "cell_type": "code",
      "metadata": {
        "colab": {
          "base_uri": "https://localhost:8080/"
        },
        "id": "AVbjU7GnZ2T1",
        "outputId": "ad6fbf6a-ab3f-485c-c3d3-5492917428ec"
      },
      "source": [
        "print(\"My shapes are : \", \"\\n\"\n",
        "      \"X_train : \", X_train.shape, \"\\n\"\n",
        "      \"X_test : \", X_test.shape, \"\\n\"\n",
        "      \"y_train : \", y_train.shape, \"\\n\"\n",
        "      \"y_test : \", y_test.shape)"
      ],
      "execution_count": 105,
      "outputs": [
        {
          "output_type": "stream",
          "text": [
            "My shapes are :  \n",
            "X_train :  (90340, 105) \n",
            "X_test :  (22585, 105) \n",
            "y_train :  (90340,) \n",
            "y_test :  (22585,)\n"
          ],
          "name": "stdout"
        }
      ]
    },
    {
      "cell_type": "markdown",
      "metadata": {
        "id": "GOWiGWJsbgYo"
      },
      "source": [
        "# Time for my deep learning model!"
      ]
    },
    {
      "cell_type": "code",
      "metadata": {
        "id": "wQ41CYr3af15"
      },
      "source": [
        "#Defining a function for my perceptron\n",
        "def perceptron(n_params):\n",
        "    #Model Instanciation\n",
        "    model = Sequential()\n",
        "    \n",
        "    #Layer arc\n",
        "\n",
        "    model.add(Dense(1, input_dim = n_params, activation = 'sigmoid'))\n",
        "\n",
        "    # return the created model\n",
        "    return model "
      ],
      "execution_count": 106,
      "outputs": []
    },
    {
      "cell_type": "code",
      "metadata": {
        "colab": {
          "base_uri": "https://localhost:8080/"
        },
        "id": "_bDyTB4NcpT9",
        "outputId": "1088e4b3-4343-4b2c-9c4e-7d9b3f29f4ea"
      },
      "source": [
        "my_perp = perceptron(X_train.shape[-1])\n",
        "my_perp.compile(optimizer = 'adam', loss = 'binary_crossentropy', metrics = ['accuracy'])\n",
        "fitted_perp = my_perp.fit(X_train, y_train, epochs = 10, validation_data = (X_test, y_test), batch_size = 18)"
      ],
      "execution_count": 107,
      "outputs": [
        {
          "output_type": "stream",
          "text": [
            "Epoch 1/10\n",
            "5019/5019 [==============================] - 9s 2ms/step - loss: 0.4349 - accuracy: 0.8078 - val_loss: 0.3481 - val_accuracy: 0.8529\n",
            "Epoch 2/10\n",
            "5019/5019 [==============================] - 8s 2ms/step - loss: 0.3501 - accuracy: 0.8504 - val_loss: 0.3449 - val_accuracy: 0.8538\n",
            "Epoch 3/10\n",
            "5019/5019 [==============================] - 8s 2ms/step - loss: 0.3458 - accuracy: 0.8516 - val_loss: 0.3434 - val_accuracy: 0.8557\n",
            "Epoch 4/10\n",
            "5019/5019 [==============================] - 9s 2ms/step - loss: 0.3482 - accuracy: 0.8500 - val_loss: 0.3430 - val_accuracy: 0.8549\n",
            "Epoch 5/10\n",
            "5019/5019 [==============================] - 8s 2ms/step - loss: 0.3462 - accuracy: 0.8512 - val_loss: 0.3426 - val_accuracy: 0.8546\n",
            "Epoch 6/10\n",
            "5019/5019 [==============================] - 8s 2ms/step - loss: 0.3469 - accuracy: 0.8527 - val_loss: 0.3419 - val_accuracy: 0.8553\n",
            "Epoch 7/10\n",
            "5019/5019 [==============================] - 8s 2ms/step - loss: 0.3452 - accuracy: 0.8532 - val_loss: 0.3418 - val_accuracy: 0.8553\n",
            "Epoch 8/10\n",
            "5019/5019 [==============================] - 8s 2ms/step - loss: 0.3438 - accuracy: 0.8538 - val_loss: 0.3420 - val_accuracy: 0.8549\n",
            "Epoch 9/10\n",
            "5019/5019 [==============================] - 8s 2ms/step - loss: 0.3456 - accuracy: 0.8523 - val_loss: 0.3418 - val_accuracy: 0.8550\n",
            "Epoch 10/10\n",
            "5019/5019 [==============================] - 7s 1ms/step - loss: 0.3436 - accuracy: 0.8544 - val_loss: 0.3416 - val_accuracy: 0.8553\n"
          ],
          "name": "stdout"
        }
      ]
    },
    {
      "cell_type": "code",
      "metadata": {
        "id": "zNnRGOAp4IHX"
      },
      "source": [
        "def mlp(n_params):\n",
        "  model = Sequential()\n",
        "\n",
        "  #Couches cachees\n",
        "  model.add(Dense(4, input_dim = n_params, activation = 'tanh'))\n",
        "  model.add(Dense(3, activation = 'relu'), kernel_regularizer=tf.keras.regularizers.l2(0.01))\n",
        "  model.add(Dense(4, activation = 'relu'))\n",
        "\n",
        "  #Couche de sortie\n",
        "  model.add(Dense(1, activation = 'sigmoid'))\n",
        "\n",
        "  return model"
      ],
      "execution_count": 110,
      "outputs": []
    },
    {
      "cell_type": "code",
      "metadata": {
        "colab": {
          "base_uri": "https://localhost:8080/"
        },
        "id": "WI6KqW9ZBCY9",
        "outputId": "fc967827-b94a-46a0-ce81-8517a8ee4dd2"
      },
      "source": [
        "my_mlp = perceptron(X_train.shape[-1])\n",
        "my_mlp.compile(optimizer = 'adam', loss = 'binary_crossentropy', metrics = ['accuracy'])\n",
        "fitted_mult_perp = my_mlp.fit(X_train, y_train, epochs = 10, validation_data = (X_test, y_test), batch_size = 18)"
      ],
      "execution_count": 111,
      "outputs": [
        {
          "output_type": "stream",
          "text": [
            "Epoch 1/10\n",
            "5019/5019 [==============================] - 8s 2ms/step - loss: 0.4194 - accuracy: 0.8187 - val_loss: 0.3473 - val_accuracy: 0.8526\n",
            "Epoch 2/10\n",
            "5019/5019 [==============================] - 8s 2ms/step - loss: 0.3483 - accuracy: 0.8503 - val_loss: 0.3443 - val_accuracy: 0.8550\n",
            "Epoch 3/10\n",
            "5019/5019 [==============================] - 9s 2ms/step - loss: 0.3471 - accuracy: 0.8525 - val_loss: 0.3432 - val_accuracy: 0.8562\n",
            "Epoch 4/10\n",
            "5019/5019 [==============================] - 8s 2ms/step - loss: 0.3432 - accuracy: 0.8529 - val_loss: 0.3431 - val_accuracy: 0.8549\n",
            "Epoch 5/10\n",
            "5019/5019 [==============================] - 8s 2ms/step - loss: 0.3482 - accuracy: 0.8515 - val_loss: 0.3427 - val_accuracy: 0.8554\n",
            "Epoch 6/10\n",
            "5019/5019 [==============================] - 8s 2ms/step - loss: 0.3472 - accuracy: 0.8516 - val_loss: 0.3422 - val_accuracy: 0.8547\n",
            "Epoch 7/10\n",
            "5019/5019 [==============================] - 8s 2ms/step - loss: 0.3444 - accuracy: 0.8528 - val_loss: 0.3419 - val_accuracy: 0.8551\n",
            "Epoch 8/10\n",
            "5019/5019 [==============================] - 8s 2ms/step - loss: 0.3443 - accuracy: 0.8512 - val_loss: 0.3422 - val_accuracy: 0.8547\n",
            "Epoch 9/10\n",
            "5019/5019 [==============================] - 8s 2ms/step - loss: 0.3453 - accuracy: 0.8511 - val_loss: 0.3416 - val_accuracy: 0.8556\n",
            "Epoch 10/10\n",
            "5019/5019 [==============================] - 8s 2ms/step - loss: 0.3392 - accuracy: 0.8554 - val_loss: 0.3417 - val_accuracy: 0.8555\n"
          ],
          "name": "stdout"
        }
      ]
    },
    {
      "cell_type": "code",
      "metadata": {
        "colab": {
          "base_uri": "https://localhost:8080/"
        },
        "id": "8iZRHVkfF08g",
        "outputId": "6309f906-2d96-46fe-f420-6ac0f5e8bbfe"
      },
      "source": [
        "my_perp.predict(X_test[0:1])"
      ],
      "execution_count": 115,
      "outputs": [
        {
          "output_type": "execute_result",
          "data": {
            "text/plain": [
              "array([[0.01089031]], dtype=float32)"
            ]
          },
          "metadata": {
            "tags": []
          },
          "execution_count": 115
        }
      ]
    },
    {
      "cell_type": "code",
      "metadata": {
        "colab": {
          "base_uri": "https://localhost:8080/"
        },
        "id": "l5fNfE9CGDVf",
        "outputId": "32be59b7-0fea-4059-9ae1-3f461153bdfc"
      },
      "source": [
        "y_test[0:1]"
      ],
      "execution_count": 117,
      "outputs": [
        {
          "output_type": "execute_result",
          "data": {
            "text/plain": [
              "83764    0\n",
              "Name: RainTomorrow, dtype: int64"
            ]
          },
          "metadata": {
            "tags": []
          },
          "execution_count": 117
        }
      ]
    },
    {
      "cell_type": "code",
      "metadata": {
        "colab": {
          "base_uri": "https://localhost:8080/"
        },
        "id": "3TFOGMxLEj1X",
        "outputId": "b8e73191-4efd-4e26-8b6b-cb043cab92ab"
      },
      "source": [
        "my_mlp.predict(X_test[0:1])"
      ],
      "execution_count": 116,
      "outputs": [
        {
          "output_type": "execute_result",
          "data": {
            "text/plain": [
              "array([[0.01126412]], dtype=float32)"
            ]
          },
          "metadata": {
            "tags": []
          },
          "execution_count": 116
        }
      ]
    },
    {
      "cell_type": "code",
      "metadata": {
        "colab": {
          "base_uri": "https://localhost:8080/"
        },
        "id": "3Bu_z_fJGEj1",
        "outputId": "6bac8dfe-949d-45e6-dd75-8ac91a8da333"
      },
      "source": [
        "y_test[0:1]"
      ],
      "execution_count": 118,
      "outputs": [
        {
          "output_type": "execute_result",
          "data": {
            "text/plain": [
              "83764    0\n",
              "Name: RainTomorrow, dtype: int64"
            ]
          },
          "metadata": {
            "tags": []
          },
          "execution_count": 118
        }
      ]
    }
  ]
}